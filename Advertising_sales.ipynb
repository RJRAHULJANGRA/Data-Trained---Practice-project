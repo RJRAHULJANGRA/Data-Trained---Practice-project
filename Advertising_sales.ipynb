{
 "cells": [
  {
   "cell_type": "markdown",
   "id": "e336d468",
   "metadata": {},
   "source": [
    "# Advertising Sales Project"
   ]
  },
  {
   "cell_type": "code",
   "execution_count": 1,
   "id": "809c0de6",
   "metadata": {},
   "outputs": [],
   "source": [
    "#importing all the required liabraries\n",
    "\n",
    "import numpy as np\n",
    "import pandas as pd\n",
    "import seaborn as sns\n",
    "import matplotlib.pyplot as plt\n",
    "from scipy.stats import zscore\n",
    "from sklearn.linear_model import LogisticRegression\n",
    "from sklearn.naive_bayes import GaussianNB\n",
    "from sklearn.svm import SVC\n",
    "from sklearn.tree import DecisionTreeClassifier,export_graphviz\n",
    "from sklearn.ensemble import RandomForestClassifier\n",
    "from sklearn.preprocessing import LabelEncoder\n",
    "from sklearn.ensemble import AdaBoostClassifier\n",
    "from sklearn.metrics import accuracy_score,confusion_matrix,classification_report,precision_recall_curve,roc_curve\n",
    "from sklearn.preprocessing import MinMaxScaler\n",
    "from sklearn.model_selection import train_test_split\n",
    "from sklearn.preprocessing import PowerTransformer\n",
    "from sklearn.model_selection import cross_val_score\n",
    "import joblib\n",
    "import warnings\n",
    "warnings.filterwarnings('ignore')"
   ]
  },
  {
   "cell_type": "code",
   "execution_count": 3,
   "id": "b64157f9",
   "metadata": {},
   "outputs": [
    {
     "data": {
      "text/html": [
       "<div>\n",
       "<style scoped>\n",
       "    .dataframe tbody tr th:only-of-type {\n",
       "        vertical-align: middle;\n",
       "    }\n",
       "\n",
       "    .dataframe tbody tr th {\n",
       "        vertical-align: top;\n",
       "    }\n",
       "\n",
       "    .dataframe thead th {\n",
       "        text-align: right;\n",
       "    }\n",
       "</style>\n",
       "<table border=\"1\" class=\"dataframe\">\n",
       "  <thead>\n",
       "    <tr style=\"text-align: right;\">\n",
       "      <th></th>\n",
       "      <th>Unnamed: 0</th>\n",
       "      <th>TV</th>\n",
       "      <th>radio</th>\n",
       "      <th>newspaper</th>\n",
       "      <th>sales</th>\n",
       "    </tr>\n",
       "  </thead>\n",
       "  <tbody>\n",
       "    <tr>\n",
       "      <th>0</th>\n",
       "      <td>1</td>\n",
       "      <td>230.1</td>\n",
       "      <td>37.8</td>\n",
       "      <td>69.2</td>\n",
       "      <td>22.1</td>\n",
       "    </tr>\n",
       "    <tr>\n",
       "      <th>1</th>\n",
       "      <td>2</td>\n",
       "      <td>44.5</td>\n",
       "      <td>39.3</td>\n",
       "      <td>45.1</td>\n",
       "      <td>10.4</td>\n",
       "    </tr>\n",
       "    <tr>\n",
       "      <th>2</th>\n",
       "      <td>3</td>\n",
       "      <td>17.2</td>\n",
       "      <td>45.9</td>\n",
       "      <td>69.3</td>\n",
       "      <td>9.3</td>\n",
       "    </tr>\n",
       "    <tr>\n",
       "      <th>3</th>\n",
       "      <td>4</td>\n",
       "      <td>151.5</td>\n",
       "      <td>41.3</td>\n",
       "      <td>58.5</td>\n",
       "      <td>18.5</td>\n",
       "    </tr>\n",
       "    <tr>\n",
       "      <th>4</th>\n",
       "      <td>5</td>\n",
       "      <td>180.8</td>\n",
       "      <td>10.8</td>\n",
       "      <td>58.4</td>\n",
       "      <td>12.9</td>\n",
       "    </tr>\n",
       "  </tbody>\n",
       "</table>\n",
       "</div>"
      ],
      "text/plain": [
       "   Unnamed: 0     TV  radio  newspaper  sales\n",
       "0           1  230.1   37.8       69.2   22.1\n",
       "1           2   44.5   39.3       45.1   10.4\n",
       "2           3   17.2   45.9       69.3    9.3\n",
       "3           4  151.5   41.3       58.5   18.5\n",
       "4           5  180.8   10.8       58.4   12.9"
      ]
     },
     "execution_count": 3,
     "metadata": {},
     "output_type": "execute_result"
    }
   ],
   "source": [
    "#Reading the data\n",
    "\n",
    "df= pd.read_csv(\"Advertisingsales.csv\")\n",
    "df.head()"
   ]
  },
  {
   "cell_type": "code",
   "execution_count": 6,
   "id": "3c799127",
   "metadata": {},
   "outputs": [
    {
     "data": {
      "text/plain": [
       "Index(['Unnamed: 0', 'TV', 'radio', 'newspaper', 'sales'], dtype='object')"
      ]
     },
     "execution_count": 6,
     "metadata": {},
     "output_type": "execute_result"
    }
   ],
   "source": [
    "#columns \n",
    "\n",
    "df.columns"
   ]
  },
  {
   "cell_type": "code",
   "execution_count": 7,
   "id": "fbd55181",
   "metadata": {},
   "outputs": [
    {
     "name": "stdout",
     "output_type": "stream",
     "text": [
      "<class 'pandas.core.frame.DataFrame'>\n",
      "RangeIndex: 200 entries, 0 to 199\n",
      "Data columns (total 5 columns):\n",
      " #   Column      Non-Null Count  Dtype  \n",
      "---  ------      --------------  -----  \n",
      " 0   Unnamed: 0  200 non-null    int64  \n",
      " 1   TV          200 non-null    float64\n",
      " 2   radio       200 non-null    float64\n",
      " 3   newspaper   200 non-null    float64\n",
      " 4   sales       200 non-null    float64\n",
      "dtypes: float64(4), int64(1)\n",
      "memory usage: 7.9 KB\n"
     ]
    }
   ],
   "source": [
    "df.info()"
   ]
  },
  {
   "cell_type": "code",
   "execution_count": 11,
   "id": "0ec0bd9e",
   "metadata": {},
   "outputs": [
    {
     "data": {
      "text/plain": [
       "(200, 5)"
      ]
     },
     "execution_count": 11,
     "metadata": {},
     "output_type": "execute_result"
    }
   ],
   "source": [
    "df.shape"
   ]
  },
  {
   "cell_type": "code",
   "execution_count": 8,
   "id": "a607aa8d",
   "metadata": {},
   "outputs": [
    {
     "data": {
      "text/plain": [
       "Unnamed: 0    0\n",
       "TV            0\n",
       "radio         0\n",
       "newspaper     0\n",
       "sales         0\n",
       "dtype: int64"
      ]
     },
     "execution_count": 8,
     "metadata": {},
     "output_type": "execute_result"
    }
   ],
   "source": [
    "#Null values or not \n",
    "\n",
    "df.isnull().sum()"
   ]
  },
  {
   "cell_type": "markdown",
   "id": "573d664c",
   "metadata": {},
   "source": [
    "There is no null value present in the dataset , we can also check the same through heatmap ."
   ]
  },
  {
   "cell_type": "code",
   "execution_count": 9,
   "id": "fcd34fbe",
   "metadata": {},
   "outputs": [
    {
     "data": {
      "text/plain": [
       "<AxesSubplot:>"
      ]
     },
     "execution_count": 9,
     "metadata": {},
     "output_type": "execute_result"
    },
    {
     "data": {
      "image/png": "[encoded data removed]",
      "text/plain": [
       "<Figure size 432x288 with 2 Axes>"
      ]
     },
     "metadata": {
      "needs_background": "light"
     },
     "output_type": "display_data"
    }
   ],
   "source": [
    "sns.heatmap(df.isnull())"
   ]
  },
  {
   "cell_type": "markdown",
   "id": "90c8ee02",
   "metadata": {},
   "source": [
    "So, there is no null value , we can proceed further for visualization part . "
   ]
  },
  {
   "cell_type": "markdown",
   "id": "f7d7d6fc",
   "metadata": {},
   "source": [
    "# Data Visualization "
   ]
  },
  {
   "cell_type": "code",
   "execution_count": 12,
   "id": "0e7f2231",
   "metadata": {},
   "outputs": [
    {
     "data": {
      "text/plain": [
       "<AxesSubplot:xlabel='TV', ylabel='sales'>"
      ]
     },
     "execution_count": 12,
     "metadata": {},
     "output_type": "execute_result"
    },
    {
     "data": {
      "image/png": "[encoded data removed]",
      "text/plain": [
       "<Figure size 432x288 with 1 Axes>"
      ]
     },
     "metadata": {
      "needs_background": "light"
     },
     "output_type": "display_data"
    }
   ],
   "source": [
    "#To check the relationship of feature columns with target column i.e. sales\n",
    "\n",
    "sns.scatterplot(x=\"TV\",y=\"sales\",data=df,hue=\"TV\")"
   ]
  },
  {
   "cell_type": "code",
   "execution_count": 13,
   "id": "06964211",
   "metadata": {},
   "outputs": [
    {
     "data": {
      "text/plain": [
       "<AxesSubplot:xlabel='radio', ylabel='sales'>"
      ]
     },
     "execution_count": 13,
     "metadata": {},
     "output_type": "execute_result"
    },
    {
     "data": {
      "image/png": "[encoded data removed]",
      "text/plain": [
       "<Figure size 432x288 with 1 Axes>"
      ]
     },
     "metadata": {
      "needs_background": "light"
     },
     "output_type": "display_data"
    }
   ],
   "source": [
    "sns.scatterplot(x=\"radio\",y=\"sales\",data=df,hue=\"radio\")"
   ]
  },
  {
   "cell_type": "code",
   "execution_count": 14,
   "id": "33f15c46",
   "metadata": {},
   "outputs": [
    {
     "data": {
      "text/plain": [
       "<AxesSubplot:xlabel='newspaper', ylabel='sales'>"
      ]
     },
     "execution_count": 14,
     "metadata": {},
     "output_type": "execute_result"
    },
    {
     "data": {
      "image/png": "[encoded data removed]",
      "text/plain": [
       "<Figure size 432x288 with 1 Axes>"
      ]
     },
     "metadata": {
      "needs_background": "light"
     },
     "output_type": "display_data"
    }
   ],
   "source": [
    "sns.scatterplot(x=\"newspaper\",y=\"sales\",data=df,hue=\"newspaper\")"
   ]
  },
  {
   "cell_type": "code",
   "execution_count": 18,
   "id": "10b1ec47",
   "metadata": {},
   "outputs": [
    {
     "data": {
      "text/html": [
       "<div>\n",
       "<style scoped>\n",
       "    .dataframe tbody tr th:only-of-type {\n",
       "        vertical-align: middle;\n",
       "    }\n",
       "\n",
       "    .dataframe tbody tr th {\n",
       "        vertical-align: top;\n",
       "    }\n",
       "\n",
       "    .dataframe thead th {\n",
       "        text-align: right;\n",
       "    }\n",
       "</style>\n",
       "<table border=\"1\" class=\"dataframe\">\n",
       "  <thead>\n",
       "    <tr style=\"text-align: right;\">\n",
       "      <th></th>\n",
       "      <th>Unnamed: 0</th>\n",
       "      <th>TV</th>\n",
       "      <th>radio</th>\n",
       "      <th>newspaper</th>\n",
       "      <th>sales</th>\n",
       "    </tr>\n",
       "  </thead>\n",
       "  <tbody>\n",
       "    <tr>\n",
       "      <th>Unnamed: 0</th>\n",
       "      <td>1.000000</td>\n",
       "      <td>0.017715</td>\n",
       "      <td>-0.110680</td>\n",
       "      <td>-0.154944</td>\n",
       "      <td>-0.051616</td>\n",
       "    </tr>\n",
       "    <tr>\n",
       "      <th>TV</th>\n",
       "      <td>0.017715</td>\n",
       "      <td>1.000000</td>\n",
       "      <td>0.054809</td>\n",
       "      <td>0.056648</td>\n",
       "      <td>0.782224</td>\n",
       "    </tr>\n",
       "    <tr>\n",
       "      <th>radio</th>\n",
       "      <td>-0.110680</td>\n",
       "      <td>0.054809</td>\n",
       "      <td>1.000000</td>\n",
       "      <td>0.354104</td>\n",
       "      <td>0.576223</td>\n",
       "    </tr>\n",
       "    <tr>\n",
       "      <th>newspaper</th>\n",
       "      <td>-0.154944</td>\n",
       "      <td>0.056648</td>\n",
       "      <td>0.354104</td>\n",
       "      <td>1.000000</td>\n",
       "      <td>0.228299</td>\n",
       "    </tr>\n",
       "    <tr>\n",
       "      <th>sales</th>\n",
       "      <td>-0.051616</td>\n",
       "      <td>0.782224</td>\n",
       "      <td>0.576223</td>\n",
       "      <td>0.228299</td>\n",
       "      <td>1.000000</td>\n",
       "    </tr>\n",
       "  </tbody>\n",
       "</table>\n",
       "</div>"
      ],
      "text/plain": [
       "            Unnamed: 0        TV     radio  newspaper     sales\n",
       "Unnamed: 0    1.000000  0.017715 -0.110680  -0.154944 -0.051616\n",
       "TV            0.017715  1.000000  0.054809   0.056648  0.782224\n",
       "radio        -0.110680  0.054809  1.000000   0.354104  0.576223\n",
       "newspaper    -0.154944  0.056648  0.354104   1.000000  0.228299\n",
       "sales        -0.051616  0.782224  0.576223   0.228299  1.000000"
      ]
     },
     "execution_count": 18,
     "metadata": {},
     "output_type": "execute_result"
    }
   ],
   "source": [
    "#correlation \n",
    "\n",
    "df_corr= df.corr()\n",
    "df_corr"
   ]
  },
  {
   "cell_type": "markdown",
   "id": "1e07b8ca",
   "metadata": {},
   "source": [
    "Unmamed 0 is negatively correlated with sales , and TV is highly positive correlated with sales , Rest are also positive correlated with sales ."
   ]
  },
  {
   "cell_type": "code",
   "execution_count": 21,
   "id": "459ac1e6",
   "metadata": {},
   "outputs": [
    {
     "data": {
      "text/plain": [
       "<AxesSubplot:>"
      ]
     },
     "execution_count": 21,
     "metadata": {},
     "output_type": "execute_result"
    },
    {
     "data": {
      "image/png": "[encoded data removed]",
      "text/plain": [
       "<Figure size 720x576 with 2 Axes>"
      ]
     },
     "metadata": {
      "needs_background": "light"
     },
     "output_type": "display_data"
    }
   ],
   "source": [
    "plt.figure(figsize=(10,8))\n",
    "sns.heatmap(df_corr, annot= True)"
   ]
  },
  {
   "cell_type": "markdown",
   "id": "0ee7404e",
   "metadata": {},
   "source": [
    "The more the light colour , high the positive correlated . Darker the color , negative the correlation ."
   ]
  },
  {
   "cell_type": "code",
   "execution_count": 26,
   "id": "df127483",
   "metadata": {},
   "outputs": [
    {
     "data": {
      "text/html": [
       "<div>\n",
       "<style scoped>\n",
       "    .dataframe tbody tr th:only-of-type {\n",
       "        vertical-align: middle;\n",
       "    }\n",
       "\n",
       "    .dataframe tbody tr th {\n",
       "        vertical-align: top;\n",
       "    }\n",
       "\n",
       "    .dataframe thead th {\n",
       "        text-align: right;\n",
       "    }\n",
       "</style>\n",
       "<table border=\"1\" class=\"dataframe\">\n",
       "  <thead>\n",
       "    <tr style=\"text-align: right;\">\n",
       "      <th></th>\n",
       "      <th>Unnamed: 0</th>\n",
       "      <th>TV</th>\n",
       "      <th>radio</th>\n",
       "      <th>newspaper</th>\n",
       "      <th>sales</th>\n",
       "    </tr>\n",
       "  </thead>\n",
       "  <tbody>\n",
       "    <tr>\n",
       "      <th>count</th>\n",
       "      <td>200.000000</td>\n",
       "      <td>200.000000</td>\n",
       "      <td>200.000000</td>\n",
       "      <td>200.000000</td>\n",
       "      <td>200.000000</td>\n",
       "    </tr>\n",
       "    <tr>\n",
       "      <th>mean</th>\n",
       "      <td>100.500000</td>\n",
       "      <td>147.042500</td>\n",
       "      <td>23.264000</td>\n",
       "      <td>30.554000</td>\n",
       "      <td>14.022500</td>\n",
       "    </tr>\n",
       "    <tr>\n",
       "      <th>std</th>\n",
       "      <td>57.879185</td>\n",
       "      <td>85.854236</td>\n",
       "      <td>14.846809</td>\n",
       "      <td>21.778621</td>\n",
       "      <td>5.217457</td>\n",
       "    </tr>\n",
       "    <tr>\n",
       "      <th>min</th>\n",
       "      <td>1.000000</td>\n",
       "      <td>0.700000</td>\n",
       "      <td>0.000000</td>\n",
       "      <td>0.300000</td>\n",
       "      <td>1.600000</td>\n",
       "    </tr>\n",
       "    <tr>\n",
       "      <th>25%</th>\n",
       "      <td>50.750000</td>\n",
       "      <td>74.375000</td>\n",
       "      <td>9.975000</td>\n",
       "      <td>12.750000</td>\n",
       "      <td>10.375000</td>\n",
       "    </tr>\n",
       "    <tr>\n",
       "      <th>50%</th>\n",
       "      <td>100.500000</td>\n",
       "      <td>149.750000</td>\n",
       "      <td>22.900000</td>\n",
       "      <td>25.750000</td>\n",
       "      <td>12.900000</td>\n",
       "    </tr>\n",
       "    <tr>\n",
       "      <th>75%</th>\n",
       "      <td>150.250000</td>\n",
       "      <td>218.825000</td>\n",
       "      <td>36.525000</td>\n",
       "      <td>45.100000</td>\n",
       "      <td>17.400000</td>\n",
       "    </tr>\n",
       "    <tr>\n",
       "      <th>max</th>\n",
       "      <td>200.000000</td>\n",
       "      <td>296.400000</td>\n",
       "      <td>49.600000</td>\n",
       "      <td>114.000000</td>\n",
       "      <td>27.000000</td>\n",
       "    </tr>\n",
       "  </tbody>\n",
       "</table>\n",
       "</div>"
      ],
      "text/plain": [
       "       Unnamed: 0          TV       radio   newspaper       sales\n",
       "count  200.000000  200.000000  200.000000  200.000000  200.000000\n",
       "mean   100.500000  147.042500   23.264000   30.554000   14.022500\n",
       "std     57.879185   85.854236   14.846809   21.778621    5.217457\n",
       "min      1.000000    0.700000    0.000000    0.300000    1.600000\n",
       "25%     50.750000   74.375000    9.975000   12.750000   10.375000\n",
       "50%    100.500000  149.750000   22.900000   25.750000   12.900000\n",
       "75%    150.250000  218.825000   36.525000   45.100000   17.400000\n",
       "max    200.000000  296.400000   49.600000  114.000000   27.000000"
      ]
     },
     "execution_count": 26,
     "metadata": {},
     "output_type": "execute_result"
    }
   ],
   "source": [
    "df.describe()"
   ]
  },
  {
   "cell_type": "code",
   "execution_count": 22,
   "id": "f68bdd61",
   "metadata": {},
   "outputs": [
    {
     "data": {
      "text/plain": [
       "<AxesSubplot:>"
      ]
     },
     "execution_count": 22,
     "metadata": {},
     "output_type": "execute_result"
    },
    {
     "data": {
      "image/png": "[encoded data removed]",
      "text/plain": [
       "<Figure size 432x288 with 1 Axes>"
      ]
     },
     "metadata": {
      "needs_background": "light"
     },
     "output_type": "display_data"
    }
   ],
   "source": [
    "#Checking the outliers of each column \n",
    "df['TV'].plot.box()\n"
   ]
  },
  {
   "cell_type": "code",
   "execution_count": 23,
   "id": "b0396a5e",
   "metadata": {},
   "outputs": [
    {
     "data": {
      "text/plain": [
       "<AxesSubplot:>"
      ]
     },
     "execution_count": 23,
     "metadata": {},
     "output_type": "execute_result"
    },
    {
     "data": {
      "image/png": "[encoded data removed]",
      "text/plain": [
       "<Figure size 432x288 with 1 Axes>"
      ]
     },
     "metadata": {
      "needs_background": "light"
     },
     "output_type": "display_data"
    }
   ],
   "source": [
    "df['radio'].plot.box()"
   ]
  },
  {
   "cell_type": "code",
   "execution_count": 24,
   "id": "2ead6afb",
   "metadata": {},
   "outputs": [
    {
     "data": {
      "text/plain": [
       "<AxesSubplot:>"
      ]
     },
     "execution_count": 24,
     "metadata": {},
     "output_type": "execute_result"
    },
    {
     "data": {
      "image/png": "[encoded data removed]",
      "text/plain": [
       "<Figure size 432x288 with 1 Axes>"
      ]
     },
     "metadata": {
      "needs_background": "light"
     },
     "output_type": "display_data"
    }
   ],
   "source": [
    "df['newspaper'].plot.box()"
   ]
  },
  {
   "cell_type": "code",
   "execution_count": 25,
   "id": "ef80f42a",
   "metadata": {},
   "outputs": [
    {
     "data": {
      "text/plain": [
       "<AxesSubplot:>"
      ]
     },
     "execution_count": 25,
     "metadata": {},
     "output_type": "execute_result"
    },
    {
     "data": {
      "image/png": "[encoded data removed]",
      "text/plain": [
       "<Figure size 432x288 with 1 Axes>"
      ]
     },
     "metadata": {
      "needs_background": "light"
     },
     "output_type": "display_data"
    }
   ],
   "source": [
    "df['sales'].plot.box()"
   ]
  },
  {
   "cell_type": "markdown",
   "id": "0fd2e624",
   "metadata": {},
   "source": [
    "Box plot observations:\n",
    "    \n",
    "    There is outlier in newspaper columns , which we can remove ."
   ]
  },
  {
   "cell_type": "markdown",
   "id": "cf96a5b8",
   "metadata": {},
   "source": [
    "## Outliers"
   ]
  },
  {
   "cell_type": "code",
   "execution_count": 27,
   "id": "cb382c6e",
   "metadata": {},
   "outputs": [
    {
     "data": {
      "text/plain": [
       "array([[1.72341210e+00, 9.69852266e-01, 9.81522472e-01, 1.77894547e+00,\n",
       "        1.55205313e+00],\n",
       "       [1.70609137e+00, 1.19737623e+00, 1.08280781e+00, 6.69578760e-01,\n",
       "        6.96046111e-01],\n",
       "       [1.68877065e+00, 1.51615499e+00, 1.52846331e+00, 1.78354865e+00,\n",
       "        9.07405869e-01],\n",
       "       [1.67144992e+00, 5.20496822e-02, 1.21785493e+00, 1.28640506e+00,\n",
       "        8.60330287e-01],\n",
       "       [1.65412920e+00, 3.94182198e-01, 8.41613655e-01, 1.28180188e+00,\n",
       "        2.15683025e-01],\n",
       "       [1.63680847e+00, 1.61540845e+00, 1.73103399e+00, 2.04592999e+00,\n",
       "        1.31091086e+00],\n",
       "       [1.61948775e+00, 1.04557682e+00, 6.43904671e-01, 3.24708413e-01,\n",
       "        4.27042783e-01],\n",
       "       [1.60216702e+00, 3.13436589e-01, 2.47406325e-01, 8.72486994e-01,\n",
       "        1.58039455e-01],\n",
       "       [1.58484630e+00, 1.61657614e+00, 1.42906863e+00, 1.36042422e+00,\n",
       "        1.77205942e+00],\n",
       "       [1.56752558e+00, 6.16042873e-01, 1.39530685e+00, 4.30581584e-01,\n",
       "        6.57617064e-01],\n",
       "       [1.55020485e+00, 9.45155670e-01, 1.17923146e+00, 2.92486143e-01,\n",
       "        1.04190753e+00],\n",
       "       [1.53288413e+00, 7.90028350e-01, 4.96973404e-02, 1.22232878e+00,\n",
       "        6.48970529e-01],\n",
       "       [1.51556340e+00, 1.43908760e+00, 7.99208859e-01, 1.62704048e+00,\n",
       "        9.26620392e-01],\n",
       "       [1.49824268e+00, 5.78501712e-01, 1.05768905e+00, 1.07502697e+00,\n",
       "        8.30547775e-01],\n",
       "       [1.48092195e+00, 6.66253447e-01, 6.50657027e-01, 7.11007392e-01,\n",
       "        9.56402904e-01],\n",
       "       [1.46360123e+00, 5.64664612e-01, 1.65000572e+00, 1.02862691e+00,\n",
       "        1.60969670e+00],\n",
       "       [1.44628050e+00, 9.25304978e-01, 9.00494200e-01, 3.84117072e+00,\n",
       "        2.92541119e-01],\n",
       "       [1.42895978e+00, 1.56887609e+00, 1.10306488e+00, 1.16211917e+00,\n",
       "        1.99398717e+00],\n",
       "       [1.41163905e+00, 9.08957349e-01, 1.86635121e-01, 5.64073843e-01,\n",
       "        5.23115400e-01],\n",
       "       [1.39431833e+00, 3.00679600e-03, 4.29449843e-02, 5.27248393e-01,\n",
       "        1.10963873e-01],\n",
       "       [1.37699760e+00, 8.33232798e-01, 2.99534513e-01, 1.05164281e+00,\n",
       "        7.64257669e-01],\n",
       "       [1.35967688e+00, 1.05509347e+00, 1.22649795e+00, 3.24708413e-01,\n",
       "        2.92541119e-01],\n",
       "       [1.34235616e+00, 1.56286250e+00, 4.97243498e-01, 8.76721921e-01,\n",
       "        1.61834324e+00],\n",
       "       [1.32503543e+00, 9.48833887e-01, 4.29719938e-01, 2.00422516e-01,\n",
       "        2.83894584e-01],\n",
       "       [1.30771471e+00, 9.89527805e-01, 7.20071247e-01, 5.64073843e-01,\n",
       "        8.30547775e-01],\n",
       "       [1.29039398e+00, 1.35285385e+00, 1.33453565e+00, 5.08835667e-01,\n",
       "        3.88613736e-01],\n",
       "       [1.27307326e+00, 4.83714657e-02, 4.07572210e-01, 8.26455181e-01,\n",
       "        1.87821967e-01],\n",
       "       [1.25575253e+00, 1.08662104e+00, 4.43224650e-01, 3.52327501e-01,\n",
       "        3.60752677e-01],\n",
       "       [1.23843181e+00, 1.18820988e+00, 2.59020377e-01, 3.52327501e-01,\n",
       "        9.37188380e-01],\n",
       "       [1.22111108e+00, 8.92609721e-01, 4.90491142e-01, 4.71641962e-01,\n",
       "        6.76831588e-01],\n",
       "       [1.20379036e+00, 1.70316018e+00, 3.40048650e-01, 5.82118314e-01,\n",
       "        1.41755147e+00],\n",
       "       [1.18646963e+00, 3.98677796e-01, 3.95958157e-01, 3.70371972e-01,\n",
       "        4.07828260e-01],\n",
       "       [1.16914891e+00, 5.82004775e-01, 1.46958277e+00, 2.55016247e-02,\n",
       "        8.49762299e-01],\n",
       "       [1.15182818e+00, 1.38438142e+00, 2.20396901e-01, 1.39264649e+00,\n",
       "        6.48970529e-01],\n",
       "       [1.13450746e+00, 5.99520091e-01, 1.47633512e+00, 1.06582061e+00,\n",
       "        8.68976822e-01],\n",
       "       [1.11718674e+00, 1.67747105e+00, 1.29402151e+00, 1.01518562e+00,\n",
       "        2.34897549e-01],\n",
       "       [1.09986601e+00, 1.39956136e+00, 1.38666383e+00, 1.17629696e+00,\n",
       "        2.18613240e+00],\n",
       "       [1.08254529e+00, 8.44734522e-01, 1.76479577e+00, 6.97197848e-01,\n",
       "        1.30178396e-01],\n",
       "       [1.06522456e+00, 1.21372386e+00, 2.32010953e-01, 2.09260624e-01,\n",
       "        7.53689682e-01],\n",
       "       [1.04790384e+00, 9.45330823e-01, 9.74770116e-01, 6.65620024e-02,\n",
       "        1.43676599e+00],\n",
       "       [1.03058311e+00, 6.47570443e-01, 6.50927121e-02, 4.81492770e-02,\n",
       "        4.95254341e-01],\n",
       "       [1.01326239e+00, 3.49810063e-01, 6.84418807e-01, 3.74975153e-01,\n",
       "        5.91326959e-01],\n",
       "       [9.95941664e-01, 1.71133400e+00, 2.99534513e-01, 1.32359877e+00,\n",
       "        1.28304980e+00],\n",
       "       [9.78620939e-01, 6.98948705e-01, 1.00367020e+00, 1.91216154e-01,\n",
       "        2.15683025e-01],\n",
       "       [9.61300215e-01, 1.42390765e+00, 1.64487393e-01, 5.86721496e-01,\n",
       "        1.06112206e+00],\n",
       "       [9.43979490e-01, 3.27623995e-01, 5.15880000e-02, 4.35460956e-02,\n",
       "        1.68607443e-01],\n",
       "       [9.26658765e-01, 6.69581357e-01, 9.02384859e-01, 2.36879713e-01,\n",
       "        6.57617064e-01],\n",
       "       [9.09338041e-01, 1.08428567e+00, 1.23135965e+00, 5.54867481e-01,\n",
       "        1.76341289e+00],\n",
       "       [8.92017316e-01, 9.35989321e-01, 5.03995854e-01, 8.90531465e-01,\n",
       "        1.49392920e-01],\n",
       "       [8.74696592e-01, 9.35814168e-01, 7.80842451e-01, 2.87514708e-01,\n",
       "        8.30547775e-01],\n",
       "       [8.57375867e-01, 6.16042873e-01, 1.36154507e+00, 1.86244718e-01,\n",
       "        5.03900877e-01],\n",
       "       [8.40055142e-01, 5.44638766e-01, 9.22641928e-01, 1.24074150e+00,\n",
       "        6.38402541e-01],\n",
       "       [8.22734418e-01, 8.09879042e-01, 1.24486436e+00, 4.16403786e-01,\n",
       "        1.64812575e+00],\n",
       "       [8.05413693e-01, 4.15200577e-01, 1.54872038e+00, 1.29561142e+00,\n",
       "        1.37912242e+00],\n",
       "       [7.88092969e-01, 1.35051848e+00, 3.73810430e-01, 6.74550196e-01,\n",
       "        1.18697718e+00],\n",
       "       [7.70772244e-01, 6.05533683e-01, 1.76479577e+00, 1.35545278e+00,\n",
       "        1.85948550e+00],\n",
       "       [7.53451519e-01, 1.63175608e+00, 3.26543937e-01, 4.99261050e-01,\n",
       "        1.63755776e+00],\n",
       "       [7.36130795e-01, 1.26606546e-01, 2.74415749e-01, 6.42327927e-01,\n",
       "        1.58039455e-01],\n",
       "       [7.18810070e-01, 7.44488528e-01, 1.77830048e+00, 3.28943340e-01,\n",
       "        1.87870003e+00],\n",
       "       [7.01489346e-01, 7.43320840e-01, 4.21076922e-01, 9.78360166e-01,\n",
       "        8.41115763e-01],\n",
       "       [6.84168621e-01, 1.09228433e+00, 1.43582099e+00, 4.21375221e-01,\n",
       "        1.13798015e+00],\n",
       "       [6.66847897e-01, 1.33417085e+00, 1.31238792e+00, 1.11148417e+00,\n",
       "        1.95555812e+00],\n",
       "       [6.49527172e-01, 1.07727954e+00, 5.24252922e-01, 1.49787521e-01,\n",
       "        3.22323631e-01],\n",
       "       [6.32206447e-01, 5.17781948e-01, 4.27829278e-01, 1.01978880e+00,\n",
       "        4.32326777e-03],\n",
       "       [6.14885723e-01, 1.86158622e-01, 1.31914027e+00, 7.61366196e-02,\n",
       "        7.64257669e-01],\n",
       "       [5.97564998e-01, 9.11292725e-01, 9.42898996e-01, 1.36502740e+00,\n",
       "        9.07405869e-01],\n",
       "       [5.80244274e-01, 1.34917564e+00, 9.02114765e-02, 1.30518604e+00,\n",
       "        8.68976822e-01],\n",
       "       [5.62923549e-01, 9.04082253e-02, 5.91776482e-01, 9.36931533e-01,\n",
       "        1.19610408e-01],\n",
       "       [5.45602824e-01, 1.05509347e+00, 2.86029801e-01, 9.00106083e-01,\n",
       "        9.37188380e-01],\n",
       "       [5.28282100e-01, 8.14549794e-01, 1.39341619e+00, 1.54390703e-01,\n",
       "        1.59048218e+00],\n",
       "       [5.10961375e-01, 6.07869059e-01, 4.95352838e-01, 3.74975153e-01,\n",
       "        8.21901240e-01],\n",
       "       [4.93640651e-01, 4.34876116e-01, 6.05281194e-01, 5.27524584e-02,\n",
       "        3.11755643e-01],\n",
       "       [4.76319926e-01, 1.40405696e+00, 6.57409383e-01, 5.18042030e-01,\n",
       "        1.00347849e+00],\n",
       "       [4.58999202e-01, 2.06009314e-01, 1.18598381e+00, 3.43397329e-02,\n",
       "        5.80758971e-01],\n",
       "       [4.41678477e-01, 7.74848409e-01, 9.02114765e-02, 8.03439274e-01,\n",
       "        5.72112435e-01],\n",
       "       [4.24357752e-01, 1.51965805e+00, 1.37991148e+00, 2.70878810e+00,\n",
       "        1.02269301e+00],\n",
       "       [4.07037028e-01, 1.39588315e+00, 1.46283041e+00, 4.53597491e-01,\n",
       "        1.36855443e+00],\n",
       "       [3.89716303e-01, 3.09933525e-01, 3.53553362e-01, 7.52804279e-01,\n",
       "        3.41057791e-02],\n",
       "       [3.72395579e-01, 1.65394214e+00, 4.48086346e-01, 9.73756984e-01,\n",
       "        1.67598681e+00],\n",
       "       [3.55074854e-01, 3.62479475e-01, 1.05093669e+00, 3.43121138e-01,\n",
       "        5.80758971e-01],\n",
       "       [3.37754129e-01, 8.24883830e-01, 2.32010953e-01, 3.79946589e-01,\n",
       "        4.27042783e-01],\n",
       "       [3.20433405e-01, 1.08311798e+00, 1.29402151e+00, 2.92117889e-01,\n",
       "        3.30970166e-01],\n",
       "       [3.03112680e-01, 8.37728396e-01, 2.00139833e-01, 8.95779092e-02,\n",
       "        5.23115400e-01],\n",
       "       [2.85791956e-01, 9.18298852e-01, 1.43393033e+00, 2.32276531e-01,\n",
       "        8.11813615e-02],\n",
       "       [2.68471231e-01, 7.76016097e-01, 1.33264499e+00, 1.49419267e-01,\n",
       "        1.47519504e+00],\n",
       "       [2.51150506e-01, 5.38975481e-01, 3.28434597e-01, 1.61783412e+00,\n",
       "        2.26251013e-01],\n",
       "       [2.33829782e-01, 8.26051518e-01, 2.86029801e-01, 6.69947015e-01,\n",
       "        3.88613736e-01],\n",
       "       [2.16509057e-01, 4.24366926e-01, 1.17058844e+00, 1.50275459e+00,\n",
       "        3.79967201e-01],\n",
       "       [1.99188333e-01, 6.85928986e-01, 1.50982681e-01, 1.97227908e+00,\n",
       "        2.15683025e-01],\n",
       "       [1.81867608e-01, 4.34876116e-01, 1.65675807e+00, 9.59579186e-01,\n",
       "        5.14468865e-01],\n",
       "       [1.64546884e-01, 1.48792614e-01, 1.24000266e+00, 9.78360166e-01,\n",
       "        5.42329924e-01],\n",
       "       [1.47226159e-01, 1.38303858e+00, 1.46958277e+00, 1.12593816e-01,\n",
       "        1.29169634e+00],\n",
       "       [1.29905434e-01, 8.25058983e-01, 6.91171163e-01, 1.30942097e+00,\n",
       "        1.03326100e+00],\n",
       "       [1.12584710e-01, 1.21273132e+00, 8.93741844e-01, 1.92164409e+00,\n",
       "        1.57126765e+00],\n",
       "       [9.52639852e-02, 4.62900623e-01, 6.25538262e-01, 9.04709264e-01,\n",
       "        4.84686354e-01],\n",
       "       [7.79432606e-02, 1.89836839e-01, 5.62876398e-01, 1.02862691e+00,\n",
       "        5.52897912e-01],\n",
       "       [6.06225361e-02, 5.90353742e-01, 1.33453565e+00, 1.13486833e+00,\n",
       "        4.46257307e-01],\n",
       "       [4.33018115e-02, 4.42057396e-01, 1.52873340e-01, 3.93756133e-01,\n",
       "        2.83894584e-01],\n",
       "       [2.59810869e-02, 1.66579418e+00, 1.28537849e+00, 9.50372823e-01,\n",
       "        2.18613240e+00],\n",
       "       [8.66036229e-03, 1.38283424e-01, 1.24486436e+00, 7.06404211e-01,\n",
       "        6.10541482e-01],\n",
       "       [8.66036229e-03, 8.79940308e-01, 1.28051680e+00, 8.85928284e-01,\n",
       "        4.46257307e-01],\n",
       "       [2.59810869e-02, 1.74402926e+00, 8.80237132e-01, 3.23815396e+00,\n",
       "        1.87870003e+00],\n",
       "       [4.33018115e-02, 1.55486384e+00, 8.88880147e-01, 4.21375221e-01,\n",
       "        1.49392920e-01],\n",
       "       [6.06225361e-02, 4.77088029e-01, 4.09462869e-01, 5.82486569e-01,\n",
       "        1.30178396e-01],\n",
       "       [7.79432606e-02, 1.06443498e+00, 7.45190011e-01, 1.16248742e+00,\n",
       "        1.28304980e+00],\n",
       "       [9.52639852e-02, 1.06755854e-01, 1.56222509e+00, 1.30942097e+00,\n",
       "        9.94831951e-01],\n",
       "       [1.12584710e-01, 1.42507534e+00, 8.28108943e-01, 3.93111688e-02,\n",
       "        1.31091086e+00],\n",
       "       [1.29905434e-01, 6.61407543e-01, 1.55061104e+00, 3.38517957e-01,\n",
       "        1.02269301e+00],\n",
       "       [1.47226159e-01, 1.56403019e+00, 1.54385868e+00, 2.28041604e-01,\n",
       "        1.67598681e+00],\n",
       "       [1.64546884e-01, 1.26527727e+00, 2.45515665e-01, 1.15328106e+00,\n",
       "        1.11011909e+00],\n",
       "       [1.81867608e-01, 9.19641692e-01, 1.01717491e+00, 1.19434143e+00,\n",
       "        1.19610408e-01],\n",
       "       [1.99188333e-01, 1.10530405e+00, 9.95027184e-01, 3.38517957e-01,\n",
       "        1.49440956e+00],\n",
       "       [2.16509057e-01, 3.34630122e-01, 5.31005278e-01, 1.29597968e+00,\n",
       "        1.48912557e-02],\n",
       "       [2.33829782e-01, 7.30476274e-01, 1.79882765e-01, 9.13915627e-01,\n",
       "        3.60752677e-01],\n",
       "       [2.51150506e-01, 8.03865450e-01, 1.58923451e+00, 1.81641536e-01,\n",
       "        1.10963873e-01],\n",
       "       [2.68471231e-01, 8.40063771e-01, 7.92456503e-01, 1.01942054e+00,\n",
       "        2.73326596e-01],\n",
       "       [2.85791956e-01, 9.15759131e-02, 6.05281194e-01, 2.28041604e-01,\n",
       "        3.50184689e-01],\n",
       "       [3.03112680e-01, 8.24883830e-01, 1.51684926e+00, 7.25185191e-01,\n",
       "        8.88191346e-01],\n",
       "       [3.20433405e-01, 2.49213762e-01, 9.20751268e-01, 2.23926360e+00,\n",
       "        3.60752677e-01],\n",
       "       [3.37754129e-01, 1.49046586e+00, 4.90491142e-01, 3.79946589e-01,\n",
       "        1.42619800e+00],\n",
       "       [3.55074854e-01, 6.70544700e-02, 2.38763309e-01, 7.20213755e-01,\n",
       "        2.83894584e-01],\n",
       "       [3.72395579e-01, 1.49747198e+00, 1.05606848e-01, 9.13547372e-01,\n",
       "        1.34933991e+00],\n",
       "       [3.89716303e-01, 8.98623313e-01, 1.40881156e+00, 6.88359740e-01,\n",
       "        4.65471830e-01],\n",
       "       [4.07037028e-01, 2.79573643e-01, 7.65447079e-01, 8.35661544e-01,\n",
       "        2.26251013e-01],\n",
       "       [4.24357752e-01, 9.62846140e-01, 6.10142891e-01, 2.00910454e+00,\n",
       "        1.09090457e+00],\n",
       "       [4.41678477e-01, 6.98773552e-01, 7.74090095e-01, 2.14232060e-01,\n",
       "        6.57617064e-01],\n",
       "       [4.58999202e-01, 1.62591764e+00, 1.05579839e+00, 9.22753735e-01,\n",
       "        1.42619800e+00],\n",
       "       [4.76319926e-01, 7.80511695e-01, 1.57086811e+00, 9.82963347e-01,\n",
       "        1.00347849e+00],\n",
       "       [4.93640651e-01, 8.55418865e-01, 1.73778635e+00, 1.25915423e+00,\n",
       "        2.05163074e+00],\n",
       "       [5.10961375e-01, 1.02105537e+00, 7.60585383e-01, 5.77515133e-01,\n",
       "        8.30547775e-01],\n",
       "       [5.28282100e-01, 1.70882347e+00, 1.10306488e+00, 1.00597925e+00,\n",
       "        2.38692417e+00],\n",
       "       [5.45602824e-01, 1.37971067e+00, 1.37504978e+00, 5.72911952e-01,\n",
       "        2.54112072e-01],\n",
       "       [5.62923549e-01, 1.61891151e+00, 2.65772733e-01, 1.30978922e+00,\n",
       "        1.59912871e+00],\n",
       "       [5.80244274e-01, 8.49580427e-01, 6.91171163e-01, 6.69578760e-01,\n",
       "        1.07169004e+00],\n",
       "       [5.97564998e-01, 1.28612050e+00, 1.03554132e+00, 1.61323094e+00,\n",
       "        6.19188018e-01],\n",
       "       [6.14885723e-01, 1.15300409e+00, 1.60273923e+00, 1.01518562e+00,\n",
       "        4.65471830e-01],\n",
       "       [6.32206447e-01, 1.41806922e+00, 1.06255074e+00, 9.78360166e-01,\n",
       "        8.68976822e-01],\n",
       "       [6.49527172e-01, 1.47896413e+00, 3.80562786e-01, 1.34164324e+00,\n",
       "        1.30226433e+00],\n",
       "       [6.66847897e-01, 1.21489154e+00, 1.77992105e-01, 4.62803854e-01,\n",
       "        8.49762299e-01],\n",
       "       [6.84168621e-01, 4.42057396e-01, 1.39341619e+00, 1.32820195e+00,\n",
       "        1.28304980e+00],\n",
       "       [7.01489346e-01, 8.59914463e-01, 4.22967582e-01, 8.12645637e-01,\n",
       "        5.99973494e-01],\n",
       "       [7.18810070e-01, 5.44813920e-01, 8.19465927e-01, 2.07354907e+00,\n",
       "        9.94831951e-01],\n",
       "       [7.36130795e-01, 8.57754241e-01, 6.70914095e-01, 3.38149702e-01,\n",
       "        1.16776266e+00],\n",
       "       [7.53451519e-01, 4.95595880e-01, 1.18598381e+00, 1.77038355e-01,\n",
       "        6.96046111e-01],\n",
       "       [7.70772244e-01, 5.93681653e-01, 5.71519414e-01, 3.84181516e-01,\n",
       "        5.03900877e-01],\n",
       "       [7.88092969e-01, 7.87313476e-02, 1.44257334e+00, 9.92169710e-01,\n",
       "        7.15260635e-01],\n",
       "       [8.05413693e-01, 1.08662104e+00, 1.07794612e+00, 1.00597925e+00,\n",
       "        1.58039455e-01],\n",
       "       [8.22734418e-01, 1.12281936e+00, 1.73778635e+00, 6.32753309e-01,\n",
       "        2.18613240e+00],\n",
       "       [8.40055142e-01, 1.27327593e+00, 1.15033137e+00, 8.58677450e-01,\n",
       "        5.99973494e-01],\n",
       "       [8.57375867e-01, 1.19504085e+00, 1.71239749e-01, 4.58200672e-01,\n",
       "        7.53689682e-01],\n",
       "       [8.74696592e-01, 1.56070228e+00, 6.32290618e-01, 2.96721070e-01,\n",
       "        3.99181724e-01],\n",
       "       [8.92017316e-01, 3.04095087e-01, 1.00367020e+00, 8.35293289e-01,\n",
       "        4.65471830e-01],\n",
       "       [9.09338041e-01, 5.90353742e-01, 2.43084817e-03, 7.52804279e-01,\n",
       "        4.95254341e-01],\n",
       "       [9.26658765e-01, 2.83251860e-01, 1.10981724e+00, 3.28943340e-01,\n",
       "        9.56402904e-01],\n",
       "       [9.43979490e-01, 4.75920341e-01, 1.46120984e-01, 9.69153803e-01,\n",
       "        3.03109107e-01],\n",
       "       [9.61300215e-01, 1.66912209e+00, 7.87594807e-01, 1.14407469e+00,\n",
       "        2.07949180e+00],\n",
       "       [9.78620939e-01, 6.20538471e-01, 1.36640677e+00, 9.18150553e-01,\n",
       "        2.45465537e-01],\n",
       "       [9.95941664e-01, 3.21989902e-02, 1.48308748e+00, 2.87882962e-01,\n",
       "        7.53689682e-01],\n",
       "       [1.01326239e+00, 1.58037782e+00, 9.20751268e-01, 6.74181942e-01,\n",
       "        1.29169634e+00],\n",
       "       [1.03058311e+00, 1.79152496e-01, 3.28434597e-01, 1.86244718e-01,\n",
       "        2.15683025e-01],\n",
       "       [1.04790384e+00, 2.97264113e-01, 3.48691665e-01, 6.72064478e-03,\n",
       "        7.25348259e-02],\n",
       "       [1.06522456e+00, 7.16288868e-01, 8.46475352e-01, 8.62912377e-01,\n",
       "        1.38824932e-01],\n",
       "       [1.08254529e+00, 4.82926468e-01, 3.48691665e-01, 2.28041604e-01,\n",
       "        1.68607443e-01],\n",
       "       [1.09986601e+00, 1.92172214e-01, 9.13998912e-01, 1.06582061e+00,\n",
       "        7.64257669e-01],\n",
       "       [1.11718674e+00, 3.48467222e-01, 5.78271770e-01, 1.15788424e+00,\n",
       "        4.07828260e-01],\n",
       "       [1.13450746e+00, 1.02123053e+00, 1.34128800e+00, 2.49704176e+00,\n",
       "        4.07828260e-01],\n",
       "       [1.15182818e+00, 1.50798117e+00, 9.68017760e-01, 4.12168859e-01,\n",
       "        1.15719467e+00],\n",
       "       [1.16914891e+00, 6.97781017e-01, 1.21974559e+00, 5.13438849e-01,\n",
       "        3.50184689e-01],\n",
       "       [1.18646963e+00, 7.98202165e-01, 2.26879163e-02, 1.24497643e+00,\n",
       "        5.91326959e-01],\n",
       "       [1.20379036e+00, 1.60273904e+00, 8.55118367e-01, 1.11185242e+00,\n",
       "        1.87821967e-01],\n",
       "       [1.22111108e+00, 1.13315340e+00, 7.87594807e-01, 5.59470662e-01,\n",
       "        1.08033658e+00],\n",
       "       [1.23843181e+00, 2.03849092e-01, 1.59625696e-01, 7.75451931e-01,\n",
       "        9.17493494e-02],\n",
       "       [1.25575253e+00, 1.48813048e+00, 2.13644545e-01, 6.23915201e-01,\n",
       "        1.23405277e+00],\n",
       "       [1.27307326e+00, 2.49388915e-01, 1.09145083e+00, 8.17248818e-01,\n",
       "        4.46257307e-01],\n",
       "       [1.29039398e+00, 8.79940308e-01, 1.34128800e+00, 8.03439274e-01,\n",
       "        4.84686354e-01],\n",
       "       [1.30771471e+00, 1.51633014e+00, 1.73103399e+00, 5.17673775e-01,\n",
       "        2.49356478e+00],\n",
       "       [1.32503543e+00, 1.18353913e+00, 4.68343414e-01, 4.72010216e-01,\n",
       "        1.18697718e+00],\n",
       "       [1.34235616e+00, 2.70407294e-01, 1.04418434e+00, 2.13863806e-01,\n",
       "        4.46257307e-01],\n",
       "       [1.35967688e+00, 1.51399477e+00, 1.41556392e+00, 3.15502050e-01,\n",
       "        4.27042783e-01],\n",
       "       [1.37699760e+00, 2.16693657e-01, 8.95632503e-01, 5.96296113e-01,\n",
       "        2.73326596e-01],\n",
       "       [1.39431833e+00, 1.11601758e-01, 1.39530685e+00, 1.02439198e+00,\n",
       "        6.76831588e-01],\n",
       "       [1.41163905e+00, 8.34400486e-01, 1.20624088e+00, 1.45184340e-01,\n",
       "        3.50184689e-01],\n",
       "       [1.42895978e+00, 1.06075676e+00, 1.18598381e+00, 3.93111688e-02,\n",
       "        1.02269301e+00],\n",
       "       [1.44628050e+00, 1.64127273e+00, 1.33264499e+00, 1.89862818e+00,\n",
       "        2.33984859e+00],\n",
       "       [1.46360123e+00, 1.24659427e+00, 1.32616272e-01, 2.55016247e-02,\n",
       "        6.87399576e-01],\n",
       "       [1.48092195e+00, 6.76762637e-01, 1.47444446e+00, 5.04232486e-01,\n",
       "        1.64812575e+00],\n",
       "       [1.49824268e+00, 8.80728498e-02, 1.42906863e+00, 1.82009791e-01,\n",
       "        7.15260635e-01],\n",
       "       [1.51556340e+00, 5.14454038e-01, 3.67058074e-01, 5.68677025e-01,\n",
       "        6.29756005e-01],\n",
       "       [1.53288413e+00, 1.62258973e+00, 6.32290618e-01, 1.23613832e+00,\n",
       "        3.60752677e-01],\n",
       "       [1.55020485e+00, 1.49863967e+00, 7.53833027e-01, 3.29311594e-01,\n",
       "        1.40698348e+00],\n",
       "       [1.56752558e+00, 1.25576062e+00, 1.20435022e+00, 1.13947151e+00,\n",
       "        6.19188018e-01],\n",
       "       [1.58484630e+00, 8.35393020e-01, 8.41613655e-01, 1.13026515e+00,\n",
       "        7.92118728e-01],\n",
       "       [1.60216702e+00, 1.51615499e+00, 1.29402151e+00, 4.81492770e-02,\n",
       "        1.56069967e+00],\n",
       "       [1.61948775e+00, 2.30705910e-01, 1.26512143e+00, 1.24074150e+00,\n",
       "        1.07169004e+00],\n",
       "       [1.63680847e+00, 3.10313024e-02, 8.32970639e-01, 1.13026515e+00,\n",
       "        6.29756005e-01],\n",
       "       [1.65412920e+00, 1.27094056e+00, 1.32103093e+00, 7.71217005e-01,\n",
       "        1.23405277e+00],\n",
       "       [1.67144992e+00, 6.17035408e-01, 1.24000266e+00, 1.03359834e+00,\n",
       "        8.30547775e-01],\n",
       "       [1.68877065e+00, 3.49810063e-01, 9.42898996e-01, 1.11185242e+00,\n",
       "        2.34897549e-01],\n",
       "       [1.70609137e+00, 1.59456522e+00, 1.26512143e+00, 1.64085003e+00,\n",
       "        2.20534693e+00],\n",
       "       [1.72341210e+00, 9.93206022e-01, 9.90165488e-01, 1.00597925e+00,\n",
       "        1.19610408e-01]])"
      ]
     },
     "execution_count": 27,
     "metadata": {},
     "output_type": "execute_result"
    }
   ],
   "source": [
    "#Process of removing outliers \n",
    "\n",
    "z=np.abs(zscore(df))\n",
    "z"
   ]
  },
  {
   "cell_type": "code",
   "execution_count": 29,
   "id": "86580d6a",
   "metadata": {},
   "outputs": [
    {
     "name": "stdout",
     "output_type": "stream",
     "text": [
      "(array([ 16, 101], dtype=int64), array([3, 3], dtype=int64))\n"
     ]
    }
   ],
   "source": [
    "threshold=3\n",
    "print(np.where(z>3))"
   ]
  },
  {
   "cell_type": "code",
   "execution_count": 32,
   "id": "4b58cadc",
   "metadata": {},
   "outputs": [
    {
     "data": {
      "text/plain": [
       "3.8411707150992718"
      ]
     },
     "execution_count": 32,
     "metadata": {},
     "output_type": "execute_result"
    }
   ],
   "source": [
    "z[(16,3)]"
   ]
  },
  {
   "cell_type": "code",
   "execution_count": 33,
   "id": "c014083a",
   "metadata": {},
   "outputs": [
    {
     "data": {
      "text/plain": [
       "3.238153957342154"
      ]
     },
     "execution_count": 33,
     "metadata": {},
     "output_type": "execute_result"
    }
   ],
   "source": [
    "z[(101,3)]"
   ]
  },
  {
   "cell_type": "code",
   "execution_count": 34,
   "id": "9a3e2176",
   "metadata": {},
   "outputs": [
    {
     "data": {
      "text/html": [
       "<div>\n",
       "<style scoped>\n",
       "    .dataframe tbody tr th:only-of-type {\n",
       "        vertical-align: middle;\n",
       "    }\n",
       "\n",
       "    .dataframe tbody tr th {\n",
       "        vertical-align: top;\n",
       "    }\n",
       "\n",
       "    .dataframe thead th {\n",
       "        text-align: right;\n",
       "    }\n",
       "</style>\n",
       "<table border=\"1\" class=\"dataframe\">\n",
       "  <thead>\n",
       "    <tr style=\"text-align: right;\">\n",
       "      <th></th>\n",
       "      <th>Unnamed: 0</th>\n",
       "      <th>TV</th>\n",
       "      <th>radio</th>\n",
       "      <th>newspaper</th>\n",
       "      <th>sales</th>\n",
       "    </tr>\n",
       "  </thead>\n",
       "  <tbody>\n",
       "    <tr>\n",
       "      <th>0</th>\n",
       "      <td>1</td>\n",
       "      <td>230.1</td>\n",
       "      <td>37.8</td>\n",
       "      <td>69.2</td>\n",
       "      <td>22.1</td>\n",
       "    </tr>\n",
       "    <tr>\n",
       "      <th>1</th>\n",
       "      <td>2</td>\n",
       "      <td>44.5</td>\n",
       "      <td>39.3</td>\n",
       "      <td>45.1</td>\n",
       "      <td>10.4</td>\n",
       "    </tr>\n",
       "    <tr>\n",
       "      <th>2</th>\n",
       "      <td>3</td>\n",
       "      <td>17.2</td>\n",
       "      <td>45.9</td>\n",
       "      <td>69.3</td>\n",
       "      <td>9.3</td>\n",
       "    </tr>\n",
       "    <tr>\n",
       "      <th>3</th>\n",
       "      <td>4</td>\n",
       "      <td>151.5</td>\n",
       "      <td>41.3</td>\n",
       "      <td>58.5</td>\n",
       "      <td>18.5</td>\n",
       "    </tr>\n",
       "    <tr>\n",
       "      <th>4</th>\n",
       "      <td>5</td>\n",
       "      <td>180.8</td>\n",
       "      <td>10.8</td>\n",
       "      <td>58.4</td>\n",
       "      <td>12.9</td>\n",
       "    </tr>\n",
       "    <tr>\n",
       "      <th>...</th>\n",
       "      <td>...</td>\n",
       "      <td>...</td>\n",
       "      <td>...</td>\n",
       "      <td>...</td>\n",
       "      <td>...</td>\n",
       "    </tr>\n",
       "    <tr>\n",
       "      <th>195</th>\n",
       "      <td>196</td>\n",
       "      <td>38.2</td>\n",
       "      <td>3.7</td>\n",
       "      <td>13.8</td>\n",
       "      <td>7.6</td>\n",
       "    </tr>\n",
       "    <tr>\n",
       "      <th>196</th>\n",
       "      <td>197</td>\n",
       "      <td>94.2</td>\n",
       "      <td>4.9</td>\n",
       "      <td>8.1</td>\n",
       "      <td>9.7</td>\n",
       "    </tr>\n",
       "    <tr>\n",
       "      <th>197</th>\n",
       "      <td>198</td>\n",
       "      <td>177.0</td>\n",
       "      <td>9.3</td>\n",
       "      <td>6.4</td>\n",
       "      <td>12.8</td>\n",
       "    </tr>\n",
       "    <tr>\n",
       "      <th>198</th>\n",
       "      <td>199</td>\n",
       "      <td>283.6</td>\n",
       "      <td>42.0</td>\n",
       "      <td>66.2</td>\n",
       "      <td>25.5</td>\n",
       "    </tr>\n",
       "    <tr>\n",
       "      <th>199</th>\n",
       "      <td>200</td>\n",
       "      <td>232.1</td>\n",
       "      <td>8.6</td>\n",
       "      <td>8.7</td>\n",
       "      <td>13.4</td>\n",
       "    </tr>\n",
       "  </tbody>\n",
       "</table>\n",
       "<p>198 rows × 5 columns</p>\n",
       "</div>"
      ],
      "text/plain": [
       "     Unnamed: 0     TV  radio  newspaper  sales\n",
       "0             1  230.1   37.8       69.2   22.1\n",
       "1             2   44.5   39.3       45.1   10.4\n",
       "2             3   17.2   45.9       69.3    9.3\n",
       "3             4  151.5   41.3       58.5   18.5\n",
       "4             5  180.8   10.8       58.4   12.9\n",
       "..          ...    ...    ...        ...    ...\n",
       "195         196   38.2    3.7       13.8    7.6\n",
       "196         197   94.2    4.9        8.1    9.7\n",
       "197         198  177.0    9.3        6.4   12.8\n",
       "198         199  283.6   42.0       66.2   25.5\n",
       "199         200  232.1    8.6        8.7   13.4\n",
       "\n",
       "[198 rows x 5 columns]"
      ]
     },
     "execution_count": 34,
     "metadata": {},
     "output_type": "execute_result"
    }
   ],
   "source": [
    "df_new=df[(z<3).all(axis=1)]\n",
    "df_new"
   ]
  },
  {
   "cell_type": "code",
   "execution_count": 36,
   "id": "ea83a0c3",
   "metadata": {},
   "outputs": [
    {
     "data": {
      "text/plain": [
       "(200, 5)"
      ]
     },
     "execution_count": 36,
     "metadata": {},
     "output_type": "execute_result"
    }
   ],
   "source": [
    "df.shape"
   ]
  },
  {
   "cell_type": "code",
   "execution_count": 38,
   "id": "8a8ac1d0",
   "metadata": {},
   "outputs": [
    {
     "data": {
      "text/plain": [
       "(198, 5)"
      ]
     },
     "execution_count": 38,
     "metadata": {},
     "output_type": "execute_result"
    }
   ],
   "source": [
    "df_new.shape   #After removing the outliers"
   ]
  },
  {
   "cell_type": "markdown",
   "id": "304a781b",
   "metadata": {},
   "source": [
    "## Skewness"
   ]
  },
  {
   "cell_type": "code",
   "execution_count": 39,
   "id": "d5e6cedb",
   "metadata": {},
   "outputs": [
    {
     "data": {
      "text/plain": [
       "Unnamed: 0    0.000000\n",
       "TV           -0.069853\n",
       "radio         0.094175\n",
       "newspaper     0.894720\n",
       "sales         0.407571\n",
       "dtype: float64"
      ]
     },
     "execution_count": 39,
     "metadata": {},
     "output_type": "execute_result"
    }
   ],
   "source": [
    "#checking the skewness\n",
    "\n",
    "df.skew()"
   ]
  },
  {
   "cell_type": "code",
   "execution_count": 41,
   "id": "2ad6b2c3",
   "metadata": {},
   "outputs": [
    {
     "data": {
      "text/plain": [
       "array([[<AxesSubplot:title={'center':'Unnamed: 0'}>,\n",
       "        <AxesSubplot:title={'center':'TV'}>],\n",
       "       [<AxesSubplot:title={'center':'radio'}>,\n",
       "        <AxesSubplot:title={'center':'newspaper'}>],\n",
       "       [<AxesSubplot:title={'center':'sales'}>, <AxesSubplot:>]],\n",
       "      dtype=object)"
      ]
     },
     "execution_count": 41,
     "metadata": {},
     "output_type": "execute_result"
    },
    {
     "data": {
      "image/png": "[encoded data removed]",
      "text/plain": [
       "<Figure size 1440x1440 with 6 Axes>"
      ]
     },
     "metadata": {
      "needs_background": "light"
     },
     "output_type": "display_data"
    }
   ],
   "source": [
    "df.hist(edgecolor='yellow',linewidth=1.5,figsize=(20,20))"
   ]
  },
  {
   "cell_type": "markdown",
   "id": "08f3e351",
   "metadata": {},
   "source": [
    "Skewness is present the dataset."
   ]
  },
  {
   "cell_type": "code",
   "execution_count": 43,
   "id": "3ec56d26",
   "metadata": {},
   "outputs": [
    {
     "data": {
      "text/plain": [
       "Index(['Unnamed: 0', 'TV', 'radio', 'newspaper', 'sales'], dtype='object')"
      ]
     },
     "execution_count": 43,
     "metadata": {},
     "output_type": "execute_result"
    }
   ],
   "source": [
    "df.columns"
   ]
  },
  {
   "cell_type": "code",
   "execution_count": 48,
   "id": "f7e695c3",
   "metadata": {},
   "outputs": [
    {
     "data": {
      "text/html": [
       "<div>\n",
       "<style scoped>\n",
       "    .dataframe tbody tr th:only-of-type {\n",
       "        vertical-align: middle;\n",
       "    }\n",
       "\n",
       "    .dataframe tbody tr th {\n",
       "        vertical-align: top;\n",
       "    }\n",
       "\n",
       "    .dataframe thead th {\n",
       "        text-align: right;\n",
       "    }\n",
       "</style>\n",
       "<table border=\"1\" class=\"dataframe\">\n",
       "  <thead>\n",
       "    <tr style=\"text-align: right;\">\n",
       "      <th></th>\n",
       "      <th>TV</th>\n",
       "      <th>radio</th>\n",
       "      <th>newspaper</th>\n",
       "    </tr>\n",
       "  </thead>\n",
       "  <tbody>\n",
       "    <tr>\n",
       "      <th>0</th>\n",
       "      <td>230.1</td>\n",
       "      <td>37.8</td>\n",
       "      <td>69.2</td>\n",
       "    </tr>\n",
       "    <tr>\n",
       "      <th>1</th>\n",
       "      <td>44.5</td>\n",
       "      <td>39.3</td>\n",
       "      <td>45.1</td>\n",
       "    </tr>\n",
       "    <tr>\n",
       "      <th>2</th>\n",
       "      <td>17.2</td>\n",
       "      <td>45.9</td>\n",
       "      <td>69.3</td>\n",
       "    </tr>\n",
       "    <tr>\n",
       "      <th>3</th>\n",
       "      <td>151.5</td>\n",
       "      <td>41.3</td>\n",
       "      <td>58.5</td>\n",
       "    </tr>\n",
       "    <tr>\n",
       "      <th>4</th>\n",
       "      <td>180.8</td>\n",
       "      <td>10.8</td>\n",
       "      <td>58.4</td>\n",
       "    </tr>\n",
       "    <tr>\n",
       "      <th>...</th>\n",
       "      <td>...</td>\n",
       "      <td>...</td>\n",
       "      <td>...</td>\n",
       "    </tr>\n",
       "    <tr>\n",
       "      <th>195</th>\n",
       "      <td>38.2</td>\n",
       "      <td>3.7</td>\n",
       "      <td>13.8</td>\n",
       "    </tr>\n",
       "    <tr>\n",
       "      <th>196</th>\n",
       "      <td>94.2</td>\n",
       "      <td>4.9</td>\n",
       "      <td>8.1</td>\n",
       "    </tr>\n",
       "    <tr>\n",
       "      <th>197</th>\n",
       "      <td>177.0</td>\n",
       "      <td>9.3</td>\n",
       "      <td>6.4</td>\n",
       "    </tr>\n",
       "    <tr>\n",
       "      <th>198</th>\n",
       "      <td>283.6</td>\n",
       "      <td>42.0</td>\n",
       "      <td>66.2</td>\n",
       "    </tr>\n",
       "    <tr>\n",
       "      <th>199</th>\n",
       "      <td>232.1</td>\n",
       "      <td>8.6</td>\n",
       "      <td>8.7</td>\n",
       "    </tr>\n",
       "  </tbody>\n",
       "</table>\n",
       "<p>200 rows × 3 columns</p>\n",
       "</div>"
      ],
      "text/plain": [
       "        TV  radio  newspaper\n",
       "0    230.1   37.8       69.2\n",
       "1     44.5   39.3       45.1\n",
       "2     17.2   45.9       69.3\n",
       "3    151.5   41.3       58.5\n",
       "4    180.8   10.8       58.4\n",
       "..     ...    ...        ...\n",
       "195   38.2    3.7       13.8\n",
       "196   94.2    4.9        8.1\n",
       "197  177.0    9.3        6.4\n",
       "198  283.6   42.0       66.2\n",
       "199  232.1    8.6        8.7\n",
       "\n",
       "[200 rows x 3 columns]"
      ]
     },
     "execution_count": 48,
     "metadata": {},
     "output_type": "execute_result"
    }
   ],
   "source": [
    "#Seperatong the input and output/target column \n",
    "x= df.iloc[:,1:4]\n",
    "x\n",
    "\n",
    "\n",
    "#not including the unnamed column because of negative correlation"
   ]
  },
  {
   "cell_type": "code",
   "execution_count": 49,
   "id": "1223cdd6",
   "metadata": {},
   "outputs": [
    {
     "data": {
      "text/plain": [
       "0      22.1\n",
       "1      10.4\n",
       "2       9.3\n",
       "3      18.5\n",
       "4      12.9\n",
       "       ... \n",
       "195     7.6\n",
       "196     9.7\n",
       "197    12.8\n",
       "198    25.5\n",
       "199    13.4\n",
       "Name: sales, Length: 200, dtype: float64"
      ]
     },
     "execution_count": 49,
     "metadata": {},
     "output_type": "execute_result"
    }
   ],
   "source": [
    "y=df.iloc[:,-1]\n",
    "y"
   ]
  },
  {
   "cell_type": "markdown",
   "id": "4807acba",
   "metadata": {},
   "source": [
    "### removing the skewness"
   ]
  },
  {
   "cell_type": "code",
   "execution_count": 51,
   "id": "65b2c500",
   "metadata": {},
   "outputs": [
    {
     "data": {
      "text/plain": [
       "array([[ 9.65192807e-01,  9.73526957e-01,  1.54429626e+00],\n",
       "       [-1.16762876e+00,  1.06612382e+00,  7.81635855e-01],\n",
       "       [-1.52047229e+00,  1.46797893e+00,  1.54711875e+00],\n",
       "       [ 3.36685305e-02,  1.18884353e+00,  1.22781940e+00],\n",
       "       [ 3.75102673e-01, -7.89065490e-01,  1.22471423e+00],\n",
       "       [-1.65148974e+00,  1.64777581e+00,  1.70434613e+00],\n",
       "       [-1.01520320e+00,  6.61327524e-01, -1.29948529e-01],\n",
       "       [-3.18621798e-01, -1.88422862e-01, -8.49495883e-01],\n",
       "       [-1.65316432e+00, -1.53005769e+00, -2.06812025e+00],\n",
       "       [ 6.00688802e-01, -1.47655016e+00, -2.50101105e-01],\n",
       "       [-9.17118899e-01, -1.17850067e+00, -9.46254925e-02],\n",
       "       [ 7.79303027e-01,  9.85173409e-02, -1.57165278e+00],\n",
       "       [-1.42862477e+00,  8.05623798e-01,  1.44982898e+00],\n",
       "       [-5.68478671e-01, -1.03112881e+00, -1.21867084e+00],\n",
       "       [ 6.52096291e-01,  6.67625747e-01,  8.13743543e-01],\n",
       "       [ 5.48212292e-01,  1.57606394e+00,  1.04911106e+00],\n",
       "       [-8.97922078e-01,  8.99099979e-01,  2.63264875e+00],\n",
       "       [ 1.59138830e+00,  1.08458553e+00,  1.14291002e+00],\n",
       "       [-8.82153661e-01, -1.29479931e-01, -4.11994260e-01],\n",
       "       [-1.44411031e-02,  9.20302143e-02, -3.66036186e-01],\n",
       "       [ 8.23854709e-01,  3.37171352e-01,  1.06548446e+00],\n",
       "       [ 1.05370151e+00, -1.23893521e+00, -1.29948529e-01],\n",
       "       [-1.57977225e+00, -4.33869883e-01,  9.38817351e-01],\n",
       "       [ 9.43405493e-01, -3.66866367e-01,  3.45214044e-03],\n",
       "       [-9.60244336e-01, -6.60482599e-01, -4.11994260e-01],\n",
       "       [ 1.36453335e+00, -1.38616297e+00, -3.43445289e-01],\n",
       "       [-6.45667357e-02,  4.39485689e-01, -7.76773793e-01],\n",
       "       [ 1.08649558e+00, -3.80219018e-01, -1.60668885e-01],\n",
       "       [ 1.19236419e+00,  2.98661133e-01, -1.60668885e-01],\n",
       "       [-8.66419865e-01, -4.27141267e-01,  6.23131625e-01],\n",
       "       [ 1.73287997e+00,  3.75604427e-01,  7.12672318e-01],\n",
       "       [-3.99179459e-01, -3.33579831e-01,  5.38482425e-01],\n",
       "       [-5.71775947e-01, -1.59838095e+00,  1.79558937e-01],\n",
       "       [ 1.39757790e+00, -1.62203216e-01, -2.24675204e+00],\n",
       "       [-5.88265358e-01, -1.61029875e+00, -1.19962290e+00],\n",
       "       [ 1.70578636e+00, -1.32923507e+00, -1.09940218e+00],\n",
       "       [ 1.41349642e+00,  1.34107693e+00, -1.44959860e+00],\n",
       "       [-8.20523349e-01,  1.67757564e+00,  8.03079840e-01],\n",
       "       [-1.18443836e+00,  2.72945352e-01,  3.98210293e-01],\n",
       "       [ 9.39775738e-01,  9.67336636e-01,  2.67512313e-01],\n",
       "       [ 6.32954077e-01, -1.19964970e-02,  2.50161379e-01],\n",
       "       [ 3.30331136e-01,  6.99083424e-01,  5.42386416e-01],\n",
       "       [ 1.74150311e+00,  3.37171352e-01, -1.90617271e+00],\n",
       "       [ 6.85633483e-01, -9.68591866e-01,  1.30423867e-02],\n",
       "       [-1.41120141e+00,  2.08510869e-01,  7.16343136e-01],\n",
       "       [ 3.07993769e-01,  1.02950447e-03,  2.45805337e-01],\n",
       "       [-6.54300827e-01, -8.55144262e-01,  4.22778568e-01],\n",
       "       [ 1.08406535e+00,  1.20106946e+00, -4.00404937e-01],\n",
       "       [ 9.30098460e-01, -4.40605220e-01,  9.49009558e-01],\n",
       "       [-9.08078135e-01, -7.24233205e-01,  4.67246528e-01],\n",
       "       [ 6.00688802e-01, -1.42550941e+00,  3.77562856e-01],\n",
       "       [-5.36612111e-01, -8.77480138e-01, -1.62459545e+00],\n",
       "       [ 7.99763595e-01,  1.21328710e+00,  5.77277479e-01],\n",
       "       [ 3.96353703e-01,  1.48603673e+00,  1.23402082e+00],\n",
       "       [ 1.36208653e+00,  4.07572385e-01, -5.56776963e-01],\n",
       "       [ 5.89944327e-01,  1.67757564e+00,  1.27404423e+00],\n",
       "       [-1.67534256e+00,  3.62802035e-01,  6.45781972e-01],\n",
       "       [-1.40303668e-01, -2.14685859e-01, -5.13395293e-01],\n",
       "       [ 7.32424508e-01,  1.68948250e+00,  5.03095734e-01],\n",
       "       [ 7.31223627e-01,  4.52235627e-01, -1.03077792e+00],\n",
       "       [-1.06148575e+00, -1.54110364e+00, -2.39386470e-01],\n",
       "       [ 1.34496242e+00,  1.27425166e+00,  1.10765906e+00],\n",
       "       [ 1.07677566e+00, -4.60852790e-01,  5.57365103e-02],\n",
       "       [-5.11342849e-01,  4.58607289e-01, -1.10821806e+00],\n",
       "       [-1.97481876e-01,  1.28033684e+00,  1.29852910e-01],\n",
       "       [-8.84404126e-01, -8.99983915e-01, -2.09099290e+00],\n",
       "       [-1.32785783e+00,  1.37401595e-01, -1.83575461e+00],\n",
       "       [-1.05353452e-01, -5.28833768e-01, -9.57248948e-01],\n",
       "       [ 1.05370151e+00,  3.24343132e-01, -8.94765862e-01],\n",
       "       [ 8.04580114e-01,  1.34713982e+00,  5.10294208e-02],\n",
       "       [ 5.92331522e-01,  5.22202197e-01,  5.42386416e-01],\n",
       "       [-4.33300627e-01, -5.42528260e-01,  2.54510064e-01],\n",
       "       [-1.38868971e+00,  6.73921740e-01, -3.54709292e-01],\n",
       "       [-2.16462258e-01, -1.18701180e+00,  2.37071054e-01],\n",
       "       [ 7.63667388e-01,  1.37401595e-01, -7.41583700e-01],\n",
       "       [-1.52480798e+00,  1.33501202e+00,  2.07354326e+00],\n",
       "       [-1.37950415e+00, -1.58662847e+00, -2.77125923e-01],\n",
       "       [-3.15303187e-01,  3.88398143e-01, -6.66645066e-01],\n",
       "       [-1.70938505e+00,  4.77709024e-01, -1.02242503e+00],\n",
       "       [-3.65011555e-01, -1.02322391e+00, -1.50382083e-01],\n",
       "       [-8.01564379e-01,  2.72945352e-01, -1.91817635e-01],\n",
       "       [ 1.08285030e+00, -1.32923507e+00,  4.71253119e-01],\n",
       "       [-8.13827507e-01, -1.42563102e-01,  2.89038631e-01],\n",
       "       [-8.91159818e-01,  1.38347504e+00,  4.18699448e-01],\n",
       "       [ 7.64869797e-01,  1.29250109e+00,  3.44189447e-01],\n",
       "       [ 5.22024337e-01, -2.67367649e-01,  1.44401876e+00],\n",
       "       [-8.02678552e-01,  3.24343132e-01, -5.50517138e-01],\n",
       "       [-4.23398535e-01,  1.14598718e+00,  1.37053371e+00],\n",
       "       [-6.69734354e-01,  1.95599602e-01,  1.66091604e+00],\n",
       "       [-4.33300627e-01,  1.58205037e+00,  9.99466821e-01],\n",
       "       [-1.61649374e-01, -1.25659360e+00, -1.03077792e+00],\n",
       "       [-1.36516278e+00, -1.59838095e+00,  3.10388228e-01],\n",
       "       [ 8.15420406e-01,  7.05368276e-01,  1.24330078e+00],\n",
       "       [ 1.21796199e+00,  8.92883584e-01,  1.63074587e+00],\n",
       "       [-4.59693143e-01, -5.63136684e-01, -9.02439300e-01],\n",
       "       [ 1.70055261e-01,  5.85574812e-01,  1.04911106e+00],\n",
       "       [ 5.74434101e-01, -1.38616297e+00, -1.34984246e+00],\n",
       "       [ 4.23546962e-01, -9.68020767e-02, -2.07558626e-01],\n",
       "       [ 1.69347499e+00,  1.24989049e+00,  9.92786938e-01],\n",
       "       [-1.51545076e-01,  1.21328710e+00,  8.10193256e-01],\n",
       "       [ 8.72099412e-01, -1.31075150e+00,  9.45615947e-01],\n",
       "       [ 1.77600727e+00,  8.80444236e-01,  2.34462323e+00],\n",
       "       [ 1.57664371e+00, -8.40342940e-01, -2.39386470e-01],\n",
       "       [ 4.59080320e-01, -3.46878703e-01, -4.35379514e-01],\n",
       "       [ 1.06341511e+00,  7.55567022e-01, -1.41540530e+00],\n",
       "       [-1.21157043e-01,  1.49806551e+00,  1.24330078e+00],\n",
       "       [-1.41253504e+00, -7.74556809e-01,  1.66099842e-01],\n",
       "       [-6.46588277e-01, -1.75615220e+00, -1.45256314e-01],\n",
       "       [-1.58130076e+00, -1.74141897e+00, -2.55492230e-02],\n",
       "       [ 1.27286814e+00,  2.85807441e-01, -1.39315020e+00],\n",
       "       [ 9.13170531e-01, -9.84080135e-01,  1.16514050e+00],\n",
       "       [ 1.10594325e+00,  9.85901122e-01, -1.45256314e-01],\n",
       "       [ 3.15044102e-01, -4.67616251e-01, -1.80254542e+00],\n",
       "       [ 7.18017755e-01, -1.22941121e-01, -9.17900825e-01],\n",
       "       [-7.81530684e-01,  1.52209976e+00,  3.73414086e-01],\n",
       "       [-8.16058905e-01,  7.99374444e-01,  1.04253755e+00],\n",
       "       [-1.06483377e-01, -5.42528260e-01, -2.55492230e-02],\n",
       "       [-8.01564379e-01, -1.68591190e+00, -6.27092907e-01],\n",
       "       [-2.57652832e-01,  9.17736071e-01,  1.81590786e+00],\n",
       "       [-1.48914767e+00, -4.27141267e-01, -1.91817635e-01],\n",
       "       [-8.27201124e-02,  2.79377443e-01,  8.20831345e-01],\n",
       "       [-1.49761236e+00, -5.11095631e-02,  9.65921199e-01],\n",
       "       [ 8.91419929e-01, -1.49762849e+00, -5.75685440e-01],\n",
       "       [-2.86509682e-01,  7.74354918e-01, -7.91061272e-01],\n",
       "       [ 9.57928705e-01,  6.29802947e-01,  1.68269744e+00],\n",
       "       [-6.81869310e-01, -7.17099159e-01, -1.10049231e-02],\n",
       "       [-1.66671866e+00,  1.04147842e+00,  9.72659737e-01],\n",
       "       [-7.59315703e-01, -1.80305591e+00, -1.03917897e+00],\n",
       "       [ 8.46760716e-01,  1.65373952e+00, -1.68039924e+00],\n",
       "       [-9.91086582e-01, -7.02870239e-01,  7.08996823e-01],\n",
       "       [-1.80917869e+00,  1.08458553e+00, -1.08193431e+00],\n",
       "       [ 1.39268095e+00, -1.44565987e+00,  7.05316635e-01],\n",
       "       [-1.65652624e+00,  3.05084814e-01, -1.85283312e+00],\n",
       "       [ 8.40731007e-01,  7.05368276e-01,  7.81635855e-01],\n",
       "       [-1.26007570e+00,  1.02297195e+00,  1.44110992e+00],\n",
       "       [-1.12243395e+00,  1.53410527e+00, -1.09940218e+00],\n",
       "       [-1.40454930e+00,  1.04764297e+00, -1.03077792e+00],\n",
       "       [ 1.49684615e+00,  4.13959431e-01,  1.26485158e+00],\n",
       "       [-1.18564255e+00,  2.21414101e-01, -2.88033392e-01],\n",
       "       [ 4.23546962e-01,  1.34713982e+00, -1.92472124e+00],\n",
       "       [-8.35048404e-01, -3.60198416e-01, -7.55570913e-01],\n",
       "       [ 5.27973121e-01,  8.24358616e-01,  1.72049687e+00],\n",
       "       [ 8.49172959e-01,  6.86507039e-01,  5.10998850e-01],\n",
       "       [-4.90466846e-01, -1.18701180e+00,  3.69258826e-01],\n",
       "       [-5.82768276e-01, -5.08355862e-01,  5.50177931e-01],\n",
       "       [-9.40450226e-02, -1.55227709e+00, -1.05612865e+00],\n",
       "       [ 1.08649558e+00, -1.05500456e+00, -1.08193431e+00],\n",
       "       [ 1.12418480e+00,  1.65373952e+00,  7.52797551e-01],\n",
       "       [-1.24650106e+00,  1.12758880e+00, -8.27334933e-01],\n",
       "       [-1.16523469e+00,  2.14963494e-01, -2.82572581e-01],\n",
       "       [ 1.58278682e+00, -5.70024529e-01,  4.75253819e-01],\n",
       "       [-3.09770523e-01, -9.68591866e-01,  9.08033728e-01],\n",
       "       [ 5.74434101e-01,  5.30703041e-02, -6.66645066e-01],\n",
       "       [ 2.63420424e-01,  1.09073519e+00,  5.03095734e-01],\n",
       "       [ 4.57894737e-01, -9.02708713e-02, -1.01411954e+00],\n",
       "       [-1.73414029e+00, -7.31380581e-01, -1.37130244e+00],\n",
       "       [-6.08060968e-01,  1.32287616e+00,  9.69292323e-01],\n",
       "       [ 1.41659441e-02, -1.62239172e+00, -8.96233473e-02],\n",
       "       [-1.60297810e+00,  9.17736071e-01,  7.85220741e-01],\n",
       "       [-1.90773994e-01, -2.67367649e-01,  3.77562856e-01],\n",
       "       [ 2.77481286e-01, -2.87185292e-01,  2.10688173e-01],\n",
       "       [-6.98430509e-01,  8.49307527e-01,  9.28590852e-01],\n",
       "       [ 4.65009393e-01, -2.87185292e-01, -2.55492230e-02],\n",
       "       [ 1.72381091e-01,  9.11526221e-01, -1.19962290e+00],\n",
       "       [-3.51769949e-01, -5.15173507e-01, -1.40422554e+00],\n",
       "       [ 1.01851255e+00, -1.39588699e+00,  1.95954732e+00],\n",
       "       [-1.51041775e+00,  9.61144154e-01, -2.28725046e-01],\n",
       "       [ 6.84434902e-01, -1.23017442e+00, -3.49069494e-01],\n",
       "       [ 7.87726065e-01,  7.25581244e-02,  1.19976488e+00],\n",
       "       [ 1.62703691e+00, -8.03635611e-01, -1.29777360e+00],\n",
       "       [-1.10240222e+00, -7.31380581e-01, -4.06191114e-01],\n",
       "       [ 1.84016852e-01, -1.03334606e-01,  8.63006188e-01],\n",
       "       [-1.48633845e+00, -1.55654332e-01, -4.89049366e-01],\n",
       "       [ 2.29498842e-01, -1.07106117e+00, -7.62608579e-01],\n",
       "       [ 8.72099412e-01, -1.39588699e+00, -7.41583700e-01],\n",
       "       [ 1.53611633e+00,  1.64777581e+00,  6.60782378e-01],\n",
       "       [ 1.18749027e+00,  4.96790839e-01, -2.98997924e-01],\n",
       "       [ 2.50543705e-01, -1.01534501e+00,  4.02320683e-01],\n",
       "       [ 1.53366109e+00, -1.50832532e+00, -1.19800452e-01],\n",
       "       [ 1.96828762e-01, -8.47734869e-01, -4.53104069e-01],\n",
       "       [ 9.24056321e-02, -1.47655016e+00, -1.11708984e+00],\n",
       "       [ 8.25059820e-01, -1.21278416e+00,  6.04345781e-02],\n",
       "       [-1.03019314e+00, -1.18701180e+00,  1.66099842e-01],\n",
       "       [ 1.66762918e+00,  1.29250109e+00,  1.61694624e+00],\n",
       "       [ 1.25333771e+00, -7.72121146e-02,  1.79558937e-01],\n",
       "       [ 6.62870840e-01,  1.41973844e+00, -3.37836548e-01],\n",
       "       [-1.03093100e-01, -1.53005769e+00,  2.25948546e-02],\n",
       "       [ 4.97059244e-01,  4.01183153e-01, -4.17814522e-01],\n",
       "       [ 1.64794460e+00, -5.70024529e-01, -1.61110710e+00],\n",
       "       [-1.49902865e+00, -6.95774960e-01, -1.35039620e-01],\n",
       "       [-1.22810330e+00,  1.17660928e+00, -1.36052514e+00],\n",
       "       [-8.11596652e-01, -7.89065490e-01, -1.33925219e+00],\n",
       "       [-1.52047229e+00, -1.32923507e+00,  2.50161379e-01],\n",
       "       [ 2.10820157e-01,  1.23159806e+00, -1.62459545e+00],\n",
       "       [ 1.30199710e-02,  8.36837473e-01, -1.33925219e+00],\n",
       "       [-1.24404062e+00, -1.36692570e+00, -6.93518756e-01],\n",
       "       [-6.04760965e-01, -1.25659360e+00, -1.13500503e+00],\n",
       "       [ 3.30331136e-01, -8.99983915e-01, -1.29777360e+00],\n",
       "       [ 1.61843005e+00,  1.23159806e+00,  1.45852568e+00],\n",
       "       [ 9.89418324e-01, -9.53195213e-01, -1.08193431e+00]])"
      ]
     },
     "execution_count": 51,
     "metadata": {},
     "output_type": "execute_result"
    }
   ],
   "source": [
    "from sklearn.preprocessing import power_transform\n",
    "x=power_transform(x,method='yeo-johnson')\n",
    "x"
   ]
  },
  {
   "cell_type": "code",
   "execution_count": 52,
   "id": "fa570d1c",
   "metadata": {},
   "outputs": [
    {
     "data": {
      "text/plain": [
       "array([[ 9.65192807e-01,  9.73526957e-01,  1.54429626e+00],\n",
       "       [-1.16762876e+00,  1.06612382e+00,  7.81635855e-01],\n",
       "       [-1.52047229e+00,  1.46797893e+00,  1.54711875e+00],\n",
       "       [ 3.36685305e-02,  1.18884353e+00,  1.22781940e+00],\n",
       "       [ 3.75102673e-01, -7.89065490e-01,  1.22471423e+00],\n",
       "       [-1.65148974e+00,  1.64777581e+00,  1.70434613e+00],\n",
       "       [-1.01520320e+00,  6.61327524e-01, -1.29948529e-01],\n",
       "       [-3.18621798e-01, -1.88422862e-01, -8.49495883e-01],\n",
       "       [-1.65316432e+00, -1.53005769e+00, -2.06812025e+00],\n",
       "       [ 6.00688802e-01, -1.47655016e+00, -2.50101105e-01],\n",
       "       [-9.17118899e-01, -1.17850067e+00, -9.46254925e-02],\n",
       "       [ 7.79303027e-01,  9.85173409e-02, -1.57165278e+00],\n",
       "       [-1.42862477e+00,  8.05623798e-01,  1.44982898e+00],\n",
       "       [-5.68478671e-01, -1.03112881e+00, -1.21867084e+00],\n",
       "       [ 6.52096291e-01,  6.67625747e-01,  8.13743543e-01],\n",
       "       [ 5.48212292e-01,  1.57606394e+00,  1.04911106e+00],\n",
       "       [-8.97922078e-01,  8.99099979e-01,  2.63264875e+00],\n",
       "       [ 1.59138830e+00,  1.08458553e+00,  1.14291002e+00],\n",
       "       [-8.82153661e-01, -1.29479931e-01, -4.11994260e-01],\n",
       "       [-1.44411031e-02,  9.20302143e-02, -3.66036186e-01],\n",
       "       [ 8.23854709e-01,  3.37171352e-01,  1.06548446e+00],\n",
       "       [ 1.05370151e+00, -1.23893521e+00, -1.29948529e-01],\n",
       "       [-1.57977225e+00, -4.33869883e-01,  9.38817351e-01],\n",
       "       [ 9.43405493e-01, -3.66866367e-01,  3.45214044e-03],\n",
       "       [-9.60244336e-01, -6.60482599e-01, -4.11994260e-01],\n",
       "       [ 1.36453335e+00, -1.38616297e+00, -3.43445289e-01],\n",
       "       [-6.45667357e-02,  4.39485689e-01, -7.76773793e-01],\n",
       "       [ 1.08649558e+00, -3.80219018e-01, -1.60668885e-01],\n",
       "       [ 1.19236419e+00,  2.98661133e-01, -1.60668885e-01],\n",
       "       [-8.66419865e-01, -4.27141267e-01,  6.23131625e-01],\n",
       "       [ 1.73287997e+00,  3.75604427e-01,  7.12672318e-01],\n",
       "       [-3.99179459e-01, -3.33579831e-01,  5.38482425e-01],\n",
       "       [-5.71775947e-01, -1.59838095e+00,  1.79558937e-01],\n",
       "       [ 1.39757790e+00, -1.62203216e-01, -2.24675204e+00],\n",
       "       [-5.88265358e-01, -1.61029875e+00, -1.19962290e+00],\n",
       "       [ 1.70578636e+00, -1.32923507e+00, -1.09940218e+00],\n",
       "       [ 1.41349642e+00,  1.34107693e+00, -1.44959860e+00],\n",
       "       [-8.20523349e-01,  1.67757564e+00,  8.03079840e-01],\n",
       "       [-1.18443836e+00,  2.72945352e-01,  3.98210293e-01],\n",
       "       [ 9.39775738e-01,  9.67336636e-01,  2.67512313e-01],\n",
       "       [ 6.32954077e-01, -1.19964970e-02,  2.50161379e-01],\n",
       "       [ 3.30331136e-01,  6.99083424e-01,  5.42386416e-01],\n",
       "       [ 1.74150311e+00,  3.37171352e-01, -1.90617271e+00],\n",
       "       [ 6.85633483e-01, -9.68591866e-01,  1.30423867e-02],\n",
       "       [-1.41120141e+00,  2.08510869e-01,  7.16343136e-01],\n",
       "       [ 3.07993769e-01,  1.02950447e-03,  2.45805337e-01],\n",
       "       [-6.54300827e-01, -8.55144262e-01,  4.22778568e-01],\n",
       "       [ 1.08406535e+00,  1.20106946e+00, -4.00404937e-01],\n",
       "       [ 9.30098460e-01, -4.40605220e-01,  9.49009558e-01],\n",
       "       [-9.08078135e-01, -7.24233205e-01,  4.67246528e-01],\n",
       "       [ 6.00688802e-01, -1.42550941e+00,  3.77562856e-01],\n",
       "       [-5.36612111e-01, -8.77480138e-01, -1.62459545e+00],\n",
       "       [ 7.99763595e-01,  1.21328710e+00,  5.77277479e-01],\n",
       "       [ 3.96353703e-01,  1.48603673e+00,  1.23402082e+00],\n",
       "       [ 1.36208653e+00,  4.07572385e-01, -5.56776963e-01],\n",
       "       [ 5.89944327e-01,  1.67757564e+00,  1.27404423e+00],\n",
       "       [-1.67534256e+00,  3.62802035e-01,  6.45781972e-01],\n",
       "       [-1.40303668e-01, -2.14685859e-01, -5.13395293e-01],\n",
       "       [ 7.32424508e-01,  1.68948250e+00,  5.03095734e-01],\n",
       "       [ 7.31223627e-01,  4.52235627e-01, -1.03077792e+00],\n",
       "       [-1.06148575e+00, -1.54110364e+00, -2.39386470e-01],\n",
       "       [ 1.34496242e+00,  1.27425166e+00,  1.10765906e+00],\n",
       "       [ 1.07677566e+00, -4.60852790e-01,  5.57365103e-02],\n",
       "       [-5.11342849e-01,  4.58607289e-01, -1.10821806e+00],\n",
       "       [-1.97481876e-01,  1.28033684e+00,  1.29852910e-01],\n",
       "       [-8.84404126e-01, -8.99983915e-01, -2.09099290e+00],\n",
       "       [-1.32785783e+00,  1.37401595e-01, -1.83575461e+00],\n",
       "       [-1.05353452e-01, -5.28833768e-01, -9.57248948e-01],\n",
       "       [ 1.05370151e+00,  3.24343132e-01, -8.94765862e-01],\n",
       "       [ 8.04580114e-01,  1.34713982e+00,  5.10294208e-02],\n",
       "       [ 5.92331522e-01,  5.22202197e-01,  5.42386416e-01],\n",
       "       [-4.33300627e-01, -5.42528260e-01,  2.54510064e-01],\n",
       "       [-1.38868971e+00,  6.73921740e-01, -3.54709292e-01],\n",
       "       [-2.16462258e-01, -1.18701180e+00,  2.37071054e-01],\n",
       "       [ 7.63667388e-01,  1.37401595e-01, -7.41583700e-01],\n",
       "       [-1.52480798e+00,  1.33501202e+00,  2.07354326e+00],\n",
       "       [-1.37950415e+00, -1.58662847e+00, -2.77125923e-01],\n",
       "       [-3.15303187e-01,  3.88398143e-01, -6.66645066e-01],\n",
       "       [-1.70938505e+00,  4.77709024e-01, -1.02242503e+00],\n",
       "       [-3.65011555e-01, -1.02322391e+00, -1.50382083e-01],\n",
       "       [-8.01564379e-01,  2.72945352e-01, -1.91817635e-01],\n",
       "       [ 1.08285030e+00, -1.32923507e+00,  4.71253119e-01],\n",
       "       [-8.13827507e-01, -1.42563102e-01,  2.89038631e-01],\n",
       "       [-8.91159818e-01,  1.38347504e+00,  4.18699448e-01],\n",
       "       [ 7.64869797e-01,  1.29250109e+00,  3.44189447e-01],\n",
       "       [ 5.22024337e-01, -2.67367649e-01,  1.44401876e+00],\n",
       "       [-8.02678552e-01,  3.24343132e-01, -5.50517138e-01],\n",
       "       [-4.23398535e-01,  1.14598718e+00,  1.37053371e+00],\n",
       "       [-6.69734354e-01,  1.95599602e-01,  1.66091604e+00],\n",
       "       [-4.33300627e-01,  1.58205037e+00,  9.99466821e-01],\n",
       "       [-1.61649374e-01, -1.25659360e+00, -1.03077792e+00],\n",
       "       [-1.36516278e+00, -1.59838095e+00,  3.10388228e-01],\n",
       "       [ 8.15420406e-01,  7.05368276e-01,  1.24330078e+00],\n",
       "       [ 1.21796199e+00,  8.92883584e-01,  1.63074587e+00],\n",
       "       [-4.59693143e-01, -5.63136684e-01, -9.02439300e-01],\n",
       "       [ 1.70055261e-01,  5.85574812e-01,  1.04911106e+00],\n",
       "       [ 5.74434101e-01, -1.38616297e+00, -1.34984246e+00],\n",
       "       [ 4.23546962e-01, -9.68020767e-02, -2.07558626e-01],\n",
       "       [ 1.69347499e+00,  1.24989049e+00,  9.92786938e-01],\n",
       "       [-1.51545076e-01,  1.21328710e+00,  8.10193256e-01],\n",
       "       [ 8.72099412e-01, -1.31075150e+00,  9.45615947e-01],\n",
       "       [ 1.77600727e+00,  8.80444236e-01,  2.34462323e+00],\n",
       "       [ 1.57664371e+00, -8.40342940e-01, -2.39386470e-01],\n",
       "       [ 4.59080320e-01, -3.46878703e-01, -4.35379514e-01],\n",
       "       [ 1.06341511e+00,  7.55567022e-01, -1.41540530e+00],\n",
       "       [-1.21157043e-01,  1.49806551e+00,  1.24330078e+00],\n",
       "       [-1.41253504e+00, -7.74556809e-01,  1.66099842e-01],\n",
       "       [-6.46588277e-01, -1.75615220e+00, -1.45256314e-01],\n",
       "       [-1.58130076e+00, -1.74141897e+00, -2.55492230e-02],\n",
       "       [ 1.27286814e+00,  2.85807441e-01, -1.39315020e+00],\n",
       "       [ 9.13170531e-01, -9.84080135e-01,  1.16514050e+00],\n",
       "       [ 1.10594325e+00,  9.85901122e-01, -1.45256314e-01],\n",
       "       [ 3.15044102e-01, -4.67616251e-01, -1.80254542e+00],\n",
       "       [ 7.18017755e-01, -1.22941121e-01, -9.17900825e-01],\n",
       "       [-7.81530684e-01,  1.52209976e+00,  3.73414086e-01],\n",
       "       [-8.16058905e-01,  7.99374444e-01,  1.04253755e+00],\n",
       "       [-1.06483377e-01, -5.42528260e-01, -2.55492230e-02],\n",
       "       [-8.01564379e-01, -1.68591190e+00, -6.27092907e-01],\n",
       "       [-2.57652832e-01,  9.17736071e-01,  1.81590786e+00],\n",
       "       [-1.48914767e+00, -4.27141267e-01, -1.91817635e-01],\n",
       "       [-8.27201124e-02,  2.79377443e-01,  8.20831345e-01],\n",
       "       [-1.49761236e+00, -5.11095631e-02,  9.65921199e-01],\n",
       "       [ 8.91419929e-01, -1.49762849e+00, -5.75685440e-01],\n",
       "       [-2.86509682e-01,  7.74354918e-01, -7.91061272e-01],\n",
       "       [ 9.57928705e-01,  6.29802947e-01,  1.68269744e+00],\n",
       "       [-6.81869310e-01, -7.17099159e-01, -1.10049231e-02],\n",
       "       [-1.66671866e+00,  1.04147842e+00,  9.72659737e-01],\n",
       "       [-7.59315703e-01, -1.80305591e+00, -1.03917897e+00],\n",
       "       [ 8.46760716e-01,  1.65373952e+00, -1.68039924e+00],\n",
       "       [-9.91086582e-01, -7.02870239e-01,  7.08996823e-01],\n",
       "       [-1.80917869e+00,  1.08458553e+00, -1.08193431e+00],\n",
       "       [ 1.39268095e+00, -1.44565987e+00,  7.05316635e-01],\n",
       "       [-1.65652624e+00,  3.05084814e-01, -1.85283312e+00],\n",
       "       [ 8.40731007e-01,  7.05368276e-01,  7.81635855e-01],\n",
       "       [-1.26007570e+00,  1.02297195e+00,  1.44110992e+00],\n",
       "       [-1.12243395e+00,  1.53410527e+00, -1.09940218e+00],\n",
       "       [-1.40454930e+00,  1.04764297e+00, -1.03077792e+00],\n",
       "       [ 1.49684615e+00,  4.13959431e-01,  1.26485158e+00],\n",
       "       [-1.18564255e+00,  2.21414101e-01, -2.88033392e-01],\n",
       "       [ 4.23546962e-01,  1.34713982e+00, -1.92472124e+00],\n",
       "       [-8.35048404e-01, -3.60198416e-01, -7.55570913e-01],\n",
       "       [ 5.27973121e-01,  8.24358616e-01,  1.72049687e+00],\n",
       "       [ 8.49172959e-01,  6.86507039e-01,  5.10998850e-01],\n",
       "       [-4.90466846e-01, -1.18701180e+00,  3.69258826e-01],\n",
       "       [-5.82768276e-01, -5.08355862e-01,  5.50177931e-01],\n",
       "       [-9.40450226e-02, -1.55227709e+00, -1.05612865e+00],\n",
       "       [ 1.08649558e+00, -1.05500456e+00, -1.08193431e+00],\n",
       "       [ 1.12418480e+00,  1.65373952e+00,  7.52797551e-01],\n",
       "       [-1.24650106e+00,  1.12758880e+00, -8.27334933e-01],\n",
       "       [-1.16523469e+00,  2.14963494e-01, -2.82572581e-01],\n",
       "       [ 1.58278682e+00, -5.70024529e-01,  4.75253819e-01],\n",
       "       [-3.09770523e-01, -9.68591866e-01,  9.08033728e-01],\n",
       "       [ 5.74434101e-01,  5.30703041e-02, -6.66645066e-01],\n",
       "       [ 2.63420424e-01,  1.09073519e+00,  5.03095734e-01],\n",
       "       [ 4.57894737e-01, -9.02708713e-02, -1.01411954e+00],\n",
       "       [-1.73414029e+00, -7.31380581e-01, -1.37130244e+00],\n",
       "       [-6.08060968e-01,  1.32287616e+00,  9.69292323e-01],\n",
       "       [ 1.41659441e-02, -1.62239172e+00, -8.96233473e-02],\n",
       "       [-1.60297810e+00,  9.17736071e-01,  7.85220741e-01],\n",
       "       [-1.90773994e-01, -2.67367649e-01,  3.77562856e-01],\n",
       "       [ 2.77481286e-01, -2.87185292e-01,  2.10688173e-01],\n",
       "       [-6.98430509e-01,  8.49307527e-01,  9.28590852e-01],\n",
       "       [ 4.65009393e-01, -2.87185292e-01, -2.55492230e-02],\n",
       "       [ 1.72381091e-01,  9.11526221e-01, -1.19962290e+00],\n",
       "       [-3.51769949e-01, -5.15173507e-01, -1.40422554e+00],\n",
       "       [ 1.01851255e+00, -1.39588699e+00,  1.95954732e+00],\n",
       "       [-1.51041775e+00,  9.61144154e-01, -2.28725046e-01],\n",
       "       [ 6.84434902e-01, -1.23017442e+00, -3.49069494e-01],\n",
       "       [ 7.87726065e-01,  7.25581244e-02,  1.19976488e+00],\n",
       "       [ 1.62703691e+00, -8.03635611e-01, -1.29777360e+00],\n",
       "       [-1.10240222e+00, -7.31380581e-01, -4.06191114e-01],\n",
       "       [ 1.84016852e-01, -1.03334606e-01,  8.63006188e-01],\n",
       "       [-1.48633845e+00, -1.55654332e-01, -4.89049366e-01],\n",
       "       [ 2.29498842e-01, -1.07106117e+00, -7.62608579e-01],\n",
       "       [ 8.72099412e-01, -1.39588699e+00, -7.41583700e-01],\n",
       "       [ 1.53611633e+00,  1.64777581e+00,  6.60782378e-01],\n",
       "       [ 1.18749027e+00,  4.96790839e-01, -2.98997924e-01],\n",
       "       [ 2.50543705e-01, -1.01534501e+00,  4.02320683e-01],\n",
       "       [ 1.53366109e+00, -1.50832532e+00, -1.19800452e-01],\n",
       "       [ 1.96828762e-01, -8.47734869e-01, -4.53104069e-01],\n",
       "       [ 9.24056321e-02, -1.47655016e+00, -1.11708984e+00],\n",
       "       [ 8.25059820e-01, -1.21278416e+00,  6.04345781e-02],\n",
       "       [-1.03019314e+00, -1.18701180e+00,  1.66099842e-01],\n",
       "       [ 1.66762918e+00,  1.29250109e+00,  1.61694624e+00],\n",
       "       [ 1.25333771e+00, -7.72121146e-02,  1.79558937e-01],\n",
       "       [ 6.62870840e-01,  1.41973844e+00, -3.37836548e-01],\n",
       "       [-1.03093100e-01, -1.53005769e+00,  2.25948546e-02],\n",
       "       [ 4.97059244e-01,  4.01183153e-01, -4.17814522e-01],\n",
       "       [ 1.64794460e+00, -5.70024529e-01, -1.61110710e+00],\n",
       "       [-1.49902865e+00, -6.95774960e-01, -1.35039620e-01],\n",
       "       [-1.22810330e+00,  1.17660928e+00, -1.36052514e+00],\n",
       "       [-8.11596652e-01, -7.89065490e-01, -1.33925219e+00],\n",
       "       [-1.52047229e+00, -1.32923507e+00,  2.50161379e-01],\n",
       "       [ 2.10820157e-01,  1.23159806e+00, -1.62459545e+00],\n",
       "       [ 1.30199710e-02,  8.36837473e-01, -1.33925219e+00],\n",
       "       [-1.24404062e+00, -1.36692570e+00, -6.93518756e-01],\n",
       "       [-6.04760965e-01, -1.25659360e+00, -1.13500503e+00],\n",
       "       [ 3.30331136e-01, -8.99983915e-01, -1.29777360e+00],\n",
       "       [ 1.61843005e+00,  1.23159806e+00,  1.45852568e+00],\n",
       "       [ 9.89418324e-01, -9.53195213e-01, -1.08193431e+00]])"
      ]
     },
     "execution_count": 52,
     "metadata": {},
     "output_type": "execute_result"
    }
   ],
   "source": [
    "from sklearn.preprocessing import StandardScaler\n",
    "sc=StandardScaler()\n",
    "x=sc.fit_transform(x)\n",
    "x"
   ]
  },
  {
   "cell_type": "markdown",
   "id": "9455be76",
   "metadata": {},
   "source": [
    "## Regression methods"
   ]
  },
  {
   "cell_type": "code",
   "execution_count": 53,
   "id": "a85212f0",
   "metadata": {},
   "outputs": [],
   "source": [
    "from sklearn.model_selection import train_test_split\n",
    "\n",
    "from sklearn.metrics import accuracy_score"
   ]
  },
  {
   "cell_type": "code",
   "execution_count": 54,
   "id": "80018d2c",
   "metadata": {},
   "outputs": [
    {
     "name": "stdout",
     "output_type": "stream",
     "text": [
      "1.4080934886317997\n",
      "1.2475430398842504\n",
      "1.0186146266256724\n",
      "1.279381953061001\n",
      "1.1016516525818694\n",
      "1.0582289378241765\n",
      "1.2988339759067347\n",
      "1.1569945391558096\n",
      "1.2736252243580966\n",
      "1.3822467437494872\n",
      "1.2726136312901317\n",
      "1.6186414056238645\n",
      "1.1006884897713576\n",
      "1.2360126507148994\n",
      "1.2451724962648931\n",
      "1.1953191535267387\n",
      "0.9231041177035296\n",
      "0.8989050578511076\n",
      "1.3099849640589796\n",
      "1.2908770802689298\n",
      "1.4956502589073748\n",
      "1.1018579350764368\n",
      "1.103918639953309\n",
      "1.298833975906735\n",
      "1.152730618482861\n",
      "0.9540980192323169\n",
      "0.9974968671630002\n",
      "1.3405674962944658\n",
      "1.1422333254186596\n",
      "1.3461505161463974\n",
      "1.203026486521692\n",
      "1.3608709332518265\n",
      "1.1424322803350382\n",
      "0.9509166231812463\n",
      "1.3069742989752393\n",
      "1.115999348321739\n",
      "1.0674949435690337\n",
      "1.5853018066544358\n",
      "1.1679430247622995\n",
      "1.0046859904437502\n",
      "1.0523422648664464\n",
      "0.8660254037844383\n",
      "1.2785526855382106\n",
      "1.1575182438512512\n",
      "1.4677337715820344\n",
      "1.275705390136862\n",
      "1.5074562157569429\n",
      "1.2643120059877815\n",
      "1.6029329179332301\n",
      "1.5641824275533422\n",
      "1.047869411248512\n",
      "1.29251926894962\n",
      "1.083624669450832\n",
      "2.4876969999653022\n",
      "1.0311070837608567\n",
      "1.3009320667983562\n",
      "1.4128200897710246\n",
      "0.9497208521295599\n",
      "1.14561085994514\n",
      "1.1057014776040401\n",
      "1.356689375135687\n",
      "1.260531393476336\n",
      "1.412980945205968\n",
      "1.0246211421049665\n",
      "1.0539248435052548\n",
      "1.0387200748707004\n",
      "1.434847684873861\n",
      "1.147857028368846\n",
      "1.4138385317777253\n",
      "1.1071393660048297\n",
      "1.2331285661300935\n",
      "1.044683510142491\n",
      "1.0713203408538796\n",
      "1.4547206333905218\n",
      "1.2041594578792292\n",
      "1.0965510669477472\n",
      "1.174088944026324\n",
      "1.01958101911788\n",
      "1.2129353326588028\n",
      "1.177954055800037\n",
      "1.0970345703234918\n",
      "1.4051312890238898\n",
      "1.4076091916308433\n",
      "1.265030841641037\n",
      "1.1319733373024454\n",
      "1.2896440664702093\n",
      "1.1367150971642859\n",
      "1.365150674334655\n",
      "1.2353382557261823\n",
      "1.3385315336840842\n",
      "1.1380472376626178\n",
      "1.1732498248519583\n",
      "1.2013880860626733\n",
      "1.295329605883687\n",
      "1.153912973978173\n",
      "1.4256311733489284\n",
      "1.1609165657907\n",
      "0.8516472452271717\n",
      "1.3329734362762757\n",
      "1.1070709374769354\n",
      "1.4582056221135746\n",
      "1.070683723778239\n",
      "0.9958246164193103\n",
      "1.091773647314175\n",
      "1.297024566950344\n",
      "1.2930466723864598\n",
      "1.169887329462271\n",
      "1.5432649372893388\n",
      "1.3459816739713308\n",
      "1.5289132603178497\n",
      "0.9942257532798315\n",
      "1.241577686459914\n",
      "1.0738630351128668\n",
      "1.1215519550510302\n",
      "1.2531777788703984\n",
      "1.1524019711152453\n",
      "1.110623630436904\n",
      "1.2438941784865494\n",
      "1.1083703570940757\n",
      "1.1784041597161659\n",
      "1.3578615094286597\n",
      "1.4702607478493965\n",
      "1.31033190336254\n",
      "1.1808445873161886\n",
      "1.0681334611878288\n",
      "1.447568494218683\n",
      "1.0939918563765372\n",
      "1.2564982605590342\n",
      "0.9626352718795766\n",
      "1.210559600124895\n",
      "1.1712464223288717\n",
      "1.204033624819909\n",
      "1.3173090109397378\n",
      "1.3644290625263984\n",
      "1.2292520514770782\n",
      "1.5949256655994593\n",
      "1.244259546148559\n",
      "1.2968493288806457\n",
      "0.9620054809898673\n",
      "1.0933684399389556\n",
      "1.1813577191545583\n",
      "1.1241158141563368\n",
      "1.2546277970342077\n",
      "1.2338655690245364\n",
      "1.3933826292570002\n",
      "1.2898790171127985\n",
      "1.432892814617276\n",
      "1.3420924413810402\n",
      "1.2469963913339928\n",
      "1.307264087298123\n",
      "1.040469008464816\n",
      "1.1248568932548841\n",
      "2.098664799198276\n",
      "1.4404334364518496\n",
      "1.2407842095003685\n",
      "1.054930702879951\n",
      "1.1421669994118437\n",
      "1.5133246562292955\n",
      "1.2328828005937953\n",
      "1.0114496047902253\n",
      "1.1345804190416504\n",
      "1.1575836902790226\n",
      "1.4675789173969074\n",
      "1.2675435561221027\n",
      "1.554709365804816\n",
      "1.1828317332109877\n",
      "1.2390734563790116\n",
      "1.024325350776024\n",
      "1.1478570283688458\n",
      "1.2805656893921862\n",
      "1.3471068887423037\n",
      "1.1531248716843159\n",
      "1.2127479440335391\n",
      "1.631647243515806\n",
      "1.3341096225005218\n",
      "1.1348474733984244\n",
      "1.4106198938227423\n",
      "1.1196590390098067\n",
      "1.2534195650541784\n",
      "1.3642069513312876\n",
      "1.0880897913037295\n",
      "1.375984496036686\n",
      "0.9730458271932427\n",
      "1.379283960040224\n",
      "1.345812810613765\n",
      "1.2482715322323978\n",
      "1.3880987651526033\n",
      "1.2742199039555\n",
      "1.1039872638703216\n",
      "1.2789673865105302\n",
      "1.1198620044857799\n",
      "1.3615387907760392\n",
      "1.502119714391512\n",
      "1.2830479808690403\n",
      "1.3232764662233687\n",
      "1.1807804301572857\n",
      "1.060302987000614\n",
      "1.1830238605140027\n",
      "1.1015141094572203\n",
      "1.2111226947828952\n"
     ]
    }
   ],
   "source": [
    "from sklearn.metrics import mean_squared_error\n",
    "for i in range(200):\n",
    "    x_train, x_test, y_train, y_test = train_test_split(x, y, test_size=0.33, random_state=i)\n",
    "    from sklearn.tree import DecisionTreeRegressor\n",
    "    lm=DecisionTreeRegressor()\n",
    "    lm.fit(x_train,y_train)\n",
    "    y_pred=lm.predict(x_test)\n",
    "    mse=mean_squared_error(y_test,y_pred)\n",
    "    rmse = np.sqrt(mse)\n",
    "    print(rmse)"
   ]
  },
  {
   "cell_type": "code",
   "execution_count": 55,
   "id": "4ced5c05",
   "metadata": {},
   "outputs": [],
   "source": [
    "from sklearn.tree import DecisionTreeRegressor\n",
    "regressor = DecisionTreeRegressor()\n",
    "regressor.fit(x_train,y_train)\n",
    "y_pred_regressor = regressor.predict(x_test)"
   ]
  },
  {
   "cell_type": "code",
   "execution_count": 56,
   "id": "ed51c07e",
   "metadata": {},
   "outputs": [
    {
     "data": {
      "text/plain": [
       "array([17.1, 16.6, 13.4, 10.5, 13.4, 21.7, 19. ,  9.7,  9.6, 14.7, 12.4,\n",
       "       12.4, 19.4, 12.4, 11.6, 12.2, 13.2, 18.5, 11. , 13.2, 11.8,  6.6,\n",
       "       20.7, 10.4, 10.9, 25.4,  8.4, 12.8, 11. , 11.9, 19.6,  6.6, 15.5,\n",
       "       19.2,  4.8,  9.7, 12.4, 16.6,  6.6, 12.4, 19.4, 11.6, 13.4, 10.8,\n",
       "       13.2,  9.2, 12.8,  6.6,  8.5, 15.9, 12.8, 13.4, 23.7, 20.7, 12.4,\n",
       "       12.4,  8.7, 15.9, 17.3, 21.7, 23.7, 22.2, 18. ,  7.2, 13.3, 14.7])"
      ]
     },
     "execution_count": 56,
     "metadata": {},
     "output_type": "execute_result"
    }
   ],
   "source": [
    "y_pred = regressor.predict(x_test)\n",
    "y_pred"
   ]
  },
  {
   "cell_type": "code",
   "execution_count": 57,
   "id": "6734dcb6",
   "metadata": {},
   "outputs": [
    {
     "data": {
      "text/plain": [
       "100.0"
      ]
     },
     "execution_count": 57,
     "metadata": {},
     "output_type": "execute_result"
    }
   ],
   "source": [
    "dt_accuracy = round(regressor.score(x_train,y_train)*100,2)\n",
    "dt_accuracy"
   ]
  },
  {
   "cell_type": "markdown",
   "id": "34968589",
   "metadata": {},
   "source": [
    "Test accuracy of decision tree is 100 ."
   ]
  },
  {
   "cell_type": "code",
   "execution_count": 58,
   "id": "c4313fb6",
   "metadata": {},
   "outputs": [
    {
     "data": {
      "text/plain": [
       "LinearRegression()"
      ]
     },
     "execution_count": 58,
     "metadata": {},
     "output_type": "execute_result"
    }
   ],
   "source": [
    "\n",
    "from sklearn.linear_model import LinearRegression\n",
    "regressor = LinearRegression()\n",
    "regressor.fit(x_train,y_train)"
   ]
  },
  {
   "cell_type": "code",
   "execution_count": 59,
   "id": "9968d884",
   "metadata": {},
   "outputs": [
    {
     "data": {
      "text/plain": [
       "array([16.33582702, 15.1498376 , 15.30830271,  9.40382557, 13.93503137,\n",
       "       20.53136119, 17.75427281,  7.03368497,  9.85280545, 16.62410986,\n",
       "       10.14268532,  7.85524984, 19.2633865 , 10.49501767, 11.96057016,\n",
       "       14.6501865 , 14.95440658, 18.0374159 ,  8.74408552, 13.16711025,\n",
       "       15.41892647,  9.72821689, 21.91091543, 11.70963915, 11.37073319,\n",
       "       24.70521211,  8.21031129, 12.05607417,  8.60319156, 12.01221837,\n",
       "       19.67662294,  7.52415228, 14.11947682, 16.71662442,  2.67384423,\n",
       "        8.2317853 ,  8.45248254, 16.41547315,  4.07579478,  9.3081965 ,\n",
       "       19.2465924 , 12.16661602, 17.8694321 , 12.10204026, 13.75102403,\n",
       "       11.94075724, 11.82553514,  5.94907815,  7.7600024 , 19.07983977,\n",
       "       12.32063993, 18.18448167, 21.98074852, 20.07568368,  8.8806254 ,\n",
       "        9.16285283,  5.32317359, 15.34161742, 14.90078295, 20.40274888,\n",
       "       21.60311731, 21.12477285, 18.12833992,  3.93977482, 12.39389751,\n",
       "       15.19416593])"
      ]
     },
     "execution_count": 59,
     "metadata": {},
     "output_type": "execute_result"
    }
   ],
   "source": [
    "y_pred = regressor.predict(x_test)\n",
    "y_pred"
   ]
  },
  {
   "cell_type": "code",
   "execution_count": 60,
   "id": "c615d000",
   "metadata": {},
   "outputs": [
    {
     "data": {
      "text/plain": [
       "90.44"
      ]
     },
     "execution_count": 60,
     "metadata": {},
     "output_type": "execute_result"
    }
   ],
   "source": [
    "lr_accuracy = round(regressor.score(x_train,y_train)*100,2)\n",
    "lr_accuracy"
   ]
  },
  {
   "cell_type": "markdown",
   "id": "c3e54d67",
   "metadata": {},
   "source": [
    "Logistic regressor accuracy is 90.44"
   ]
  },
  {
   "cell_type": "code",
   "execution_count": 61,
   "id": "b02fc7d4",
   "metadata": {},
   "outputs": [],
   "source": [
    "from sklearn.ensemble import RandomForestRegressor\n",
    "regressor = RandomForestRegressor()\n",
    "regressor.fit(x_train,y_train)\n",
    "y_pred = regressor.predict(x_test)"
   ]
  },
  {
   "cell_type": "code",
   "execution_count": 62,
   "id": "15dcda3b",
   "metadata": {},
   "outputs": [
    {
     "data": {
      "text/plain": [
       "array([17.587, 15.892, 13.254, 10.616, 13.046, 21.389, 18.47 ,  9.623,\n",
       "        9.937, 15.42 , 11.747, 10.131, 18.974, 12.11 , 13.352, 12.223,\n",
       "       14.001, 18.985, 10.418, 12.783, 11.789,  5.238, 20.503, 10.78 ,\n",
       "       12.37 , 25.347,  9.501, 12.857, 10.484, 13.293, 20.949,  7.124,\n",
       "       15.59 , 17.517,  5.925,  9.65 , 10.47 , 16.582,  6.767, 10.715,\n",
       "       18.81 , 11.513, 13.   , 10.451, 13.486,  8.316, 12.73 ,  6.688,\n",
       "        7.536, 15.981, 12.435, 13.051, 22.676, 19.736, 10.566, 10.655,\n",
       "        8.493, 15.265, 16.379, 21.104, 22.882, 22.359, 18.571,  7.368,\n",
       "       13.494, 14.507])"
      ]
     },
     "execution_count": 62,
     "metadata": {},
     "output_type": "execute_result"
    }
   ],
   "source": [
    "y_pred = regressor.predict(x_test)\n",
    "y_pred"
   ]
  },
  {
   "cell_type": "code",
   "execution_count": 63,
   "id": "aaec74f4",
   "metadata": {},
   "outputs": [
    {
     "data": {
      "text/plain": [
       "99.7"
      ]
     },
     "execution_count": 63,
     "metadata": {},
     "output_type": "execute_result"
    }
   ],
   "source": [
    "rf_accuracy = round(regressor.score(x_train,y_train)*100,2)\n",
    "rf_accuracy"
   ]
  },
  {
   "cell_type": "markdown",
   "id": "4e477af2",
   "metadata": {},
   "source": [
    "Randomforest accuracy is 99.7."
   ]
  },
  {
   "cell_type": "markdown",
   "id": "271e2555",
   "metadata": {},
   "source": [
    "# Cross validation method"
   ]
  },
  {
   "cell_type": "code",
   "execution_count": 64,
   "id": "afe4a695",
   "metadata": {},
   "outputs": [],
   "source": [
    "from sklearn.model_selection import cross_val_score"
   ]
  },
  {
   "cell_type": "code",
   "execution_count": 65,
   "id": "576ec90f",
   "metadata": {},
   "outputs": [
    {
     "name": "stdout",
     "output_type": "stream",
     "text": [
      "0.9762989156515772\n"
     ]
    }
   ],
   "source": [
    "print(cross_val_score(regressor,x,y,cv=5).mean())"
   ]
  },
  {
   "cell_type": "markdown",
   "id": "beac26b9",
   "metadata": {},
   "source": [
    "## Hypermeter tuning"
   ]
  },
  {
   "cell_type": "code",
   "execution_count": 66,
   "id": "171ed0e7",
   "metadata": {},
   "outputs": [],
   "source": [
    "from sklearn.model_selection import GridSearchCV"
   ]
  },
  {
   "cell_type": "code",
   "execution_count": 67,
   "id": "473b6d49",
   "metadata": {},
   "outputs": [],
   "source": [
    "parameter = {\"max_depth\":[1,3,5,7,9,11,12],\n",
    "             'criterion':['mse','friedman_mse']}"
   ]
  },
  {
   "cell_type": "code",
   "execution_count": 68,
   "id": "9b324a59",
   "metadata": {},
   "outputs": [],
   "source": [
    "GCV = GridSearchCV(DecisionTreeRegressor(),parameter,cv=5)"
   ]
  },
  {
   "cell_type": "code",
   "execution_count": 69,
   "id": "41273566",
   "metadata": {},
   "outputs": [
    {
     "data": {
      "text/plain": [
       "GridSearchCV(cv=5, estimator=DecisionTreeRegressor(),\n",
       "             param_grid={'criterion': ['mse', 'friedman_mse'],\n",
       "                         'max_depth': [1, 3, 5, 7, 9, 11, 12]})"
      ]
     },
     "execution_count": 69,
     "metadata": {},
     "output_type": "execute_result"
    }
   ],
   "source": [
    "GCV.fit(x_train,y_train)"
   ]
  },
  {
   "cell_type": "code",
   "execution_count": 70,
   "id": "cf390295",
   "metadata": {},
   "outputs": [
    {
     "data": {
      "text/plain": [
       "{'criterion': 'mse', 'max_depth': 7}"
      ]
     },
     "execution_count": 70,
     "metadata": {},
     "output_type": "execute_result"
    }
   ],
   "source": [
    "GCV.best_params_"
   ]
  },
  {
   "cell_type": "markdown",
   "id": "c6bfd394",
   "metadata": {},
   "source": [
    "## Model Evaluation"
   ]
  },
  {
   "cell_type": "code",
   "execution_count": 72,
   "id": "14db71c4",
   "metadata": {},
   "outputs": [
    {
     "name": "stdout",
     "output_type": "stream",
     "text": [
      "96.61708691162588\n"
     ]
    }
   ],
   "source": [
    "Final_mod = RandomForestRegressor()\n",
    "Final_mod.fit(x_train,y_train)\n",
    "pred = Final_mod.predict(x_test)\n",
    "print((regressor.score(x_test,y_test)*100))"
   ]
  },
  {
   "cell_type": "markdown",
   "id": "e5b65cc2",
   "metadata": {},
   "source": [
    "## Saving the model"
   ]
  },
  {
   "cell_type": "code",
   "execution_count": 73,
   "id": "8202b178",
   "metadata": {},
   "outputs": [
    {
     "data": {
      "text/plain": [
       "['FinalModel.pkl']"
      ]
     },
     "execution_count": 73,
     "metadata": {},
     "output_type": "execute_result"
    }
   ],
   "source": [
    "import joblib\n",
    "joblib.dump(Final_mod,\"FinalModel.pkl\")"
   ]
  },
  {
   "cell_type": "code",
   "execution_count": 74,
   "id": "f6fd0f5b",
   "metadata": {},
   "outputs": [
    {
     "name": "stdout",
     "output_type": "stream",
     "text": [
      "[17.587 15.892 13.254 10.616 13.046 21.389 18.47   9.623  9.937 15.42\n",
      " 11.747 10.131 18.974 12.11  13.352 12.223 14.001 18.985 10.418 12.783\n",
      " 11.789  5.238 20.503 10.78  12.37  25.347  9.501 12.857 10.484 13.293\n",
      " 20.949  7.124 15.59  17.517  5.925  9.65  10.47  16.582  6.767 10.715]\n",
      "[17.3 14.9 13.2 10.1 12.9 22.6 18.3  9.5 10.1 16.7 11.4  9.3 19.6 11.5\n",
      " 12.2 12.5 15.2 19.   9.7 14.  12.7  1.6 21.4 11.8 11.9 27.   9.7 11.7\n",
      " 10.4 13.4 21.2  7.6 14.6 17.2  5.3  9.7  9.9 16.6  5.9 10.7]\n"
     ]
    }
   ],
   "source": [
    "preds = regressor.predict(x_test)\n",
    "print(preds[:40])\n",
    "print(y_test[:40].values)"
   ]
  },
  {
   "cell_type": "markdown",
   "id": "de4af433",
   "metadata": {},
   "source": [
    "## Decision Tree Regressor works the best ."
   ]
  },
  {
   "cell_type": "code",
   "execution_count": null,
   "id": "511487a6",
   "metadata": {},
   "outputs": [],
   "source": []
  }
 ],
 "metadata": {
  "kernelspec": {
   "display_name": "Python 3",
   "language": "python",
   "name": "python3"
  },
  "language_info": {
   "codemirror_mode": {
    "name": "ipython",
    "version": 3
   },
   "file_extension": ".py",
   "mimetype": "text/x-python",
   "name": "python",
   "nbconvert_exporter": "python",
   "pygments_lexer": "ipython3",
   "version": "3.8.8"
  }
 },
 "nbformat": 4,
 "nbformat_minor": 5
}
