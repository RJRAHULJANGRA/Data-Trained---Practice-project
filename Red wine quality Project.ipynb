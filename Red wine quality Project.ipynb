{
 "cells": [
  {
   "cell_type": "markdown",
   "id": "425d6e58",
   "metadata": {},
   "source": [
    "# Red Wine Quality Prediction Project"
   ]
  },
  {
   "cell_type": "code",
   "execution_count": 1,
   "id": "5f9d7d48",
   "metadata": {},
   "outputs": [],
   "source": [
    "#import all the required liabraries\n",
    "\n",
    "import pandas as pd\n",
    "import numpy as np\n",
    "import matplotlib.pyplot as plt\n",
    "import seaborn as sns\n",
    "import warnings\n",
    "warnings.filterwarnings('ignore')"
   ]
  },
  {
   "cell_type": "code",
   "execution_count": 2,
   "id": "b5247f5d",
   "metadata": {},
   "outputs": [
    {
     "data": {
      "text/html": [
       "<div>\n",
       "<style scoped>\n",
       "    .dataframe tbody tr th:only-of-type {\n",
       "        vertical-align: middle;\n",
       "    }\n",
       "\n",
       "    .dataframe tbody tr th {\n",
       "        vertical-align: top;\n",
       "    }\n",
       "\n",
       "    .dataframe thead th {\n",
       "        text-align: right;\n",
       "    }\n",
       "</style>\n",
       "<table border=\"1\" class=\"dataframe\">\n",
       "  <thead>\n",
       "    <tr style=\"text-align: right;\">\n",
       "      <th></th>\n",
       "      <th>fixed acidity</th>\n",
       "      <th>volatile acidity</th>\n",
       "      <th>citric acid</th>\n",
       "      <th>residual sugar</th>\n",
       "      <th>chlorides</th>\n",
       "      <th>free sulfur dioxide</th>\n",
       "      <th>total sulfur dioxide</th>\n",
       "      <th>density</th>\n",
       "      <th>pH</th>\n",
       "      <th>sulphates</th>\n",
       "      <th>alcohol</th>\n",
       "      <th>quality</th>\n",
       "    </tr>\n",
       "  </thead>\n",
       "  <tbody>\n",
       "    <tr>\n",
       "      <th>0</th>\n",
       "      <td>7.4</td>\n",
       "      <td>0.700</td>\n",
       "      <td>0.00</td>\n",
       "      <td>1.9</td>\n",
       "      <td>0.076</td>\n",
       "      <td>11.0</td>\n",
       "      <td>34.0</td>\n",
       "      <td>0.99780</td>\n",
       "      <td>3.51</td>\n",
       "      <td>0.56</td>\n",
       "      <td>9.4</td>\n",
       "      <td>5</td>\n",
       "    </tr>\n",
       "    <tr>\n",
       "      <th>1</th>\n",
       "      <td>7.8</td>\n",
       "      <td>0.880</td>\n",
       "      <td>0.00</td>\n",
       "      <td>2.6</td>\n",
       "      <td>0.098</td>\n",
       "      <td>25.0</td>\n",
       "      <td>67.0</td>\n",
       "      <td>0.99680</td>\n",
       "      <td>3.20</td>\n",
       "      <td>0.68</td>\n",
       "      <td>9.8</td>\n",
       "      <td>5</td>\n",
       "    </tr>\n",
       "    <tr>\n",
       "      <th>2</th>\n",
       "      <td>7.8</td>\n",
       "      <td>0.760</td>\n",
       "      <td>0.04</td>\n",
       "      <td>2.3</td>\n",
       "      <td>0.092</td>\n",
       "      <td>15.0</td>\n",
       "      <td>54.0</td>\n",
       "      <td>0.99700</td>\n",
       "      <td>3.26</td>\n",
       "      <td>0.65</td>\n",
       "      <td>9.8</td>\n",
       "      <td>5</td>\n",
       "    </tr>\n",
       "    <tr>\n",
       "      <th>3</th>\n",
       "      <td>11.2</td>\n",
       "      <td>0.280</td>\n",
       "      <td>0.56</td>\n",
       "      <td>1.9</td>\n",
       "      <td>0.075</td>\n",
       "      <td>17.0</td>\n",
       "      <td>60.0</td>\n",
       "      <td>0.99800</td>\n",
       "      <td>3.16</td>\n",
       "      <td>0.58</td>\n",
       "      <td>9.8</td>\n",
       "      <td>6</td>\n",
       "    </tr>\n",
       "    <tr>\n",
       "      <th>4</th>\n",
       "      <td>7.4</td>\n",
       "      <td>0.700</td>\n",
       "      <td>0.00</td>\n",
       "      <td>1.9</td>\n",
       "      <td>0.076</td>\n",
       "      <td>11.0</td>\n",
       "      <td>34.0</td>\n",
       "      <td>0.99780</td>\n",
       "      <td>3.51</td>\n",
       "      <td>0.56</td>\n",
       "      <td>9.4</td>\n",
       "      <td>5</td>\n",
       "    </tr>\n",
       "    <tr>\n",
       "      <th>...</th>\n",
       "      <td>...</td>\n",
       "      <td>...</td>\n",
       "      <td>...</td>\n",
       "      <td>...</td>\n",
       "      <td>...</td>\n",
       "      <td>...</td>\n",
       "      <td>...</td>\n",
       "      <td>...</td>\n",
       "      <td>...</td>\n",
       "      <td>...</td>\n",
       "      <td>...</td>\n",
       "      <td>...</td>\n",
       "    </tr>\n",
       "    <tr>\n",
       "      <th>1594</th>\n",
       "      <td>6.2</td>\n",
       "      <td>0.600</td>\n",
       "      <td>0.08</td>\n",
       "      <td>2.0</td>\n",
       "      <td>0.090</td>\n",
       "      <td>32.0</td>\n",
       "      <td>44.0</td>\n",
       "      <td>0.99490</td>\n",
       "      <td>3.45</td>\n",
       "      <td>0.58</td>\n",
       "      <td>10.5</td>\n",
       "      <td>5</td>\n",
       "    </tr>\n",
       "    <tr>\n",
       "      <th>1595</th>\n",
       "      <td>5.9</td>\n",
       "      <td>0.550</td>\n",
       "      <td>0.10</td>\n",
       "      <td>2.2</td>\n",
       "      <td>0.062</td>\n",
       "      <td>39.0</td>\n",
       "      <td>51.0</td>\n",
       "      <td>0.99512</td>\n",
       "      <td>3.52</td>\n",
       "      <td>0.76</td>\n",
       "      <td>11.2</td>\n",
       "      <td>6</td>\n",
       "    </tr>\n",
       "    <tr>\n",
       "      <th>1596</th>\n",
       "      <td>6.3</td>\n",
       "      <td>0.510</td>\n",
       "      <td>0.13</td>\n",
       "      <td>2.3</td>\n",
       "      <td>0.076</td>\n",
       "      <td>29.0</td>\n",
       "      <td>40.0</td>\n",
       "      <td>0.99574</td>\n",
       "      <td>3.42</td>\n",
       "      <td>0.75</td>\n",
       "      <td>11.0</td>\n",
       "      <td>6</td>\n",
       "    </tr>\n",
       "    <tr>\n",
       "      <th>1597</th>\n",
       "      <td>5.9</td>\n",
       "      <td>0.645</td>\n",
       "      <td>0.12</td>\n",
       "      <td>2.0</td>\n",
       "      <td>0.075</td>\n",
       "      <td>32.0</td>\n",
       "      <td>44.0</td>\n",
       "      <td>0.99547</td>\n",
       "      <td>3.57</td>\n",
       "      <td>0.71</td>\n",
       "      <td>10.2</td>\n",
       "      <td>5</td>\n",
       "    </tr>\n",
       "    <tr>\n",
       "      <th>1598</th>\n",
       "      <td>6.0</td>\n",
       "      <td>0.310</td>\n",
       "      <td>0.47</td>\n",
       "      <td>3.6</td>\n",
       "      <td>0.067</td>\n",
       "      <td>18.0</td>\n",
       "      <td>42.0</td>\n",
       "      <td>0.99549</td>\n",
       "      <td>3.39</td>\n",
       "      <td>0.66</td>\n",
       "      <td>11.0</td>\n",
       "      <td>6</td>\n",
       "    </tr>\n",
       "  </tbody>\n",
       "</table>\n",
       "<p>1599 rows × 12 columns</p>\n",
       "</div>"
      ],
      "text/plain": [
       "      fixed acidity  volatile acidity  citric acid  residual sugar  chlorides  \\\n",
       "0               7.4             0.700         0.00             1.9      0.076   \n",
       "1               7.8             0.880         0.00             2.6      0.098   \n",
       "2               7.8             0.760         0.04             2.3      0.092   \n",
       "3              11.2             0.280         0.56             1.9      0.075   \n",
       "4               7.4             0.700         0.00             1.9      0.076   \n",
       "...             ...               ...          ...             ...        ...   \n",
       "1594            6.2             0.600         0.08             2.0      0.090   \n",
       "1595            5.9             0.550         0.10             2.2      0.062   \n",
       "1596            6.3             0.510         0.13             2.3      0.076   \n",
       "1597            5.9             0.645         0.12             2.0      0.075   \n",
       "1598            6.0             0.310         0.47             3.6      0.067   \n",
       "\n",
       "      free sulfur dioxide  total sulfur dioxide  density    pH  sulphates  \\\n",
       "0                    11.0                  34.0  0.99780  3.51       0.56   \n",
       "1                    25.0                  67.0  0.99680  3.20       0.68   \n",
       "2                    15.0                  54.0  0.99700  3.26       0.65   \n",
       "3                    17.0                  60.0  0.99800  3.16       0.58   \n",
       "4                    11.0                  34.0  0.99780  3.51       0.56   \n",
       "...                   ...                   ...      ...   ...        ...   \n",
       "1594                 32.0                  44.0  0.99490  3.45       0.58   \n",
       "1595                 39.0                  51.0  0.99512  3.52       0.76   \n",
       "1596                 29.0                  40.0  0.99574  3.42       0.75   \n",
       "1597                 32.0                  44.0  0.99547  3.57       0.71   \n",
       "1598                 18.0                  42.0  0.99549  3.39       0.66   \n",
       "\n",
       "      alcohol  quality  \n",
       "0         9.4        5  \n",
       "1         9.8        5  \n",
       "2         9.8        5  \n",
       "3         9.8        6  \n",
       "4         9.4        5  \n",
       "...       ...      ...  \n",
       "1594     10.5        5  \n",
       "1595     11.2        6  \n",
       "1596     11.0        6  \n",
       "1597     10.2        5  \n",
       "1598     11.0        6  \n",
       "\n",
       "[1599 rows x 12 columns]"
      ]
     },
     "execution_count": 2,
     "metadata": {},
     "output_type": "execute_result"
    }
   ],
   "source": [
    "#Reading the data \n",
    "\n",
    "df=pd.read_csv(\"Red_wine_quality.csv\")\n",
    "df"
   ]
  },
  {
   "cell_type": "code",
   "execution_count": 7,
   "id": "42aef33c",
   "metadata": {},
   "outputs": [
    {
     "data": {
      "text/plain": [
       "(1599, 12)"
      ]
     },
     "execution_count": 7,
     "metadata": {},
     "output_type": "execute_result"
    }
   ],
   "source": [
    "#no. of rows and columns in the dataset\n",
    "\n",
    "df.shape"
   ]
  },
  {
   "cell_type": "code",
   "execution_count": 3,
   "id": "f23b5155",
   "metadata": {},
   "outputs": [
    {
     "data": {
      "text/plain": [
       "Index(['fixed acidity', 'volatile acidity', 'citric acid', 'residual sugar',\n",
       "       'chlorides', 'free sulfur dioxide', 'total sulfur dioxide', 'density',\n",
       "       'pH', 'sulphates', 'alcohol', 'quality'],\n",
       "      dtype='object')"
      ]
     },
     "execution_count": 3,
     "metadata": {},
     "output_type": "execute_result"
    }
   ],
   "source": [
    "df.columns"
   ]
  },
  {
   "cell_type": "code",
   "execution_count": 5,
   "id": "da7b88d2",
   "metadata": {},
   "outputs": [
    {
     "name": "stdout",
     "output_type": "stream",
     "text": [
      "<class 'pandas.core.frame.DataFrame'>\n",
      "RangeIndex: 1599 entries, 0 to 1598\n",
      "Data columns (total 12 columns):\n",
      " #   Column                Non-Null Count  Dtype  \n",
      "---  ------                --------------  -----  \n",
      " 0   fixed acidity         1599 non-null   float64\n",
      " 1   volatile acidity      1599 non-null   float64\n",
      " 2   citric acid           1599 non-null   float64\n",
      " 3   residual sugar        1599 non-null   float64\n",
      " 4   chlorides             1599 non-null   float64\n",
      " 5   free sulfur dioxide   1599 non-null   float64\n",
      " 6   total sulfur dioxide  1599 non-null   float64\n",
      " 7   density               1599 non-null   float64\n",
      " 8   pH                    1599 non-null   float64\n",
      " 9   sulphates             1599 non-null   float64\n",
      " 10  alcohol               1599 non-null   float64\n",
      " 11  quality               1599 non-null   int64  \n",
      "dtypes: float64(11), int64(1)\n",
      "memory usage: 150.0 KB\n"
     ]
    }
   ],
   "source": [
    "df.info()"
   ]
  },
  {
   "cell_type": "code",
   "execution_count": 6,
   "id": "9b09cdb2",
   "metadata": {},
   "outputs": [
    {
     "data": {
      "text/plain": [
       "fixed acidity           0\n",
       "volatile acidity        0\n",
       "citric acid             0\n",
       "residual sugar          0\n",
       "chlorides               0\n",
       "free sulfur dioxide     0\n",
       "total sulfur dioxide    0\n",
       "density                 0\n",
       "pH                      0\n",
       "sulphates               0\n",
       "alcohol                 0\n",
       "quality                 0\n",
       "dtype: int64"
      ]
     },
     "execution_count": 6,
     "metadata": {},
     "output_type": "execute_result"
    }
   ],
   "source": [
    "#checking the null values in the dataset\n",
    "\n",
    "df.isnull().sum()"
   ]
  },
  {
   "cell_type": "markdown",
   "id": "ce32389a",
   "metadata": {},
   "source": [
    "There is no null value in the dataset , so we can proceed further to check and visulize other things about the data."
   ]
  },
  {
   "cell_type": "markdown",
   "id": "b6275c18",
   "metadata": {},
   "source": [
    "# Data Analysis and Visualization of dataset"
   ]
  },
  {
   "cell_type": "code",
   "execution_count": 8,
   "id": "dbc87752",
   "metadata": {},
   "outputs": [
    {
     "data": {
      "text/html": [
       "<div>\n",
       "<style scoped>\n",
       "    .dataframe tbody tr th:only-of-type {\n",
       "        vertical-align: middle;\n",
       "    }\n",
       "\n",
       "    .dataframe tbody tr th {\n",
       "        vertical-align: top;\n",
       "    }\n",
       "\n",
       "    .dataframe thead th {\n",
       "        text-align: right;\n",
       "    }\n",
       "</style>\n",
       "<table border=\"1\" class=\"dataframe\">\n",
       "  <thead>\n",
       "    <tr style=\"text-align: right;\">\n",
       "      <th></th>\n",
       "      <th>fixed acidity</th>\n",
       "      <th>volatile acidity</th>\n",
       "      <th>citric acid</th>\n",
       "      <th>residual sugar</th>\n",
       "      <th>chlorides</th>\n",
       "      <th>free sulfur dioxide</th>\n",
       "      <th>total sulfur dioxide</th>\n",
       "      <th>density</th>\n",
       "      <th>pH</th>\n",
       "      <th>sulphates</th>\n",
       "      <th>alcohol</th>\n",
       "      <th>quality</th>\n",
       "    </tr>\n",
       "  </thead>\n",
       "  <tbody>\n",
       "    <tr>\n",
       "      <th>count</th>\n",
       "      <td>1599.000000</td>\n",
       "      <td>1599.000000</td>\n",
       "      <td>1599.000000</td>\n",
       "      <td>1599.000000</td>\n",
       "      <td>1599.000000</td>\n",
       "      <td>1599.000000</td>\n",
       "      <td>1599.000000</td>\n",
       "      <td>1599.000000</td>\n",
       "      <td>1599.000000</td>\n",
       "      <td>1599.000000</td>\n",
       "      <td>1599.000000</td>\n",
       "      <td>1599.000000</td>\n",
       "    </tr>\n",
       "    <tr>\n",
       "      <th>mean</th>\n",
       "      <td>8.319637</td>\n",
       "      <td>0.527821</td>\n",
       "      <td>0.270976</td>\n",
       "      <td>2.538806</td>\n",
       "      <td>0.087467</td>\n",
       "      <td>15.874922</td>\n",
       "      <td>46.467792</td>\n",
       "      <td>0.996747</td>\n",
       "      <td>3.311113</td>\n",
       "      <td>0.658149</td>\n",
       "      <td>10.422983</td>\n",
       "      <td>5.636023</td>\n",
       "    </tr>\n",
       "    <tr>\n",
       "      <th>std</th>\n",
       "      <td>1.741096</td>\n",
       "      <td>0.179060</td>\n",
       "      <td>0.194801</td>\n",
       "      <td>1.409928</td>\n",
       "      <td>0.047065</td>\n",
       "      <td>10.460157</td>\n",
       "      <td>32.895324</td>\n",
       "      <td>0.001887</td>\n",
       "      <td>0.154386</td>\n",
       "      <td>0.169507</td>\n",
       "      <td>1.065668</td>\n",
       "      <td>0.807569</td>\n",
       "    </tr>\n",
       "    <tr>\n",
       "      <th>min</th>\n",
       "      <td>4.600000</td>\n",
       "      <td>0.120000</td>\n",
       "      <td>0.000000</td>\n",
       "      <td>0.900000</td>\n",
       "      <td>0.012000</td>\n",
       "      <td>1.000000</td>\n",
       "      <td>6.000000</td>\n",
       "      <td>0.990070</td>\n",
       "      <td>2.740000</td>\n",
       "      <td>0.330000</td>\n",
       "      <td>8.400000</td>\n",
       "      <td>3.000000</td>\n",
       "    </tr>\n",
       "    <tr>\n",
       "      <th>25%</th>\n",
       "      <td>7.100000</td>\n",
       "      <td>0.390000</td>\n",
       "      <td>0.090000</td>\n",
       "      <td>1.900000</td>\n",
       "      <td>0.070000</td>\n",
       "      <td>7.000000</td>\n",
       "      <td>22.000000</td>\n",
       "      <td>0.995600</td>\n",
       "      <td>3.210000</td>\n",
       "      <td>0.550000</td>\n",
       "      <td>9.500000</td>\n",
       "      <td>5.000000</td>\n",
       "    </tr>\n",
       "    <tr>\n",
       "      <th>50%</th>\n",
       "      <td>7.900000</td>\n",
       "      <td>0.520000</td>\n",
       "      <td>0.260000</td>\n",
       "      <td>2.200000</td>\n",
       "      <td>0.079000</td>\n",
       "      <td>14.000000</td>\n",
       "      <td>38.000000</td>\n",
       "      <td>0.996750</td>\n",
       "      <td>3.310000</td>\n",
       "      <td>0.620000</td>\n",
       "      <td>10.200000</td>\n",
       "      <td>6.000000</td>\n",
       "    </tr>\n",
       "    <tr>\n",
       "      <th>75%</th>\n",
       "      <td>9.200000</td>\n",
       "      <td>0.640000</td>\n",
       "      <td>0.420000</td>\n",
       "      <td>2.600000</td>\n",
       "      <td>0.090000</td>\n",
       "      <td>21.000000</td>\n",
       "      <td>62.000000</td>\n",
       "      <td>0.997835</td>\n",
       "      <td>3.400000</td>\n",
       "      <td>0.730000</td>\n",
       "      <td>11.100000</td>\n",
       "      <td>6.000000</td>\n",
       "    </tr>\n",
       "    <tr>\n",
       "      <th>max</th>\n",
       "      <td>15.900000</td>\n",
       "      <td>1.580000</td>\n",
       "      <td>1.000000</td>\n",
       "      <td>15.500000</td>\n",
       "      <td>0.611000</td>\n",
       "      <td>72.000000</td>\n",
       "      <td>289.000000</td>\n",
       "      <td>1.003690</td>\n",
       "      <td>4.010000</td>\n",
       "      <td>2.000000</td>\n",
       "      <td>14.900000</td>\n",
       "      <td>8.000000</td>\n",
       "    </tr>\n",
       "  </tbody>\n",
       "</table>\n",
       "</div>"
      ],
      "text/plain": [
       "       fixed acidity  volatile acidity  citric acid  residual sugar  \\\n",
       "count    1599.000000       1599.000000  1599.000000     1599.000000   \n",
       "mean        8.319637          0.527821     0.270976        2.538806   \n",
       "std         1.741096          0.179060     0.194801        1.409928   \n",
       "min         4.600000          0.120000     0.000000        0.900000   \n",
       "25%         7.100000          0.390000     0.090000        1.900000   \n",
       "50%         7.900000          0.520000     0.260000        2.200000   \n",
       "75%         9.200000          0.640000     0.420000        2.600000   \n",
       "max        15.900000          1.580000     1.000000       15.500000   \n",
       "\n",
       "         chlorides  free sulfur dioxide  total sulfur dioxide      density  \\\n",
       "count  1599.000000          1599.000000           1599.000000  1599.000000   \n",
       "mean      0.087467            15.874922             46.467792     0.996747   \n",
       "std       0.047065            10.460157             32.895324     0.001887   \n",
       "min       0.012000             1.000000              6.000000     0.990070   \n",
       "25%       0.070000             7.000000             22.000000     0.995600   \n",
       "50%       0.079000            14.000000             38.000000     0.996750   \n",
       "75%       0.090000            21.000000             62.000000     0.997835   \n",
       "max       0.611000            72.000000            289.000000     1.003690   \n",
       "\n",
       "                pH    sulphates      alcohol      quality  \n",
       "count  1599.000000  1599.000000  1599.000000  1599.000000  \n",
       "mean      3.311113     0.658149    10.422983     5.636023  \n",
       "std       0.154386     0.169507     1.065668     0.807569  \n",
       "min       2.740000     0.330000     8.400000     3.000000  \n",
       "25%       3.210000     0.550000     9.500000     5.000000  \n",
       "50%       3.310000     0.620000    10.200000     6.000000  \n",
       "75%       3.400000     0.730000    11.100000     6.000000  \n",
       "max       4.010000     2.000000    14.900000     8.000000  "
      ]
     },
     "execution_count": 8,
     "metadata": {},
     "output_type": "execute_result"
    }
   ],
   "source": [
    "#Statistical measures of datset\n",
    "\n",
    "df.describe()"
   ]
  },
  {
   "cell_type": "code",
   "execution_count": 9,
   "id": "15327983",
   "metadata": {},
   "outputs": [
    {
     "data": {
      "text/plain": [
       "<AxesSubplot:>"
      ]
     },
     "execution_count": 9,
     "metadata": {},
     "output_type": "execute_result"
    },
    {
     "data": {
      "image/png": "[encoded data removed]",
      "text/plain": [
       "<Figure size 432x288 with 2 Axes>"
      ]
     },
     "metadata": {
      "needs_background": "light"
     },
     "output_type": "display_data"
    }
   ],
   "source": [
    "#checking the null values through visulization \n",
    "\n",
    "sns.heatmap(df.isnull())"
   ]
  },
  {
   "cell_type": "code",
   "execution_count": 10,
   "id": "e6e4ce80",
   "metadata": {},
   "outputs": [
    {
     "data": {
      "text/plain": [
       "<seaborn.axisgrid.FacetGrid at 0x14f14593bb0>"
      ]
     },
     "execution_count": 10,
     "metadata": {},
     "output_type": "execute_result"
    },
    {
     "data": {
      "image/png": "[encoded data removed]",
      "text/plain": [
       "<Figure size 360x360 with 1 Axes>"
      ]
     },
     "metadata": {
      "needs_background": "light"
     },
     "output_type": "display_data"
    }
   ],
   "source": [
    "#Number of values for each quality \n",
    "\n",
    "sns.catplot(x='quality', data= df , kind= 'count')"
   ]
  },
  {
   "cell_type": "code",
   "execution_count": 11,
   "id": "07eb3d72",
   "metadata": {},
   "outputs": [
    {
     "data": {
      "text/plain": [
       "<AxesSubplot:xlabel='quality', ylabel='alcohol'>"
      ]
     },
     "execution_count": 11,
     "metadata": {},
     "output_type": "execute_result"
    },
    {
     "data": {
      "image/png": "[encoded data removed]",
      "text/plain": [
       "<Figure size 432x288 with 1 Axes>"
      ]
     },
     "metadata": {
      "needs_background": "light"
     },
     "output_type": "display_data"
    }
   ],
   "source": [
    "#Now lets check the how alcohol impact on quality via barplot\n",
    "\n",
    "sns.barplot(x=\"quality\",y=\"alcohol\",data=df)"
   ]
  },
  {
   "cell_type": "code",
   "execution_count": 12,
   "id": "0d8972b1",
   "metadata": {},
   "outputs": [
    {
     "data": {
      "text/plain": [
       "<AxesSubplot:xlabel='quality', ylabel='volatile acidity'>"
      ]
     },
     "execution_count": 12,
     "metadata": {},
     "output_type": "execute_result"
    },
    {
     "data": {
      "image/png": "[encoded data removed]",
      "text/plain": [
       "<Figure size 432x432 with 1 Axes>"
      ]
     },
     "metadata": {
      "needs_background": "light"
     },
     "output_type": "display_data"
    }
   ],
   "source": [
    "# volatile acidity vs quality \n",
    "\n",
    "plt.figure(figsize=(6,6))\n",
    "sns.barplot(x='quality', y='volatile acidity', data=df)"
   ]
  },
  {
   "cell_type": "code",
   "execution_count": 13,
   "id": "b0c9cabf",
   "metadata": {},
   "outputs": [
    {
     "data": {
      "text/plain": [
       "<AxesSubplot:xlabel='quality', ylabel='citric acid'>"
      ]
     },
     "execution_count": 13,
     "metadata": {},
     "output_type": "execute_result"
    },
    {
     "data": {
      "image/png": "[encoded data removed]",
      "text/plain": [
       "<Figure size 432x288 with 1 Axes>"
      ]
     },
     "metadata": {
      "needs_background": "light"
     },
     "output_type": "display_data"
    }
   ],
   "source": [
    "#citric acid vs quality\n",
    "\n",
    "sns.barplot(x=\"quality\",y=\"citric acid\",data=df)"
   ]
  },
  {
   "cell_type": "code",
   "execution_count": 14,
   "id": "6a0b5057",
   "metadata": {},
   "outputs": [
    {
     "data": {
      "text/plain": [
       "<AxesSubplot:xlabel='quality', ylabel='pH'>"
      ]
     },
     "execution_count": 14,
     "metadata": {},
     "output_type": "execute_result"
    },
    {
     "data": {
      "image/png": "[encoded data removed]",
      "text/plain": [
       "<Figure size 432x288 with 1 Axes>"
      ]
     },
     "metadata": {
      "needs_background": "light"
     },
     "output_type": "display_data"
    }
   ],
   "source": [
    "#quality vs ph\n",
    "\n",
    "sns.barplot(x=\"quality\",y=\"pH\",data=df)"
   ]
  },
  {
   "cell_type": "code",
   "execution_count": 15,
   "id": "42526520",
   "metadata": {},
   "outputs": [
    {
     "data": {
      "text/plain": [
       "<AxesSubplot:xlabel='quality', ylabel='residual sugar'>"
      ]
     },
     "execution_count": 15,
     "metadata": {},
     "output_type": "execute_result"
    },
    {
     "data": {
      "image/png": "[encoded data removed]",
      "text/plain": [
       "<Figure size 432x288 with 1 Axes>"
      ]
     },
     "metadata": {
      "needs_background": "light"
     },
     "output_type": "display_data"
    }
   ],
   "source": [
    "#quality vs residual sugar\n",
    "\n",
    "sns.barplot(x=\"quality\",y=\"residual sugar\",data=df)"
   ]
  },
  {
   "cell_type": "code",
   "execution_count": 36,
   "id": "caf38a03",
   "metadata": {},
   "outputs": [
    {
     "data": {
      "text/plain": [
       "<AxesSubplot:xlabel='quality', ylabel='density'>"
      ]
     },
     "execution_count": 36,
     "metadata": {},
     "output_type": "execute_result"
    },
    {
     "data": {
      "image/png": "[encoded data removed]",
      "text/plain": [
       "<Figure size 432x288 with 1 Axes>"
      ]
     },
     "metadata": {
      "needs_background": "light"
     },
     "output_type": "display_data"
    }
   ],
   "source": [
    "sns.barplot(x=\"quality\",y=\"density\",data=df)"
   ]
  },
  {
   "cell_type": "markdown",
   "id": "5eb6dac5",
   "metadata": {},
   "source": [
    "## Correlation "
   ]
  },
  {
   "cell_type": "code",
   "execution_count": 18,
   "id": "5daffd12",
   "metadata": {},
   "outputs": [
    {
     "data": {
      "text/html": [
       "<div>\n",
       "<style scoped>\n",
       "    .dataframe tbody tr th:only-of-type {\n",
       "        vertical-align: middle;\n",
       "    }\n",
       "\n",
       "    .dataframe tbody tr th {\n",
       "        vertical-align: top;\n",
       "    }\n",
       "\n",
       "    .dataframe thead th {\n",
       "        text-align: right;\n",
       "    }\n",
       "</style>\n",
       "<table border=\"1\" class=\"dataframe\">\n",
       "  <thead>\n",
       "    <tr style=\"text-align: right;\">\n",
       "      <th></th>\n",
       "      <th>fixed acidity</th>\n",
       "      <th>volatile acidity</th>\n",
       "      <th>citric acid</th>\n",
       "      <th>residual sugar</th>\n",
       "      <th>chlorides</th>\n",
       "      <th>free sulfur dioxide</th>\n",
       "      <th>total sulfur dioxide</th>\n",
       "      <th>density</th>\n",
       "      <th>pH</th>\n",
       "      <th>sulphates</th>\n",
       "      <th>alcohol</th>\n",
       "      <th>quality</th>\n",
       "    </tr>\n",
       "  </thead>\n",
       "  <tbody>\n",
       "    <tr>\n",
       "      <th>fixed acidity</th>\n",
       "      <td>1.000000</td>\n",
       "      <td>-0.256131</td>\n",
       "      <td>0.671703</td>\n",
       "      <td>0.114777</td>\n",
       "      <td>0.093705</td>\n",
       "      <td>-0.153794</td>\n",
       "      <td>-0.113181</td>\n",
       "      <td>0.668047</td>\n",
       "      <td>-0.682978</td>\n",
       "      <td>0.183006</td>\n",
       "      <td>-0.061668</td>\n",
       "      <td>0.124052</td>\n",
       "    </tr>\n",
       "    <tr>\n",
       "      <th>volatile acidity</th>\n",
       "      <td>-0.256131</td>\n",
       "      <td>1.000000</td>\n",
       "      <td>-0.552496</td>\n",
       "      <td>0.001918</td>\n",
       "      <td>0.061298</td>\n",
       "      <td>-0.010504</td>\n",
       "      <td>0.076470</td>\n",
       "      <td>0.022026</td>\n",
       "      <td>0.234937</td>\n",
       "      <td>-0.260987</td>\n",
       "      <td>-0.202288</td>\n",
       "      <td>-0.390558</td>\n",
       "    </tr>\n",
       "    <tr>\n",
       "      <th>citric acid</th>\n",
       "      <td>0.671703</td>\n",
       "      <td>-0.552496</td>\n",
       "      <td>1.000000</td>\n",
       "      <td>0.143577</td>\n",
       "      <td>0.203823</td>\n",
       "      <td>-0.060978</td>\n",
       "      <td>0.035533</td>\n",
       "      <td>0.364947</td>\n",
       "      <td>-0.541904</td>\n",
       "      <td>0.312770</td>\n",
       "      <td>0.109903</td>\n",
       "      <td>0.226373</td>\n",
       "    </tr>\n",
       "    <tr>\n",
       "      <th>residual sugar</th>\n",
       "      <td>0.114777</td>\n",
       "      <td>0.001918</td>\n",
       "      <td>0.143577</td>\n",
       "      <td>1.000000</td>\n",
       "      <td>0.055610</td>\n",
       "      <td>0.187049</td>\n",
       "      <td>0.203028</td>\n",
       "      <td>0.355283</td>\n",
       "      <td>-0.085652</td>\n",
       "      <td>0.005527</td>\n",
       "      <td>0.042075</td>\n",
       "      <td>0.013732</td>\n",
       "    </tr>\n",
       "    <tr>\n",
       "      <th>chlorides</th>\n",
       "      <td>0.093705</td>\n",
       "      <td>0.061298</td>\n",
       "      <td>0.203823</td>\n",
       "      <td>0.055610</td>\n",
       "      <td>1.000000</td>\n",
       "      <td>0.005562</td>\n",
       "      <td>0.047400</td>\n",
       "      <td>0.200632</td>\n",
       "      <td>-0.265026</td>\n",
       "      <td>0.371260</td>\n",
       "      <td>-0.221141</td>\n",
       "      <td>-0.128907</td>\n",
       "    </tr>\n",
       "    <tr>\n",
       "      <th>free sulfur dioxide</th>\n",
       "      <td>-0.153794</td>\n",
       "      <td>-0.010504</td>\n",
       "      <td>-0.060978</td>\n",
       "      <td>0.187049</td>\n",
       "      <td>0.005562</td>\n",
       "      <td>1.000000</td>\n",
       "      <td>0.667666</td>\n",
       "      <td>-0.021946</td>\n",
       "      <td>0.070377</td>\n",
       "      <td>0.051658</td>\n",
       "      <td>-0.069408</td>\n",
       "      <td>-0.050656</td>\n",
       "    </tr>\n",
       "    <tr>\n",
       "      <th>total sulfur dioxide</th>\n",
       "      <td>-0.113181</td>\n",
       "      <td>0.076470</td>\n",
       "      <td>0.035533</td>\n",
       "      <td>0.203028</td>\n",
       "      <td>0.047400</td>\n",
       "      <td>0.667666</td>\n",
       "      <td>1.000000</td>\n",
       "      <td>0.071269</td>\n",
       "      <td>-0.066495</td>\n",
       "      <td>0.042947</td>\n",
       "      <td>-0.205654</td>\n",
       "      <td>-0.185100</td>\n",
       "    </tr>\n",
       "    <tr>\n",
       "      <th>density</th>\n",
       "      <td>0.668047</td>\n",
       "      <td>0.022026</td>\n",
       "      <td>0.364947</td>\n",
       "      <td>0.355283</td>\n",
       "      <td>0.200632</td>\n",
       "      <td>-0.021946</td>\n",
       "      <td>0.071269</td>\n",
       "      <td>1.000000</td>\n",
       "      <td>-0.341699</td>\n",
       "      <td>0.148506</td>\n",
       "      <td>-0.496180</td>\n",
       "      <td>-0.174919</td>\n",
       "    </tr>\n",
       "    <tr>\n",
       "      <th>pH</th>\n",
       "      <td>-0.682978</td>\n",
       "      <td>0.234937</td>\n",
       "      <td>-0.541904</td>\n",
       "      <td>-0.085652</td>\n",
       "      <td>-0.265026</td>\n",
       "      <td>0.070377</td>\n",
       "      <td>-0.066495</td>\n",
       "      <td>-0.341699</td>\n",
       "      <td>1.000000</td>\n",
       "      <td>-0.196648</td>\n",
       "      <td>0.205633</td>\n",
       "      <td>-0.057731</td>\n",
       "    </tr>\n",
       "    <tr>\n",
       "      <th>sulphates</th>\n",
       "      <td>0.183006</td>\n",
       "      <td>-0.260987</td>\n",
       "      <td>0.312770</td>\n",
       "      <td>0.005527</td>\n",
       "      <td>0.371260</td>\n",
       "      <td>0.051658</td>\n",
       "      <td>0.042947</td>\n",
       "      <td>0.148506</td>\n",
       "      <td>-0.196648</td>\n",
       "      <td>1.000000</td>\n",
       "      <td>0.093595</td>\n",
       "      <td>0.251397</td>\n",
       "    </tr>\n",
       "    <tr>\n",
       "      <th>alcohol</th>\n",
       "      <td>-0.061668</td>\n",
       "      <td>-0.202288</td>\n",
       "      <td>0.109903</td>\n",
       "      <td>0.042075</td>\n",
       "      <td>-0.221141</td>\n",
       "      <td>-0.069408</td>\n",
       "      <td>-0.205654</td>\n",
       "      <td>-0.496180</td>\n",
       "      <td>0.205633</td>\n",
       "      <td>0.093595</td>\n",
       "      <td>1.000000</td>\n",
       "      <td>0.476166</td>\n",
       "    </tr>\n",
       "    <tr>\n",
       "      <th>quality</th>\n",
       "      <td>0.124052</td>\n",
       "      <td>-0.390558</td>\n",
       "      <td>0.226373</td>\n",
       "      <td>0.013732</td>\n",
       "      <td>-0.128907</td>\n",
       "      <td>-0.050656</td>\n",
       "      <td>-0.185100</td>\n",
       "      <td>-0.174919</td>\n",
       "      <td>-0.057731</td>\n",
       "      <td>0.251397</td>\n",
       "      <td>0.476166</td>\n",
       "      <td>1.000000</td>\n",
       "    </tr>\n",
       "  </tbody>\n",
       "</table>\n",
       "</div>"
      ],
      "text/plain": [
       "                      fixed acidity  volatile acidity  citric acid  \\\n",
       "fixed acidity              1.000000         -0.256131     0.671703   \n",
       "volatile acidity          -0.256131          1.000000    -0.552496   \n",
       "citric acid                0.671703         -0.552496     1.000000   \n",
       "residual sugar             0.114777          0.001918     0.143577   \n",
       "chlorides                  0.093705          0.061298     0.203823   \n",
       "free sulfur dioxide       -0.153794         -0.010504    -0.060978   \n",
       "total sulfur dioxide      -0.113181          0.076470     0.035533   \n",
       "density                    0.668047          0.022026     0.364947   \n",
       "pH                        -0.682978          0.234937    -0.541904   \n",
       "sulphates                  0.183006         -0.260987     0.312770   \n",
       "alcohol                   -0.061668         -0.202288     0.109903   \n",
       "quality                    0.124052         -0.390558     0.226373   \n",
       "\n",
       "                      residual sugar  chlorides  free sulfur dioxide  \\\n",
       "fixed acidity               0.114777   0.093705            -0.153794   \n",
       "volatile acidity            0.001918   0.061298            -0.010504   \n",
       "citric acid                 0.143577   0.203823            -0.060978   \n",
       "residual sugar              1.000000   0.055610             0.187049   \n",
       "chlorides                   0.055610   1.000000             0.005562   \n",
       "free sulfur dioxide         0.187049   0.005562             1.000000   \n",
       "total sulfur dioxide        0.203028   0.047400             0.667666   \n",
       "density                     0.355283   0.200632            -0.021946   \n",
       "pH                         -0.085652  -0.265026             0.070377   \n",
       "sulphates                   0.005527   0.371260             0.051658   \n",
       "alcohol                     0.042075  -0.221141            -0.069408   \n",
       "quality                     0.013732  -0.128907            -0.050656   \n",
       "\n",
       "                      total sulfur dioxide   density        pH  sulphates  \\\n",
       "fixed acidity                    -0.113181  0.668047 -0.682978   0.183006   \n",
       "volatile acidity                  0.076470  0.022026  0.234937  -0.260987   \n",
       "citric acid                       0.035533  0.364947 -0.541904   0.312770   \n",
       "residual sugar                    0.203028  0.355283 -0.085652   0.005527   \n",
       "chlorides                         0.047400  0.200632 -0.265026   0.371260   \n",
       "free sulfur dioxide               0.667666 -0.021946  0.070377   0.051658   \n",
       "total sulfur dioxide              1.000000  0.071269 -0.066495   0.042947   \n",
       "density                           0.071269  1.000000 -0.341699   0.148506   \n",
       "pH                               -0.066495 -0.341699  1.000000  -0.196648   \n",
       "sulphates                         0.042947  0.148506 -0.196648   1.000000   \n",
       "alcohol                          -0.205654 -0.496180  0.205633   0.093595   \n",
       "quality                          -0.185100 -0.174919 -0.057731   0.251397   \n",
       "\n",
       "                       alcohol   quality  \n",
       "fixed acidity        -0.061668  0.124052  \n",
       "volatile acidity     -0.202288 -0.390558  \n",
       "citric acid           0.109903  0.226373  \n",
       "residual sugar        0.042075  0.013732  \n",
       "chlorides            -0.221141 -0.128907  \n",
       "free sulfur dioxide  -0.069408 -0.050656  \n",
       "total sulfur dioxide -0.205654 -0.185100  \n",
       "density              -0.496180 -0.174919  \n",
       "pH                    0.205633 -0.057731  \n",
       "sulphates             0.093595  0.251397  \n",
       "alcohol               1.000000  0.476166  \n",
       "quality               0.476166  1.000000  "
      ]
     },
     "execution_count": 18,
     "metadata": {},
     "output_type": "execute_result"
    }
   ],
   "source": [
    "corr= df.corr()\n",
    "corr"
   ]
  },
  {
   "cell_type": "code",
   "execution_count": 20,
   "id": "4977a00f",
   "metadata": {},
   "outputs": [
    {
     "data": {
      "text/plain": [
       "<AxesSubplot:>"
      ]
     },
     "execution_count": 20,
     "metadata": {},
     "output_type": "execute_result"
    },
    {
     "data": {
      "image/png": "[encoded data removed]",
      "text/plain": [
       "<Figure size 864x864 with 2 Axes>"
      ]
     },
     "metadata": {
      "needs_background": "light"
     },
     "output_type": "display_data"
    }
   ],
   "source": [
    "#correlation through heatmap\n",
    "\n",
    "plt.figure(figsize=(12,12))\n",
    "sns.heatmap(df.corr(),annot=True)"
   ]
  },
  {
   "cell_type": "markdown",
   "id": "bb8a1c65",
   "metadata": {},
   "source": [
    "Insights from heatmap\n",
    "\n",
    "1. Volatile acidity is negative correlated with quality .\n",
    "2. Alcohol and quality is positive correlated . "
   ]
  },
  {
   "cell_type": "markdown",
   "id": "098670de",
   "metadata": {},
   "source": [
    "## Data Preprocessing"
   ]
  },
  {
   "cell_type": "code",
   "execution_count": 21,
   "id": "80a07479",
   "metadata": {},
   "outputs": [],
   "source": [
    "#Lets drop the volatile acidity column due to highly -ve correlation\n",
    "df.drop('volatile acidity',axis=1,inplace=True)"
   ]
  },
  {
   "cell_type": "code",
   "execution_count": 22,
   "id": "6ce03c4f",
   "metadata": {},
   "outputs": [
    {
     "data": {
      "text/plain": [
       "<AxesSubplot:>"
      ]
     },
     "execution_count": 22,
     "metadata": {},
     "output_type": "execute_result"
    },
    {
     "data": {
      "image/png": "[encoded data removed]",
      "text/plain": [
       "<Figure size 432x288 with 1 Axes>"
      ]
     },
     "metadata": {
      "needs_background": "light"
     },
     "output_type": "display_data"
    }
   ],
   "source": [
    "#looks the outlier with boxplot\n",
    "df.boxplot()"
   ]
  },
  {
   "cell_type": "code",
   "execution_count": 31,
   "id": "8a027ced",
   "metadata": {},
   "outputs": [
    {
     "data": {
      "text/plain": [
       "fixed acidity              AxesSubplot(0.125,0.536818;0.110714x0.343182)\n",
       "citric acid             AxesSubplot(0.257857,0.536818;0.110714x0.343182)\n",
       "residual sugar          AxesSubplot(0.390714,0.536818;0.110714x0.343182)\n",
       "chlorides               AxesSubplot(0.523571,0.536818;0.110714x0.343182)\n",
       "free sulfur dioxide     AxesSubplot(0.656429,0.536818;0.110714x0.343182)\n",
       "total sulfur dioxide    AxesSubplot(0.789286,0.536818;0.110714x0.343182)\n",
       "density                       AxesSubplot(0.125,0.125;0.110714x0.343182)\n",
       "pH                         AxesSubplot(0.257857,0.125;0.110714x0.343182)\n",
       "sulphates                  AxesSubplot(0.390714,0.125;0.110714x0.343182)\n",
       "alcohol                    AxesSubplot(0.523571,0.125;0.110714x0.343182)\n",
       "quality                    AxesSubplot(0.656429,0.125;0.110714x0.343182)\n",
       "dtype: object"
      ]
     },
     "execution_count": 31,
     "metadata": {},
     "output_type": "execute_result"
    },
    {
     "data": {
      "image/png": "[encoded data removed]",
      "text/plain": [
       "<Figure size 720x720 with 12 Axes>"
      ]
     },
     "metadata": {
      "needs_background": "light"
     },
     "output_type": "display_data"
    }
   ],
   "source": [
    "#plot the each column individually with sns.subplot for getting more clearance about the outlier\n",
    "\n",
    "df.plot(kind='box',subplots=True,layout=(2,6),figsize=(10,10))"
   ]
  },
  {
   "cell_type": "code",
   "execution_count": 32,
   "id": "fa397eb3",
   "metadata": {},
   "outputs": [],
   "source": [
    "#outliers\n",
    "\n",
    "from scipy.stats import zscore\n",
    "import numpy as np"
   ]
  },
  {
   "cell_type": "code",
   "execution_count": 33,
   "id": "1ece4af7",
   "metadata": {},
   "outputs": [
    {
     "name": "stdout",
     "output_type": "stream",
     "text": [
      "(1599, 11)\n",
      "(1458, 11)\n"
     ]
    }
   ],
   "source": [
    "#z score of each point in the dataset\n",
    "#ABS is used to convert the negative value of z score into positive.\n",
    "\n",
    "z=np.abs(zscore(df))\n",
    "print(df.shape)\n",
    "df_new=df[(z<3).all(axis=1)]\n",
    "print(df_new.shape)"
   ]
  },
  {
   "cell_type": "code",
   "execution_count": 37,
   "id": "2132a6b4",
   "metadata": {},
   "outputs": [],
   "source": [
    "x=df_new.iloc[:,0:-1]"
   ]
  },
  {
   "cell_type": "code",
   "execution_count": 38,
   "id": "9175b418",
   "metadata": {},
   "outputs": [],
   "source": [
    "y=df_new.iloc[:,-1]"
   ]
  },
  {
   "cell_type": "markdown",
   "id": "e1f650b6",
   "metadata": {},
   "source": [
    "# SMOTE"
   ]
  },
  {
   "cell_type": "code",
   "execution_count": 39,
   "id": "2536e66c",
   "metadata": {},
   "outputs": [],
   "source": [
    "from imblearn.over_sampling import SMOTE"
   ]
  },
  {
   "cell_type": "code",
   "execution_count": 40,
   "id": "36882228",
   "metadata": {},
   "outputs": [],
   "source": [
    "smt=SMOTE()\n",
    "trainx,trainy=smt.fit_resample(x,y)"
   ]
  },
  {
   "cell_type": "code",
   "execution_count": 41,
   "id": "a9685c30",
   "metadata": {},
   "outputs": [
    {
     "data": {
      "text/plain": [
       "4    621\n",
       "6    621\n",
       "8    621\n",
       "5    621\n",
       "7    621\n",
       "Name: quality, dtype: int64"
      ]
     },
     "execution_count": 41,
     "metadata": {},
     "output_type": "execute_result"
    }
   ],
   "source": [
    "trainy.value_counts()"
   ]
  },
  {
   "cell_type": "code",
   "execution_count": 42,
   "id": "a79b7766",
   "metadata": {},
   "outputs": [
    {
     "data": {
      "text/plain": [
       "<AxesSubplot:xlabel='quality', ylabel='count'>"
      ]
     },
     "execution_count": 42,
     "metadata": {},
     "output_type": "execute_result"
    },
    {
     "data": {
      "image/png": "[encoded data removed]",
      "text/plain": [
       "<Figure size 432x288 with 1 Axes>"
      ]
     },
     "metadata": {
      "needs_background": "light"
     },
     "output_type": "display_data"
    }
   ],
   "source": [
    "sns.countplot(trainy)"
   ]
  },
  {
   "cell_type": "code",
   "execution_count": 34,
   "id": "2662cc24",
   "metadata": {},
   "outputs": [
    {
     "data": {
      "image/png": "[encoded data removed]",
      "text/plain": [
       "<Figure size 432x288 with 1 Axes>"
      ]
     },
     "metadata": {
      "needs_background": "light"
     },
     "output_type": "display_data"
    }
   ],
   "source": [
    "#lets have a look on quality qnty after removing the outliers\n",
    "sns.countplot(x=\"quality\",data=df_new)\n",
    "plt.show()"
   ]
  },
  {
   "cell_type": "markdown",
   "id": "a31b94c4",
   "metadata": {},
   "source": [
    "## Label binarization"
   ]
  },
  {
   "cell_type": "code",
   "execution_count": 49,
   "id": "9afef3d2",
   "metadata": {},
   "outputs": [],
   "source": [
    "df_new['quality']= np.where((df_new['quality']<7),0,1)"
   ]
  },
  {
   "cell_type": "code",
   "execution_count": 50,
   "id": "e81713be",
   "metadata": {},
   "outputs": [
    {
     "data": {
      "text/plain": [
       "array([0, 1])"
      ]
     },
     "execution_count": 50,
     "metadata": {},
     "output_type": "execute_result"
    }
   ],
   "source": [
    "df_new['quality'].unique()"
   ]
  },
  {
   "cell_type": "code",
   "execution_count": 51,
   "id": "09431134",
   "metadata": {},
   "outputs": [
    {
     "data": {
      "text/plain": [
       "<AxesSubplot:xlabel='quality', ylabel='count'>"
      ]
     },
     "execution_count": 51,
     "metadata": {},
     "output_type": "execute_result"
    },
    {
     "data": {
      "image/png": "[encoded data removed]",
      "text/plain": [
       "<Figure size 432x288 with 1 Axes>"
      ]
     },
     "metadata": {
      "needs_background": "light"
     },
     "output_type": "display_data"
    }
   ],
   "source": [
    "sns.countplot(df_new['quality'])"
   ]
  },
  {
   "cell_type": "code",
   "execution_count": 52,
   "id": "b9b7a158",
   "metadata": {},
   "outputs": [],
   "source": [
    "#Lets divide the dataset into input and output\n",
    "df_x=df_new.drop(columns=[\"quality\"])\n",
    "y=df_new[[\"quality\"]]"
   ]
  },
  {
   "cell_type": "code",
   "execution_count": 53,
   "id": "7d18eb4c",
   "metadata": {},
   "outputs": [
    {
     "data": {
      "text/html": [
       "<div>\n",
       "<style scoped>\n",
       "    .dataframe tbody tr th:only-of-type {\n",
       "        vertical-align: middle;\n",
       "    }\n",
       "\n",
       "    .dataframe tbody tr th {\n",
       "        vertical-align: top;\n",
       "    }\n",
       "\n",
       "    .dataframe thead th {\n",
       "        text-align: right;\n",
       "    }\n",
       "</style>\n",
       "<table border=\"1\" class=\"dataframe\">\n",
       "  <thead>\n",
       "    <tr style=\"text-align: right;\">\n",
       "      <th></th>\n",
       "      <th>fixed acidity</th>\n",
       "      <th>citric acid</th>\n",
       "      <th>residual sugar</th>\n",
       "      <th>chlorides</th>\n",
       "      <th>free sulfur dioxide</th>\n",
       "      <th>total sulfur dioxide</th>\n",
       "      <th>density</th>\n",
       "      <th>pH</th>\n",
       "      <th>sulphates</th>\n",
       "      <th>alcohol</th>\n",
       "    </tr>\n",
       "  </thead>\n",
       "  <tbody>\n",
       "    <tr>\n",
       "      <th>0</th>\n",
       "      <td>7.4</td>\n",
       "      <td>0.00</td>\n",
       "      <td>1.9</td>\n",
       "      <td>0.076</td>\n",
       "      <td>11.0</td>\n",
       "      <td>34.0</td>\n",
       "      <td>0.99780</td>\n",
       "      <td>3.51</td>\n",
       "      <td>0.56</td>\n",
       "      <td>9.4</td>\n",
       "    </tr>\n",
       "    <tr>\n",
       "      <th>1</th>\n",
       "      <td>7.8</td>\n",
       "      <td>0.00</td>\n",
       "      <td>2.6</td>\n",
       "      <td>0.098</td>\n",
       "      <td>25.0</td>\n",
       "      <td>67.0</td>\n",
       "      <td>0.99680</td>\n",
       "      <td>3.20</td>\n",
       "      <td>0.68</td>\n",
       "      <td>9.8</td>\n",
       "    </tr>\n",
       "    <tr>\n",
       "      <th>2</th>\n",
       "      <td>7.8</td>\n",
       "      <td>0.04</td>\n",
       "      <td>2.3</td>\n",
       "      <td>0.092</td>\n",
       "      <td>15.0</td>\n",
       "      <td>54.0</td>\n",
       "      <td>0.99700</td>\n",
       "      <td>3.26</td>\n",
       "      <td>0.65</td>\n",
       "      <td>9.8</td>\n",
       "    </tr>\n",
       "    <tr>\n",
       "      <th>3</th>\n",
       "      <td>11.2</td>\n",
       "      <td>0.56</td>\n",
       "      <td>1.9</td>\n",
       "      <td>0.075</td>\n",
       "      <td>17.0</td>\n",
       "      <td>60.0</td>\n",
       "      <td>0.99800</td>\n",
       "      <td>3.16</td>\n",
       "      <td>0.58</td>\n",
       "      <td>9.8</td>\n",
       "    </tr>\n",
       "    <tr>\n",
       "      <th>4</th>\n",
       "      <td>7.4</td>\n",
       "      <td>0.00</td>\n",
       "      <td>1.9</td>\n",
       "      <td>0.076</td>\n",
       "      <td>11.0</td>\n",
       "      <td>34.0</td>\n",
       "      <td>0.99780</td>\n",
       "      <td>3.51</td>\n",
       "      <td>0.56</td>\n",
       "      <td>9.4</td>\n",
       "    </tr>\n",
       "    <tr>\n",
       "      <th>...</th>\n",
       "      <td>...</td>\n",
       "      <td>...</td>\n",
       "      <td>...</td>\n",
       "      <td>...</td>\n",
       "      <td>...</td>\n",
       "      <td>...</td>\n",
       "      <td>...</td>\n",
       "      <td>...</td>\n",
       "      <td>...</td>\n",
       "      <td>...</td>\n",
       "    </tr>\n",
       "    <tr>\n",
       "      <th>1594</th>\n",
       "      <td>6.2</td>\n",
       "      <td>0.08</td>\n",
       "      <td>2.0</td>\n",
       "      <td>0.090</td>\n",
       "      <td>32.0</td>\n",
       "      <td>44.0</td>\n",
       "      <td>0.99490</td>\n",
       "      <td>3.45</td>\n",
       "      <td>0.58</td>\n",
       "      <td>10.5</td>\n",
       "    </tr>\n",
       "    <tr>\n",
       "      <th>1595</th>\n",
       "      <td>5.9</td>\n",
       "      <td>0.10</td>\n",
       "      <td>2.2</td>\n",
       "      <td>0.062</td>\n",
       "      <td>39.0</td>\n",
       "      <td>51.0</td>\n",
       "      <td>0.99512</td>\n",
       "      <td>3.52</td>\n",
       "      <td>0.76</td>\n",
       "      <td>11.2</td>\n",
       "    </tr>\n",
       "    <tr>\n",
       "      <th>1596</th>\n",
       "      <td>6.3</td>\n",
       "      <td>0.13</td>\n",
       "      <td>2.3</td>\n",
       "      <td>0.076</td>\n",
       "      <td>29.0</td>\n",
       "      <td>40.0</td>\n",
       "      <td>0.99574</td>\n",
       "      <td>3.42</td>\n",
       "      <td>0.75</td>\n",
       "      <td>11.0</td>\n",
       "    </tr>\n",
       "    <tr>\n",
       "      <th>1597</th>\n",
       "      <td>5.9</td>\n",
       "      <td>0.12</td>\n",
       "      <td>2.0</td>\n",
       "      <td>0.075</td>\n",
       "      <td>32.0</td>\n",
       "      <td>44.0</td>\n",
       "      <td>0.99547</td>\n",
       "      <td>3.57</td>\n",
       "      <td>0.71</td>\n",
       "      <td>10.2</td>\n",
       "    </tr>\n",
       "    <tr>\n",
       "      <th>1598</th>\n",
       "      <td>6.0</td>\n",
       "      <td>0.47</td>\n",
       "      <td>3.6</td>\n",
       "      <td>0.067</td>\n",
       "      <td>18.0</td>\n",
       "      <td>42.0</td>\n",
       "      <td>0.99549</td>\n",
       "      <td>3.39</td>\n",
       "      <td>0.66</td>\n",
       "      <td>11.0</td>\n",
       "    </tr>\n",
       "  </tbody>\n",
       "</table>\n",
       "<p>1458 rows × 10 columns</p>\n",
       "</div>"
      ],
      "text/plain": [
       "      fixed acidity  citric acid  residual sugar  chlorides  \\\n",
       "0               7.4         0.00             1.9      0.076   \n",
       "1               7.8         0.00             2.6      0.098   \n",
       "2               7.8         0.04             2.3      0.092   \n",
       "3              11.2         0.56             1.9      0.075   \n",
       "4               7.4         0.00             1.9      0.076   \n",
       "...             ...          ...             ...        ...   \n",
       "1594            6.2         0.08             2.0      0.090   \n",
       "1595            5.9         0.10             2.2      0.062   \n",
       "1596            6.3         0.13             2.3      0.076   \n",
       "1597            5.9         0.12             2.0      0.075   \n",
       "1598            6.0         0.47             3.6      0.067   \n",
       "\n",
       "      free sulfur dioxide  total sulfur dioxide  density    pH  sulphates  \\\n",
       "0                    11.0                  34.0  0.99780  3.51       0.56   \n",
       "1                    25.0                  67.0  0.99680  3.20       0.68   \n",
       "2                    15.0                  54.0  0.99700  3.26       0.65   \n",
       "3                    17.0                  60.0  0.99800  3.16       0.58   \n",
       "4                    11.0                  34.0  0.99780  3.51       0.56   \n",
       "...                   ...                   ...      ...   ...        ...   \n",
       "1594                 32.0                  44.0  0.99490  3.45       0.58   \n",
       "1595                 39.0                  51.0  0.99512  3.52       0.76   \n",
       "1596                 29.0                  40.0  0.99574  3.42       0.75   \n",
       "1597                 32.0                  44.0  0.99547  3.57       0.71   \n",
       "1598                 18.0                  42.0  0.99549  3.39       0.66   \n",
       "\n",
       "      alcohol  \n",
       "0         9.4  \n",
       "1         9.8  \n",
       "2         9.8  \n",
       "3         9.8  \n",
       "4         9.4  \n",
       "...       ...  \n",
       "1594     10.5  \n",
       "1595     11.2  \n",
       "1596     11.0  \n",
       "1597     10.2  \n",
       "1598     11.0  \n",
       "\n",
       "[1458 rows x 10 columns]"
      ]
     },
     "execution_count": 53,
     "metadata": {},
     "output_type": "execute_result"
    }
   ],
   "source": [
    "df_x"
   ]
  },
  {
   "cell_type": "code",
   "execution_count": 54,
   "id": "b211059f",
   "metadata": {},
   "outputs": [
    {
     "data": {
      "text/html": [
       "<div>\n",
       "<style scoped>\n",
       "    .dataframe tbody tr th:only-of-type {\n",
       "        vertical-align: middle;\n",
       "    }\n",
       "\n",
       "    .dataframe tbody tr th {\n",
       "        vertical-align: top;\n",
       "    }\n",
       "\n",
       "    .dataframe thead th {\n",
       "        text-align: right;\n",
       "    }\n",
       "</style>\n",
       "<table border=\"1\" class=\"dataframe\">\n",
       "  <thead>\n",
       "    <tr style=\"text-align: right;\">\n",
       "      <th></th>\n",
       "      <th>quality</th>\n",
       "    </tr>\n",
       "  </thead>\n",
       "  <tbody>\n",
       "    <tr>\n",
       "      <th>0</th>\n",
       "      <td>0</td>\n",
       "    </tr>\n",
       "    <tr>\n",
       "      <th>1</th>\n",
       "      <td>0</td>\n",
       "    </tr>\n",
       "    <tr>\n",
       "      <th>2</th>\n",
       "      <td>0</td>\n",
       "    </tr>\n",
       "    <tr>\n",
       "      <th>3</th>\n",
       "      <td>0</td>\n",
       "    </tr>\n",
       "    <tr>\n",
       "      <th>4</th>\n",
       "      <td>0</td>\n",
       "    </tr>\n",
       "    <tr>\n",
       "      <th>...</th>\n",
       "      <td>...</td>\n",
       "    </tr>\n",
       "    <tr>\n",
       "      <th>1594</th>\n",
       "      <td>0</td>\n",
       "    </tr>\n",
       "    <tr>\n",
       "      <th>1595</th>\n",
       "      <td>0</td>\n",
       "    </tr>\n",
       "    <tr>\n",
       "      <th>1596</th>\n",
       "      <td>0</td>\n",
       "    </tr>\n",
       "    <tr>\n",
       "      <th>1597</th>\n",
       "      <td>0</td>\n",
       "    </tr>\n",
       "    <tr>\n",
       "      <th>1598</th>\n",
       "      <td>0</td>\n",
       "    </tr>\n",
       "  </tbody>\n",
       "</table>\n",
       "<p>1458 rows × 1 columns</p>\n",
       "</div>"
      ],
      "text/plain": [
       "      quality\n",
       "0           0\n",
       "1           0\n",
       "2           0\n",
       "3           0\n",
       "4           0\n",
       "...       ...\n",
       "1594        0\n",
       "1595        0\n",
       "1596        0\n",
       "1597        0\n",
       "1598        0\n",
       "\n",
       "[1458 rows x 1 columns]"
      ]
     },
     "execution_count": 54,
     "metadata": {},
     "output_type": "execute_result"
    }
   ],
   "source": [
    "y"
   ]
  },
  {
   "cell_type": "code",
   "execution_count": 35,
   "id": "b6750c04",
   "metadata": {},
   "outputs": [
    {
     "data": {
      "text/plain": [
       "<seaborn.axisgrid.FacetGrid at 0x14f16ccd790>"
      ]
     },
     "execution_count": 35,
     "metadata": {},
     "output_type": "execute_result"
    },
    {
     "data": {
      "image/png": "[encoded data removed]",
      "text/plain": [
       "<Figure size 489.875x360 with 1 Axes>"
      ]
     },
     "metadata": {
      "needs_background": "light"
     },
     "output_type": "display_data"
    }
   ],
   "source": [
    "#skewness\n",
    "\n",
    "sns.displot(data=df_new)"
   ]
  },
  {
   "cell_type": "markdown",
   "id": "06dfd849",
   "metadata": {},
   "source": [
    "## REMOVING THE SKEWNESS"
   ]
  },
  {
   "cell_type": "code",
   "execution_count": 43,
   "id": "bc567163",
   "metadata": {},
   "outputs": [],
   "source": [
    "from sklearn.preprocessing import power_transform\n",
    "x=power_transform(x,method=\"yeo-johnson\")"
   ]
  },
  {
   "cell_type": "code",
   "execution_count": 44,
   "id": "10f14d5e",
   "metadata": {},
   "outputs": [
    {
     "data": {
      "text/plain": [
       "array([[-0.46531304, -1.52179499, -0.60699518, ...,  1.35472616,\n",
       "        -0.58214208, -1.12084644],\n",
       "       [-0.16806727, -1.52179499,  0.65224299, ..., -0.82077427,\n",
       "         0.45668225, -0.53203934],\n",
       "       [-0.16806727, -1.24125263,  0.21101302, ..., -0.38617329,\n",
       "         0.22572251, -0.53203934],\n",
       "       ...,\n",
       "       [-1.44922717, -0.66001353,  0.21101302, ...,  0.74054165,\n",
       "         0.93435865,  0.74129668],\n",
       "       [-1.88412706, -0.72146733, -0.37111918, ...,  1.7567213 ,\n",
       "         0.67127261, -0.03633508],\n",
       "       [-1.77077959,  1.07540664,  1.5464447 , ...,  0.5327437 ,\n",
       "         0.30462192,  0.74129668]])"
      ]
     },
     "execution_count": 44,
     "metadata": {},
     "output_type": "execute_result"
    }
   ],
   "source": [
    "x"
   ]
  },
  {
   "cell_type": "code",
   "execution_count": 45,
   "id": "2d97c20e",
   "metadata": {},
   "outputs": [],
   "source": [
    "from sklearn.preprocessing import StandardScaler\n",
    "sc=StandardScaler()\n",
    "x=sc.fit_transform(x)"
   ]
  },
  {
   "cell_type": "code",
   "execution_count": 46,
   "id": "1443393b",
   "metadata": {},
   "outputs": [
    {
     "data": {
      "text/plain": [
       "array([[-0.46531304, -1.52179499, -0.60699518, ...,  1.35472616,\n",
       "        -0.58214208, -1.12084644],\n",
       "       [-0.16806727, -1.52179499,  0.65224299, ..., -0.82077427,\n",
       "         0.45668225, -0.53203934],\n",
       "       [-0.16806727, -1.24125263,  0.21101302, ..., -0.38617329,\n",
       "         0.22572251, -0.53203934],\n",
       "       ...,\n",
       "       [-1.44922717, -0.66001353,  0.21101302, ...,  0.74054165,\n",
       "         0.93435865,  0.74129668],\n",
       "       [-1.88412706, -0.72146733, -0.37111918, ...,  1.7567213 ,\n",
       "         0.67127261, -0.03633508],\n",
       "       [-1.77077959,  1.07540664,  1.5464447 , ...,  0.5327437 ,\n",
       "         0.30462192,  0.74129668]])"
      ]
     },
     "execution_count": 46,
     "metadata": {},
     "output_type": "execute_result"
    }
   ],
   "source": [
    "x"
   ]
  },
  {
   "cell_type": "code",
   "execution_count": 55,
   "id": "0bc9c537",
   "metadata": {},
   "outputs": [],
   "source": [
    "from sklearn.preprocessing import LabelEncoder\n",
    "from sklearn.preprocessing import StandardScaler\n",
    "le=LabelEncoder()\n",
    "le.fit(y)\n",
    "y=le.transform(y)\n",
    "\n",
    "sc=StandardScaler()\n",
    "sc.fit(df_x)\n",
    "x=sc.transform(df_x)\n",
    "x=pd.DataFrame(x,columns=df_x.columns)"
   ]
  },
  {
   "cell_type": "code",
   "execution_count": 56,
   "id": "77ce4795",
   "metadata": {},
   "outputs": [],
   "source": [
    "\n",
    "import sklearn\n",
    "from sklearn.metrics import mean_absolute_error,mean_squared_error\n",
    "from sklearn.model_selection import train_test_split\n",
    "from sklearn.linear_model import LinearRegression\n",
    "from sklearn.metrics import r2_score\n",
    "lr=LinearRegression()"
   ]
  },
  {
   "cell_type": "code",
   "execution_count": 57,
   "id": "65a0b346",
   "metadata": {},
   "outputs": [],
   "source": [
    "max_scr=0\n",
    "for i in range(0,1000):\n",
    "    x_train,x_test,y_train,y_test=train_test_split(x,y,random_state=i,test_size=0.20)\n",
    "    lr.fit(x_train,y_train)\n",
    "    pred_train=lr.predict(x_train)\n",
    "    pred_test=lr.predict(x_test)\n",
    "    if round(r2_score(y_train,pred_train)*100,2)==round(r2_score(y_test,pred_test)*100,2):\n",
    "        print(\"At random state\",i,\" The model performs very well\")\n",
    "        print(\"At random_state:-\",i)\n",
    "        print(\"Training r2_score is:-\", r2_score(y_train,pred_train)*100)\n",
    "        print(\"Testing r2_score is:-\", r2_score(y_test,pred_test)*100)"
   ]
  },
  {
   "cell_type": "code",
   "execution_count": 58,
   "id": "d65138ae",
   "metadata": {},
   "outputs": [],
   "source": [
    "from sklearn.model_selection import GridSearchCV\n",
    "from sklearn.model_selection import cross_val_score\n",
    "import warnings\n",
    "warnings.filterwarnings('ignore')"
   ]
  },
  {
   "cell_type": "code",
   "execution_count": 59,
   "id": "42604332",
   "metadata": {},
   "outputs": [],
   "source": [
    "from sklearn.metrics import roc_auc_score\n",
    "from sklearn.model_selection import train_test_split\n",
    "def max_aucroc_score(clf,df_x,y):\n",
    "    max_aucroc_score=0\n",
    "    for r_state in range(42,100):\n",
    "        x_train,x_test,y_train,y_test=train_test_split(df_x,y,random_state=r_state,test_size=0.20,stratify=y)\n",
    "        clf.fit(x_train,y_train)\n",
    "        y_pred=clf.predict(x_test)\n",
    "        aucroc_scr=roc_auc_score(y_test,y_pred)\n",
    "        print(\"auc roc score corresponding to \",r_state,\"is\", aucroc_scr)\n",
    "        if aucroc_scr>max_aucroc_score:\n",
    "            max_aucroc_score=aucroc_scr\n",
    "            final_r_state=r_state\n",
    "    print(\"max auc roc score corresponding to \",final_r_state,\"is \",max_aucroc_score)\n",
    "    return final_r_state"
   ]
  },
  {
   "cell_type": "code",
   "execution_count": 60,
   "id": "a3362651",
   "metadata": {},
   "outputs": [],
   "source": [
    "def kfold(clf,x,y,):\n",
    "    print(\"Mean roc auc score for\",clf,cross_val_score(clf,x,y,cv=5,scoring=\"roc_auc\").mean())\n",
    "    print(\"standard deviation in roc auc score for\",clf,cross_val_score(clf,x,y,cv=5,scoring=\"roc_auc\").std())\n",
    "    print(cross_val_score(clf,x,y,cv=5,scoring=\"roc_auc\"))"
   ]
  },
  {
   "cell_type": "code",
   "execution_count": 61,
   "id": "9b55203b",
   "metadata": {},
   "outputs": [
    {
     "name": "stdout",
     "output_type": "stream",
     "text": [
      "auc roc score corresponding to  42 is 0.6978174603174604\n",
      "auc roc score corresponding to  43 is 0.7662698412698413\n",
      "auc roc score corresponding to  44 is 0.7662698412698413\n",
      "auc roc score corresponding to  45 is 0.6998015873015874\n",
      "auc roc score corresponding to  46 is 0.7787698412698413\n",
      "auc roc score corresponding to  47 is 0.7287698412698412\n",
      "auc roc score corresponding to  48 is 0.734722222222222\n",
      "auc roc score corresponding to  49 is 0.7551587301587301\n",
      "auc roc score corresponding to  50 is 0.7188492063492063\n",
      "auc roc score corresponding to  51 is 0.7523809523809525\n",
      "auc roc score corresponding to  52 is 0.7617063492063492\n",
      "auc roc score corresponding to  53 is 0.7458333333333332\n",
      "auc roc score corresponding to  54 is 0.7478174603174603\n",
      "auc roc score corresponding to  55 is 0.7057539682539682\n",
      "auc roc score corresponding to  56 is 0.7168650793650793\n",
      "auc roc score corresponding to  57 is 0.7557539682539682\n",
      "auc roc score corresponding to  58 is 0.7307539682539683\n",
      "auc roc score corresponding to  59 is 0.6708333333333333\n",
      "auc roc score corresponding to  60 is 0.7892857142857143\n",
      "auc roc score corresponding to  61 is 0.788690476190476\n",
      "auc roc score corresponding to  62 is 0.7668650793650793\n",
      "auc roc score corresponding to  63 is 0.7609126984126985\n",
      "auc roc score corresponding to  64 is 0.7248015873015873\n",
      "auc roc score corresponding to  65 is 0.7333333333333334\n",
      "auc roc score corresponding to  66 is 0.7807539682539683\n",
      "auc roc score corresponding to  67 is 0.8188492063492063\n",
      "auc roc score corresponding to  68 is 0.7767857142857143\n",
      "auc roc score corresponding to  69 is 0.8103174603174603\n",
      "auc roc score corresponding to  70 is 0.7841269841269841\n",
      "auc roc score corresponding to  71 is 0.6932539682539682\n",
      "auc roc score corresponding to  72 is 0.7478174603174603\n",
      "auc roc score corresponding to  73 is 0.7503968253968255\n",
      "auc roc score corresponding to  74 is 0.7688492063492064\n",
      "auc roc score corresponding to  75 is 0.7688492063492064\n",
      "auc roc score corresponding to  76 is 0.7543650793650795\n",
      "auc roc score corresponding to  77 is 0.7662698412698413\n",
      "auc roc score corresponding to  78 is 0.6688492063492064\n",
      "auc roc score corresponding to  79 is 0.7517857142857143\n",
      "auc roc score corresponding to  80 is 0.8077380952380953\n",
      "auc roc score corresponding to  81 is 0.7992063492063491\n",
      "auc roc score corresponding to  82 is 0.7833333333333333\n",
      "auc roc score corresponding to  83 is 0.7517857142857143\n",
      "auc roc score corresponding to  84 is 0.7722222222222223\n",
      "auc roc score corresponding to  85 is 0.7662698412698413\n",
      "auc roc score corresponding to  86 is 0.7628968253968254\n",
      "auc roc score corresponding to  87 is 0.7642857142857143\n",
      "auc roc score corresponding to  88 is 0.7373015873015873\n",
      "auc roc score corresponding to  89 is 0.6932539682539682\n",
      "auc roc score corresponding to  90 is 0.7063492063492064\n",
      "auc roc score corresponding to  91 is 0.6767857142857143\n",
      "auc roc score corresponding to  92 is 0.8498015873015873\n",
      "auc roc score corresponding to  93 is 0.7452380952380953\n",
      "auc roc score corresponding to  94 is 0.7412698412698413\n",
      "auc roc score corresponding to  95 is 0.7509920634920635\n",
      "auc roc score corresponding to  96 is 0.7583333333333334\n",
      "auc roc score corresponding to  97 is 0.7373015873015873\n",
      "auc roc score corresponding to  98 is 0.7248015873015873\n",
      "auc roc score corresponding to  99 is 0.7603174603174604\n",
      "max auc roc score corresponding to  92 is  0.8498015873015873\n"
     ]
    },
    {
     "data": {
      "text/plain": [
       "92"
      ]
     },
     "execution_count": 61,
     "metadata": {},
     "output_type": "execute_result"
    }
   ],
   "source": [
    "from sklearn.tree import DecisionTreeClassifier\n",
    "dc=DecisionTreeClassifier()\n",
    "max_aucroc_score(dc,x,y)"
   ]
  },
  {
   "cell_type": "code",
   "execution_count": 62,
   "id": "00653704",
   "metadata": {},
   "outputs": [
    {
     "name": "stdout",
     "output_type": "stream",
     "text": [
      "Mean roc auc score for DecisionTreeClassifier() 0.6521097105962522\n",
      "standard deviation in roc auc score for DecisionTreeClassifier() 0.06130857185444289\n",
      "[0.57222222 0.69960317 0.68613351 0.6688745  0.66015936]\n"
     ]
    }
   ],
   "source": [
    "kfold(dc,x,y)"
   ]
  },
  {
   "cell_type": "code",
   "execution_count": 63,
   "id": "6a01acd2",
   "metadata": {},
   "outputs": [
    {
     "data": {
      "text/plain": [
       "{'n_neighbors': 24}"
      ]
     },
     "execution_count": 63,
     "metadata": {},
     "output_type": "execute_result"
    }
   ],
   "source": [
    "from sklearn.neighbors import KNeighborsClassifier\n",
    "from sklearn.model_selection import GridSearchCV\n",
    "kc=KNeighborsClassifier()\n",
    "neighbors={\"n_neighbors\":range(1,30)}\n",
    "clf = GridSearchCV(kc, neighbors, cv=5,scoring=\"roc_auc\")\n",
    "clf.fit(x,y)\n",
    "clf.best_params_\n"
   ]
  },
  {
   "cell_type": "code",
   "execution_count": 64,
   "id": "8cbf6be9",
   "metadata": {},
   "outputs": [
    {
     "name": "stdout",
     "output_type": "stream",
     "text": [
      "auc roc score corresponding to  42 is 0.565079365079365\n",
      "auc roc score corresponding to  43 is 0.6420634920634921\n",
      "auc roc score corresponding to  44 is 0.6190476190476191\n",
      "auc roc score corresponding to  45 is 0.586111111111111\n",
      "auc roc score corresponding to  46 is 0.633531746031746\n",
      "auc roc score corresponding to  47 is 0.6091269841269841\n",
      "auc roc score corresponding to  48 is 0.5795634920634921\n",
      "auc roc score corresponding to  49 is 0.6565476190476192\n",
      "auc roc score corresponding to  50 is 0.594047619047619\n",
      "auc roc score corresponding to  51 is 0.561111111111111\n",
      "auc roc score corresponding to  52 is 0.650595238095238\n",
      "auc roc score corresponding to  53 is 0.5815476190476191\n",
      "auc roc score corresponding to  54 is 0.567063492063492\n",
      "auc roc score corresponding to  55 is 0.6071428571428571\n",
      "auc roc score corresponding to  56 is 0.5966269841269841\n",
      "auc roc score corresponding to  57 is 0.650595238095238\n",
      "auc roc score corresponding to  58 is 0.611111111111111\n",
      "auc roc score corresponding to  59 is 0.6275793650793651\n",
      "auc roc score corresponding to  60 is 0.6670634920634921\n",
      "auc roc score corresponding to  61 is 0.625595238095238\n",
      "auc roc score corresponding to  62 is 0.5801587301587301\n",
      "auc roc score corresponding to  63 is 0.6321428571428571\n",
      "auc roc score corresponding to  64 is 0.6031746031746031\n",
      "auc roc score corresponding to  65 is 0.6005952380952381\n",
      "auc roc score corresponding to  66 is 0.6065476190476191\n",
      "auc roc score corresponding to  67 is 0.6565476190476192\n",
      "auc roc score corresponding to  68 is 0.5781746031746031\n",
      "auc roc score corresponding to  69 is 0.6136904761904761\n",
      "auc roc score corresponding to  70 is 0.5986111111111112\n",
      "auc roc score corresponding to  71 is 0.6375\n",
      "auc roc score corresponding to  72 is 0.5815476190476191\n",
      "auc roc score corresponding to  73 is 0.584126984126984\n",
      "auc roc score corresponding to  74 is 0.584126984126984\n",
      "auc roc score corresponding to  75 is 0.694047619047619\n",
      "auc roc score corresponding to  76 is 0.6630952380952381\n",
      "auc roc score corresponding to  77 is 0.6031746031746031\n",
      "auc roc score corresponding to  78 is 0.640079365079365\n",
      "auc roc score corresponding to  79 is 0.6545634920634921\n",
      "auc roc score corresponding to  80 is 0.594047619047619\n",
      "auc roc score corresponding to  81 is 0.615079365079365\n",
      "auc roc score corresponding to  82 is 0.575595238095238\n",
      "auc roc score corresponding to  83 is 0.625595238095238\n",
      "auc roc score corresponding to  84 is 0.638095238095238\n",
      "auc roc score corresponding to  85 is 0.6196428571428572\n",
      "auc roc score corresponding to  86 is 0.6202380952380953\n",
      "auc roc score corresponding to  87 is 0.588095238095238\n",
      "auc roc score corresponding to  88 is 0.5920634920634921\n",
      "auc roc score corresponding to  89 is 0.6170634920634921\n",
      "auc roc score corresponding to  90 is 0.6051587301587301\n",
      "auc roc score corresponding to  91 is 0.6170634920634921\n",
      "auc roc score corresponding to  92 is 0.6117063492063491\n",
      "auc roc score corresponding to  93 is 0.5525793650793651\n",
      "auc roc score corresponding to  94 is 0.586111111111111\n",
      "auc roc score corresponding to  95 is 0.6236111111111111\n",
      "auc roc score corresponding to  96 is 0.5986111111111112\n",
      "auc roc score corresponding to  97 is 0.5966269841269841\n",
      "auc roc score corresponding to  98 is 0.5545634920634921\n",
      "auc roc score corresponding to  99 is 0.6011904761904762\n",
      "max auc roc score corresponding to  75 is  0.694047619047619\n"
     ]
    },
    {
     "data": {
      "text/plain": [
       "75"
      ]
     },
     "execution_count": 64,
     "metadata": {},
     "output_type": "execute_result"
    }
   ],
   "source": [
    "kc=KNeighborsClassifier(n_neighbors=29)\n",
    "max_aucroc_score(kc,x,y)"
   ]
  },
  {
   "cell_type": "code",
   "execution_count": 65,
   "id": "bdf88682",
   "metadata": {},
   "outputs": [
    {
     "name": "stdout",
     "output_type": "stream",
     "text": [
      "Mean roc auc score for KNeighborsClassifier(n_neighbors=29) 0.8378131174489036\n",
      "standard deviation in roc auc score for KNeighborsClassifier(n_neighbors=29) 0.0264596721213971\n",
      "[0.84667659 0.84603175 0.87479351 0.79457171 0.82699203]\n"
     ]
    }
   ],
   "source": [
    "kfold(kc,x,y)\n"
   ]
  },
  {
   "cell_type": "code",
   "execution_count": 66,
   "id": "ca9ed009",
   "metadata": {},
   "outputs": [
    {
     "data": {
      "text/plain": [
       "{'n_estimators': 500}"
      ]
     },
     "execution_count": 66,
     "metadata": {},
     "output_type": "execute_result"
    }
   ],
   "source": [
    "from sklearn.ensemble import RandomForestClassifier\n",
    "parameters={\"n_estimators\":[10,50,100,150,200,300,350,400,450,500]}\n",
    "rf_clf=RandomForestClassifier()\n",
    "clf=GridSearchCV(rf_clf,parameters,cv=5,scoring=\"roc_auc\")\n",
    "clf.fit(df_x,y)\n",
    "clf.best_params_"
   ]
  },
  {
   "cell_type": "code",
   "execution_count": 67,
   "id": "7ac971c3",
   "metadata": {},
   "outputs": [
    {
     "name": "stdout",
     "output_type": "stream",
     "text": [
      "auc roc score corresponding to  42 is 0.7486111111111111\n",
      "auc roc score corresponding to  43 is 0.7440476190476191\n",
      "auc roc score corresponding to  44 is 0.7170634920634921\n",
      "auc roc score corresponding to  45 is 0.6716269841269841\n",
      "auc roc score corresponding to  46 is 0.775595238095238\n",
      "auc roc score corresponding to  47 is 0.740079365079365\n",
      "auc roc score corresponding to  48 is 0.7170634920634921\n",
      "auc roc score corresponding to  49 is 0.7775793650793651\n",
      "auc roc score corresponding to  50 is 0.6525793650793651\n",
      "auc roc score corresponding to  51 is 0.740079365079365\n",
      "auc roc score corresponding to  52 is 0.7315476190476191\n",
      "auc roc score corresponding to  53 is 0.7690476190476191\n",
      "auc roc score corresponding to  54 is 0.7045634920634921\n",
      "auc roc score corresponding to  55 is 0.7341269841269841\n",
      "auc roc score corresponding to  56 is 0.811111111111111\n",
      "auc roc score corresponding to  57 is 0.7795634920634921\n",
      "auc roc score corresponding to  58 is 0.763095238095238\n",
      "auc roc score corresponding to  59 is 0.7196428571428573\n",
      "auc roc score corresponding to  60 is 0.7690476190476191\n",
      "auc roc score corresponding to  61 is 0.7795634920634921\n",
      "auc roc score corresponding to  62 is 0.7051587301587301\n",
      "auc roc score corresponding to  63 is 0.7861111111111111\n",
      "auc roc score corresponding to  64 is 0.686111111111111\n",
      "auc roc score corresponding to  65 is 0.7341269841269841\n",
      "auc roc score corresponding to  66 is 0.7255952380952381\n",
      "auc roc score corresponding to  67 is 0.775595238095238\n",
      "auc roc score corresponding to  68 is 0.8670634920634921\n",
      "auc roc score corresponding to  69 is 0.7696428571428572\n",
      "auc roc score corresponding to  70 is 0.763095238095238\n",
      "auc roc score corresponding to  71 is 0.7940476190476191\n",
      "auc roc score corresponding to  72 is 0.7275793650793652\n",
      "auc roc score corresponding to  73 is 0.765079365079365\n",
      "auc roc score corresponding to  74 is 0.715079365079365\n",
      "auc roc score corresponding to  75 is 0.840079365079365\n",
      "auc roc score corresponding to  76 is 0.763095238095238\n",
      "auc roc score corresponding to  77 is 0.746626984126984\n",
      "auc roc score corresponding to  78 is 0.7236111111111112\n",
      "auc roc score corresponding to  79 is 0.7591269841269841\n",
      "auc roc score corresponding to  80 is 0.746031746031746\n",
      "auc roc score corresponding to  81 is 0.7440476190476191\n",
      "auc roc score corresponding to  82 is 0.7170634920634921\n",
      "auc roc score corresponding to  83 is 0.740079365079365\n",
      "auc roc score corresponding to  84 is 0.7775793650793651\n",
      "auc roc score corresponding to  85 is 0.7486111111111111\n",
      "auc roc score corresponding to  86 is 0.7406746031746032\n",
      "auc roc score corresponding to  87 is 0.7025793650793651\n",
      "auc roc score corresponding to  88 is 0.7341269841269841\n",
      "auc roc score corresponding to  89 is 0.7315476190476191\n",
      "auc roc score corresponding to  90 is 0.6966269841269841\n",
      "auc roc score corresponding to  91 is 0.765079365079365\n",
      "auc roc score corresponding to  92 is 0.8636904761904761\n",
      "auc roc score corresponding to  93 is 0.7051587301587301\n",
      "auc roc score corresponding to  94 is 0.790079365079365\n",
      "auc roc score corresponding to  95 is 0.7861111111111111\n",
      "auc roc score corresponding to  96 is 0.7406746031746032\n",
      "auc roc score corresponding to  97 is 0.7591269841269841\n",
      "auc roc score corresponding to  98 is 0.684126984126984\n",
      "auc roc score corresponding to  99 is 0.682142857142857\n",
      "max auc roc score corresponding to  68 is  0.8670634920634921\n"
     ]
    },
    {
     "data": {
      "text/plain": [
       "68"
      ]
     },
     "execution_count": 67,
     "metadata": {},
     "output_type": "execute_result"
    }
   ],
   "source": [
    "rf_clf=RandomForestClassifier(n_estimators=500)\n",
    "max_aucroc_score(rf_clf,df_x,y)"
   ]
  },
  {
   "cell_type": "code",
   "execution_count": 68,
   "id": "7f9e72a1",
   "metadata": {},
   "outputs": [
    {
     "name": "stdout",
     "output_type": "stream",
     "text": [
      "Mean roc auc score for RandomForestClassifier(n_estimators=500) 0.8583180373743122\n",
      "standard deviation in roc auc score for RandomForestClassifier(n_estimators=500) 0.022273828623061667\n",
      "[0.89146825 0.83998016 0.89102128 0.83281873 0.85139442]\n"
     ]
    }
   ],
   "source": [
    "kfold(rf_clf,x,y)"
   ]
  },
  {
   "cell_type": "code",
   "execution_count": 69,
   "id": "b0a516aa",
   "metadata": {},
   "outputs": [
    {
     "data": {
      "text/plain": [
       "{'learning_rate': 0.01, 'n_estimators': 500}"
      ]
     },
     "execution_count": 69,
     "metadata": {},
     "output_type": "execute_result"
    }
   ],
   "source": [
    "from sklearn.ensemble import GradientBoostingClassifier\n",
    "parameters={\"learning_rate\":[0.001,0.01,0.1,1],\"n_estimators\":[10,100,500,1000]}\n",
    "gb_clf=GradientBoostingClassifier()\n",
    "clf=GridSearchCV(gb_clf,parameters,cv=5,scoring=\"roc_auc\")\n",
    "clf.fit(df_x,y)\n",
    "clf.best_params_"
   ]
  },
  {
   "cell_type": "code",
   "execution_count": 70,
   "id": "6ab938c0",
   "metadata": {},
   "outputs": [
    {
     "name": "stdout",
     "output_type": "stream",
     "text": [
      "auc roc score corresponding to  42 is 0.7906746031746033\n",
      "auc roc score corresponding to  43 is 0.7571428571428571\n",
      "auc roc score corresponding to  44 is 0.765079365079365\n",
      "auc roc score corresponding to  45 is 0.6926587301587301\n",
      "auc roc score corresponding to  46 is 0.7992063492063491\n",
      "auc roc score corresponding to  47 is 0.7577380952380952\n",
      "auc roc score corresponding to  48 is 0.7321428571428571\n",
      "auc roc score corresponding to  49 is 0.8196428571428572\n",
      "auc roc score corresponding to  50 is 0.6946428571428572\n",
      "auc roc score corresponding to  51 is 0.7321428571428571\n",
      "auc roc score corresponding to  52 is 0.8051587301587301\n",
      "auc roc score corresponding to  53 is 0.7986111111111112\n",
      "auc roc score corresponding to  54 is 0.6986111111111112\n",
      "auc roc score corresponding to  55 is 0.7551587301587301\n",
      "auc roc score corresponding to  56 is 0.7972222222222222\n",
      "auc roc score corresponding to  57 is 0.7946428571428572\n",
      "auc roc score corresponding to  58 is 0.763095238095238\n",
      "auc roc score corresponding to  59 is 0.738690476190476\n",
      "auc roc score corresponding to  60 is 0.7960317460317461\n",
      "auc roc score corresponding to  61 is 0.7676587301587301\n",
      "auc roc score corresponding to  62 is 0.7242063492063491\n",
      "auc roc score corresponding to  63 is 0.8281746031746031\n",
      "auc roc score corresponding to  64 is 0.6867063492063492\n",
      "auc roc score corresponding to  65 is 0.7841269841269841\n",
      "auc roc score corresponding to  66 is 0.7656746031746032\n",
      "auc roc score corresponding to  67 is 0.7597222222222222\n",
      "auc roc score corresponding to  68 is 0.8551587301587301\n",
      "auc roc score corresponding to  69 is 0.7597222222222222\n",
      "auc roc score corresponding to  70 is 0.7966269841269841\n",
      "auc roc score corresponding to  71 is 0.7611111111111111\n",
      "auc roc score corresponding to  72 is 0.7611111111111111\n",
      "auc roc score corresponding to  73 is 0.7676587301587301\n",
      "auc roc score corresponding to  74 is 0.7801587301587302\n",
      "auc roc score corresponding to  75 is 0.8406746031746033\n",
      "auc roc score corresponding to  76 is 0.8182539682539682\n",
      "auc roc score corresponding to  77 is 0.7656746031746032\n",
      "auc roc score corresponding to  78 is 0.6946428571428572\n",
      "auc roc score corresponding to  79 is 0.7926587301587301\n",
      "auc roc score corresponding to  80 is 0.7986111111111112\n",
      "auc roc score corresponding to  81 is 0.7696428571428572\n",
      "auc roc score corresponding to  82 is 0.801190476190476\n",
      "auc roc score corresponding to  83 is 0.7861111111111111\n",
      "auc roc score corresponding to  84 is 0.7920634920634921\n",
      "auc roc score corresponding to  85 is 0.7781746031746032\n",
      "auc roc score corresponding to  86 is 0.7642857142857143\n",
      "auc roc score corresponding to  87 is 0.7426587301587301\n",
      "auc roc score corresponding to  88 is 0.7242063492063491\n",
      "auc roc score corresponding to  89 is 0.815079365079365\n",
      "auc roc score corresponding to  90 is 0.7242063492063491\n",
      "auc roc score corresponding to  91 is 0.7341269841269841\n",
      "auc roc score corresponding to  92 is 0.8412698412698413\n",
      "auc roc score corresponding to  93 is 0.7426587301587301\n",
      "auc roc score corresponding to  94 is 0.809126984126984\n",
      "auc roc score corresponding to  95 is 0.8367063492063492\n",
      "auc roc score corresponding to  96 is 0.7057539682539682\n",
      "auc roc score corresponding to  97 is 0.7531746031746032\n",
      "auc roc score corresponding to  98 is 0.7156746031746033\n",
      "auc roc score corresponding to  99 is 0.7077380952380953\n",
      "max auc roc score corresponding to  68 is  0.8551587301587301\n"
     ]
    },
    {
     "data": {
      "text/plain": [
       "68"
      ]
     },
     "execution_count": 70,
     "metadata": {},
     "output_type": "execute_result"
    }
   ],
   "source": [
    "gb_clf=GradientBoostingClassifier(learning_rate=0.1,n_estimators=500)\n",
    "max_aucroc_score(gb_clf,df_x,y)\n"
   ]
  },
  {
   "cell_type": "code",
   "execution_count": 71,
   "id": "dbba1cf6",
   "metadata": {},
   "outputs": [
    {
     "name": "stdout",
     "output_type": "stream",
     "text": [
      "Mean roc auc score for GradientBoostingClassifier(n_estimators=500) 0.8418378846210203\n",
      "standard deviation in roc auc score for GradientBoostingClassifier(n_estimators=500) 0.03557236899395538\n",
      "[0.87678571 0.79146825 0.88290739 0.8190239  0.84541833]\n"
     ]
    }
   ],
   "source": [
    "kfold(gb_clf,x,y)"
   ]
  },
  {
   "cell_type": "code",
   "execution_count": 72,
   "id": "fb378af8",
   "metadata": {},
   "outputs": [
    {
     "data": {
      "text/plain": [
       "{'C': 1, 'kernel': 'linear'}"
      ]
     },
     "execution_count": 72,
     "metadata": {},
     "output_type": "execute_result"
    }
   ],
   "source": [
    "from sklearn.svm import SVC\n",
    "svc=SVC()\n",
    "parameters={\"kernel\":[\"linear\", \"poly\", \"rbf\"],\"C\":[0.001,0.01,0.1,1,10]}\n",
    "clf = GridSearchCV(svc, parameters, cv=5,scoring=\"roc_auc\")\n",
    "clf.fit(x,y)\n",
    "clf.best_params_"
   ]
  },
  {
   "cell_type": "code",
   "execution_count": 73,
   "id": "7e1f0aea",
   "metadata": {},
   "outputs": [
    {
     "name": "stdout",
     "output_type": "stream",
     "text": [
      "auc roc score corresponding to  42 is 0.5420634920634921\n",
      "auc roc score corresponding to  43 is 0.5\n",
      "auc roc score corresponding to  44 is 0.5\n",
      "auc roc score corresponding to  45 is 0.613095238095238\n",
      "auc roc score corresponding to  46 is 0.5\n",
      "auc roc score corresponding to  47 is 0.5\n",
      "auc roc score corresponding to  48 is 0.5355158730158731\n",
      "auc roc score corresponding to  49 is 0.5\n",
      "auc roc score corresponding to  50 is 0.567063492063492\n",
      "auc roc score corresponding to  51 is 0.567063492063492\n",
      "auc roc score corresponding to  52 is 0.5480158730158731\n",
      "auc roc score corresponding to  53 is 0.498015873015873\n",
      "auc roc score corresponding to  54 is 0.5355158730158731\n",
      "auc roc score corresponding to  55 is 0.575595238095238\n",
      "auc roc score corresponding to  56 is 0.575\n",
      "auc roc score corresponding to  57 is 0.5\n",
      "auc roc score corresponding to  58 is 0.525\n",
      "auc roc score corresponding to  59 is 0.5420634920634921\n",
      "auc roc score corresponding to  60 is 0.5\n",
      "auc roc score corresponding to  61 is 0.5835317460317461\n",
      "auc roc score corresponding to  62 is 0.615079365079365\n",
      "auc roc score corresponding to  63 is 0.6190476190476191\n",
      "auc roc score corresponding to  64 is 0.5920634920634921\n",
      "auc roc score corresponding to  65 is 0.5\n",
      "auc roc score corresponding to  66 is 0.569047619047619\n",
      "auc roc score corresponding to  67 is 0.5420634920634921\n",
      "auc roc score corresponding to  68 is 0.5545634920634921\n",
      "auc roc score corresponding to  69 is 0.550595238095238\n",
      "auc roc score corresponding to  70 is 0.594047619047619\n",
      "auc roc score corresponding to  71 is 0.5\n",
      "auc roc score corresponding to  72 is 0.5375\n",
      "auc roc score corresponding to  73 is 0.5\n",
      "auc roc score corresponding to  74 is 0.5835317460317461\n",
      "auc roc score corresponding to  75 is 0.523015873015873\n",
      "auc roc score corresponding to  76 is 0.5295634920634921\n",
      "auc roc score corresponding to  77 is 0.5420634920634921\n",
      "auc roc score corresponding to  78 is 0.590079365079365\n",
      "auc roc score corresponding to  79 is 0.525\n",
      "auc roc score corresponding to  80 is 0.5460317460317461\n",
      "auc roc score corresponding to  81 is 0.5\n",
      "auc roc score corresponding to  82 is 0.5565476190476191\n",
      "auc roc score corresponding to  83 is 0.5\n",
      "auc roc score corresponding to  84 is 0.5815476190476191\n",
      "auc roc score corresponding to  85 is 0.5\n",
      "auc roc score corresponding to  86 is 0.590079365079365\n",
      "auc roc score corresponding to  87 is 0.5795634920634921\n",
      "auc roc score corresponding to  88 is 0.5565476190476191\n",
      "auc roc score corresponding to  89 is 0.5\n",
      "auc roc score corresponding to  90 is 0.561111111111111\n",
      "auc roc score corresponding to  91 is 0.5\n",
      "auc roc score corresponding to  92 is 0.540079365079365\n",
      "auc roc score corresponding to  93 is 0.5275793650793651\n",
      "auc roc score corresponding to  94 is 0.5795634920634921\n",
      "auc roc score corresponding to  95 is 0.611111111111111\n",
      "auc roc score corresponding to  96 is 0.5565476190476191\n",
      "auc roc score corresponding to  97 is 0.571031746031746\n",
      "auc roc score corresponding to  98 is 0.558531746031746\n",
      "auc roc score corresponding to  99 is 0.6170634920634921\n",
      "max auc roc score corresponding to  63 is  0.6190476190476191\n"
     ]
    },
    {
     "data": {
      "text/plain": [
       "63"
      ]
     },
     "execution_count": 73,
     "metadata": {},
     "output_type": "execute_result"
    }
   ],
   "source": [
    "svc=SVC(kernel=\"linear\",C=0.1)\n",
    "max_aucroc_score(svc,x,y)"
   ]
  },
  {
   "cell_type": "code",
   "execution_count": 74,
   "id": "65d51594",
   "metadata": {},
   "outputs": [
    {
     "name": "stdout",
     "output_type": "stream",
     "text": [
      "Mean roc auc score for SVC(C=0.1, kernel='linear') 0.8849083013667359\n",
      "standard deviation in roc auc score for SVC(C=0.1, kernel='linear') 0.02561098928871754\n",
      "[0.90585317 0.87996032 0.91701487 0.84312749 0.87858566]\n"
     ]
    }
   ],
   "source": [
    "kfold(svc,x,y)"
   ]
  },
  {
   "cell_type": "code",
   "execution_count": 76,
   "id": "f6dc403f",
   "metadata": {},
   "outputs": [],
   "source": [
    "#From above table Aurracy_score RandomForestClassifier is performing the best , So we will select that model\n",
    "#max score is achived at random state 92\n",
    "x_train,x_test,y_train,y_test=train_test_split(x, y,random_state = 92,test_size=0.20,stratify=y)\n",
    "rf_clf.fit(x_train,y_train)\n",
    "y_pred=rf_clf.predict(x_test)"
   ]
  },
  {
   "cell_type": "code",
   "execution_count": 78,
   "id": "53623523",
   "metadata": {},
   "outputs": [
    {
     "name": "stdout",
     "output_type": "stream",
     "text": [
      "[[240  12]\n",
      " [  9  31]]\n",
      "              precision    recall  f1-score   support\n",
      "\n",
      "           0       0.96      0.95      0.96       252\n",
      "           1       0.72      0.78      0.75        40\n",
      "\n",
      "    accuracy                           0.93       292\n",
      "   macro avg       0.84      0.86      0.85       292\n",
      "weighted avg       0.93      0.93      0.93       292\n",
      "\n"
     ]
    }
   ],
   "source": [
    "#Model performance\n",
    "from sklearn.metrics import confusion_matrix\n",
    "from sklearn.metrics import classification_report\n",
    "print(confusion_matrix(y_test,y_pred))\n",
    "print(classification_report(y_test,y_pred))"
   ]
  },
  {
   "cell_type": "markdown",
   "id": "9a832f24",
   "metadata": {},
   "source": [
    "## Saving the model"
   ]
  },
  {
   "cell_type": "code",
   "execution_count": 81,
   "id": "aac9b206",
   "metadata": {},
   "outputs": [
    {
     "data": {
      "text/plain": [
       "['wine_org.pkl']"
      ]
     },
     "execution_count": 81,
     "metadata": {},
     "output_type": "execute_result"
    }
   ],
   "source": [
    "\n",
    "import pickle\n",
    "  \n",
    "# Save the model as a pickle in a file \n",
    "joblib.dump(svc, 'wine_org.pkl')"
   ]
  },
  {
   "cell_type": "code",
   "execution_count": null,
   "id": "86cc0a9e",
   "metadata": {},
   "outputs": [],
   "source": []
  }
 ],
 "metadata": {
  "kernelspec": {
   "display_name": "Python 3",
   "language": "python",
   "name": "python3"
  },
  "language_info": {
   "codemirror_mode": {
    "name": "ipython",
    "version": 3
   },
   "file_extension": ".py",
   "mimetype": "text/x-python",
   "name": "python",
   "nbconvert_exporter": "python",
   "pygments_lexer": "ipython3",
   "version": "3.8.8"
  }
 },
 "nbformat": 4,
 "nbformat_minor": 5
}
