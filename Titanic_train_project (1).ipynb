{
 "cells": [
  {
   "cell_type": "markdown",
   "id": "a71b0492",
   "metadata": {},
   "source": [
    "# TITANIC DATASET\n"
   ]
  },
  {
   "cell_type": "markdown",
   "id": "1475db21",
   "metadata": {},
   "source": [
    "**AUTHOR- RAHUL JANGRA**"
   ]
  },
  {
   "cell_type": "code",
   "execution_count": 64,
   "id": "a087a320",
   "metadata": {},
   "outputs": [],
   "source": [
    "#import the required libraries\n",
    "\n",
    "import pandas as pd\n",
    "import numpy as np\n",
    "import matplotlib.pyplot as plt\n",
    "import seaborn as sns\n",
    "%matplotlib inline\n",
    "import warnings \n",
    "warnings.filterwarnings('ignore')\n",
    "from sklearn.linear_model import LogisticRegression\n",
    "from sklearn.naive_bayes import GaussianNB\n",
    "from sklearn.svm import SVC\n",
    "from sklearn.tree import DecisionTreeClassifier,export_graphviz\n",
    "from sklearn.ensemble import RandomForestClassifier\n",
    "from sklearn.preprocessing import LabelEncoder\n",
    "from sklearn.ensemble import AdaBoostClassifier\n",
    "from sklearn.metrics import accuracy_score,confusion_matrix,classification_report,precision_recall_curve,roc_curve\n",
    "from sklearn.preprocessing import MinMaxScaler\n",
    "from sklearn.model_selection import train_test_split\n",
    "from sklearn.preprocessing import PowerTransformer\n",
    "from sklearn.model_selection import cross_val_score\n",
    "import joblib"
   ]
  },
  {
   "cell_type": "code",
   "execution_count": 5,
   "id": "2eca29ed",
   "metadata": {},
   "outputs": [
    {
     "data": {
      "text/html": [
       "<div>\n",
       "<style scoped>\n",
       "    .dataframe tbody tr th:only-of-type {\n",
       "        vertical-align: middle;\n",
       "    }\n",
       "\n",
       "    .dataframe tbody tr th {\n",
       "        vertical-align: top;\n",
       "    }\n",
       "\n",
       "    .dataframe thead th {\n",
       "        text-align: right;\n",
       "    }\n",
       "</style>\n",
       "<table border=\"1\" class=\"dataframe\">\n",
       "  <thead>\n",
       "    <tr style=\"text-align: right;\">\n",
       "      <th></th>\n",
       "      <th>PassengerId</th>\n",
       "      <th>Survived</th>\n",
       "      <th>Pclass</th>\n",
       "      <th>Name</th>\n",
       "      <th>Sex</th>\n",
       "      <th>Age</th>\n",
       "      <th>SibSp</th>\n",
       "      <th>Parch</th>\n",
       "      <th>Ticket</th>\n",
       "      <th>Fare</th>\n",
       "      <th>Cabin</th>\n",
       "      <th>Embarked</th>\n",
       "    </tr>\n",
       "  </thead>\n",
       "  <tbody>\n",
       "    <tr>\n",
       "      <th>0</th>\n",
       "      <td>1</td>\n",
       "      <td>0</td>\n",
       "      <td>3</td>\n",
       "      <td>Braund, Mr. Owen Harris</td>\n",
       "      <td>male</td>\n",
       "      <td>22.0</td>\n",
       "      <td>1</td>\n",
       "      <td>0</td>\n",
       "      <td>A/5 21171</td>\n",
       "      <td>7.2500</td>\n",
       "      <td>NaN</td>\n",
       "      <td>S</td>\n",
       "    </tr>\n",
       "    <tr>\n",
       "      <th>1</th>\n",
       "      <td>2</td>\n",
       "      <td>1</td>\n",
       "      <td>1</td>\n",
       "      <td>Cumings, Mrs. John Bradley (Florence Briggs Th...</td>\n",
       "      <td>female</td>\n",
       "      <td>38.0</td>\n",
       "      <td>1</td>\n",
       "      <td>0</td>\n",
       "      <td>PC 17599</td>\n",
       "      <td>71.2833</td>\n",
       "      <td>C85</td>\n",
       "      <td>C</td>\n",
       "    </tr>\n",
       "    <tr>\n",
       "      <th>2</th>\n",
       "      <td>3</td>\n",
       "      <td>1</td>\n",
       "      <td>3</td>\n",
       "      <td>Heikkinen, Miss. Laina</td>\n",
       "      <td>female</td>\n",
       "      <td>26.0</td>\n",
       "      <td>0</td>\n",
       "      <td>0</td>\n",
       "      <td>STON/O2. 3101282</td>\n",
       "      <td>7.9250</td>\n",
       "      <td>NaN</td>\n",
       "      <td>S</td>\n",
       "    </tr>\n",
       "    <tr>\n",
       "      <th>3</th>\n",
       "      <td>4</td>\n",
       "      <td>1</td>\n",
       "      <td>1</td>\n",
       "      <td>Futrelle, Mrs. Jacques Heath (Lily May Peel)</td>\n",
       "      <td>female</td>\n",
       "      <td>35.0</td>\n",
       "      <td>1</td>\n",
       "      <td>0</td>\n",
       "      <td>113803</td>\n",
       "      <td>53.1000</td>\n",
       "      <td>C123</td>\n",
       "      <td>S</td>\n",
       "    </tr>\n",
       "    <tr>\n",
       "      <th>4</th>\n",
       "      <td>5</td>\n",
       "      <td>0</td>\n",
       "      <td>3</td>\n",
       "      <td>Allen, Mr. William Henry</td>\n",
       "      <td>male</td>\n",
       "      <td>35.0</td>\n",
       "      <td>0</td>\n",
       "      <td>0</td>\n",
       "      <td>373450</td>\n",
       "      <td>8.0500</td>\n",
       "      <td>NaN</td>\n",
       "      <td>S</td>\n",
       "    </tr>\n",
       "  </tbody>\n",
       "</table>\n",
       "</div>"
      ],
      "text/plain": [
       "   PassengerId  Survived  Pclass  \\\n",
       "0            1         0       3   \n",
       "1            2         1       1   \n",
       "2            3         1       3   \n",
       "3            4         1       1   \n",
       "4            5         0       3   \n",
       "\n",
       "                                                Name     Sex   Age  SibSp  \\\n",
       "0                            Braund, Mr. Owen Harris    male  22.0      1   \n",
       "1  Cumings, Mrs. John Bradley (Florence Briggs Th...  female  38.0      1   \n",
       "2                             Heikkinen, Miss. Laina  female  26.0      0   \n",
       "3       Futrelle, Mrs. Jacques Heath (Lily May Peel)  female  35.0      1   \n",
       "4                           Allen, Mr. William Henry    male  35.0      0   \n",
       "\n",
       "   Parch            Ticket     Fare Cabin Embarked  \n",
       "0      0         A/5 21171   7.2500   NaN        S  \n",
       "1      0          PC 17599  71.2833   C85        C  \n",
       "2      0  STON/O2. 3101282   7.9250   NaN        S  \n",
       "3      0            113803  53.1000  C123        S  \n",
       "4      0            373450   8.0500   NaN        S  "
      ]
     },
     "execution_count": 5,
     "metadata": {},
     "output_type": "execute_result"
    }
   ],
   "source": [
    "#loading/Reading the dataset\n",
    "\n",
    "df= pd.read_csv('https://raw.githubusercontent.com/dsrscientist/dataset1/master/titanic_train.csv')\n",
    "df.head()"
   ]
  },
  {
   "cell_type": "code",
   "execution_count": 6,
   "id": "d86cbe91",
   "metadata": {},
   "outputs": [
    {
     "data": {
      "text/plain": [
       "PassengerId      0\n",
       "Survived         0\n",
       "Pclass           0\n",
       "Name             0\n",
       "Sex              0\n",
       "Age            177\n",
       "SibSp            0\n",
       "Parch            0\n",
       "Ticket           0\n",
       "Fare             0\n",
       "Cabin          687\n",
       "Embarked         2\n",
       "dtype: int64"
      ]
     },
     "execution_count": 6,
     "metadata": {},
     "output_type": "execute_result"
    }
   ],
   "source": [
    "#Checking the null values\n",
    "\n",
    "df.isnull().sum()"
   ]
  },
  {
   "cell_type": "code",
   "execution_count": 7,
   "id": "190d1f0f",
   "metadata": {},
   "outputs": [
    {
     "data": {
      "text/plain": [
       "(891, 12)"
      ]
     },
     "execution_count": 7,
     "metadata": {},
     "output_type": "execute_result"
    }
   ],
   "source": [
    "df.shape"
   ]
  },
  {
   "cell_type": "code",
   "execution_count": 8,
   "id": "db5d41c0",
   "metadata": {},
   "outputs": [],
   "source": [
    "#Dropping the cabin column because of large no. of null values.\n",
    "\n",
    "df=df.drop(['Cabin'], axis=1)"
   ]
  },
  {
   "cell_type": "code",
   "execution_count": 33,
   "id": "cf78d737",
   "metadata": {},
   "outputs": [],
   "source": [
    "un=['PassengerId','Name']\n",
    "for i in un:\n",
    "    df.drop(i,axis=1,inplace=True)"
   ]
  },
  {
   "cell_type": "code",
   "execution_count": 9,
   "id": "52931c6e",
   "metadata": {},
   "outputs": [
    {
     "data": {
      "text/plain": [
       "(891, 11)"
      ]
     },
     "execution_count": 9,
     "metadata": {},
     "output_type": "execute_result"
    }
   ],
   "source": [
    "df.shape"
   ]
  },
  {
   "cell_type": "code",
   "execution_count": 10,
   "id": "d516bfd8",
   "metadata": {},
   "outputs": [
    {
     "data": {
      "text/plain": [
       "Index(['PassengerId', 'Survived', 'Pclass', 'Name', 'Sex', 'Age', 'SibSp',\n",
       "       'Parch', 'Ticket', 'Fare', 'Embarked'],\n",
       "      dtype='object')"
      ]
     },
     "execution_count": 10,
     "metadata": {},
     "output_type": "execute_result"
    }
   ],
   "source": [
    "df.columns"
   ]
  },
  {
   "cell_type": "code",
   "execution_count": 11,
   "id": "6f8f9094",
   "metadata": {},
   "outputs": [
    {
     "data": {
      "text/plain": [
       "<AxesSubplot:xlabel='Pclass', ylabel='Age'>"
      ]
     },
     "execution_count": 11,
     "metadata": {},
     "output_type": "execute_result"
    },
    {
     "data": {
      "image/png": "[encoded data removed]",
      "text/plain": [
       "<Figure size 864x504 with 1 Axes>"
      ]
     },
     "metadata": {
      "needs_background": "light"
     },
     "output_type": "display_data"
    }
   ],
   "source": [
    "#Trying to fill the null values in age column by checking the relation with Pclass variable or column.\n",
    "\n",
    "plt.figure(figsize=(12,7))\n",
    "sns.boxplot(x='Pclass', y='Age', data=df, palette='winter')"
   ]
  },
  {
   "cell_type": "markdown",
   "id": "ff59eb41",
   "metadata": {},
   "source": [
    "Average age of Pclass 1 passenger is 37 , Pclass 2 - 29, Pclass 3 - 24. So, we'll fill accordingly."
   ]
  },
  {
   "cell_type": "code",
   "execution_count": 12,
   "id": "803afd59",
   "metadata": {},
   "outputs": [],
   "source": [
    "#defining the function to fill the null values.\n",
    "\n",
    "def impute_age(cols):\n",
    "    Age = cols[0]\n",
    "    Pclass= cols[1]\n",
    "    \n",
    "    if pd.isnull(Age):\n",
    "        \n",
    "        if Pclass==1:\n",
    "            return 37\n",
    "        \n",
    "        elif Pclass==2:\n",
    "            return 29\n",
    "        \n",
    "        else:\n",
    "            return 24\n",
    "        \n",
    "    else:\n",
    "        return Age\n",
    "        "
   ]
  },
  {
   "cell_type": "code",
   "execution_count": 13,
   "id": "0c850d0a",
   "metadata": {},
   "outputs": [],
   "source": [
    "#Now apply the function.\n",
    "\n",
    "df['Age']= df[['Age', 'Pclass']].apply(impute_age, axis=1)"
   ]
  },
  {
   "cell_type": "code",
   "execution_count": 14,
   "id": "1ca38a8c",
   "metadata": {},
   "outputs": [
    {
     "data": {
      "text/plain": [
       "PassengerId    0\n",
       "Survived       0\n",
       "Pclass         0\n",
       "Name           0\n",
       "Sex            0\n",
       "Age            0\n",
       "SibSp          0\n",
       "Parch          0\n",
       "Ticket         0\n",
       "Fare           0\n",
       "Embarked       2\n",
       "dtype: int64"
      ]
     },
     "execution_count": 14,
     "metadata": {},
     "output_type": "execute_result"
    }
   ],
   "source": [
    "df.isnull().sum()"
   ]
  },
  {
   "cell_type": "code",
   "execution_count": 15,
   "id": "56c647b9",
   "metadata": {},
   "outputs": [
    {
     "data": {
      "text/plain": [
       "count     889\n",
       "unique      3\n",
       "top         S\n",
       "freq      644\n",
       "Name: Embarked, dtype: object"
      ]
     },
     "execution_count": 15,
     "metadata": {},
     "output_type": "execute_result"
    }
   ],
   "source": [
    "#Trying to fill the values in Embarked column by checking the more detail about this column .\n",
    "\n",
    "df.Embarked.describe()"
   ]
  },
  {
   "cell_type": "code",
   "execution_count": 16,
   "id": "2ef81fe6",
   "metadata": {},
   "outputs": [
    {
     "data": {
      "text/plain": [
       "S    644\n",
       "C    168\n",
       "Q     77\n",
       "Name: Embarked, dtype: int64"
      ]
     },
     "execution_count": 16,
     "metadata": {},
     "output_type": "execute_result"
    }
   ],
   "source": [
    "# Checking the categories in Embarked column\n",
    "\n",
    "df.Embarked.value_counts()"
   ]
  },
  {
   "cell_type": "code",
   "execution_count": 17,
   "id": "0ed6636a",
   "metadata": {},
   "outputs": [
    {
     "data": {
      "text/plain": [
       "0"
      ]
     },
     "execution_count": 17,
     "metadata": {},
     "output_type": "execute_result"
    }
   ],
   "source": [
    "# Out of 891 , S is appearing 644 times , so we can fill the null values with 'S'.\n",
    "\n",
    "df.Embarked.fillna('S', inplace= True)\n",
    "df.Embarked.isnull().sum()"
   ]
  },
  {
   "cell_type": "code",
   "execution_count": 18,
   "id": "709dca98",
   "metadata": {},
   "outputs": [
    {
     "data": {
      "text/html": [
       "<div>\n",
       "<style scoped>\n",
       "    .dataframe tbody tr th:only-of-type {\n",
       "        vertical-align: middle;\n",
       "    }\n",
       "\n",
       "    .dataframe tbody tr th {\n",
       "        vertical-align: top;\n",
       "    }\n",
       "\n",
       "    .dataframe thead th {\n",
       "        text-align: right;\n",
       "    }\n",
       "</style>\n",
       "<table border=\"1\" class=\"dataframe\">\n",
       "  <thead>\n",
       "    <tr style=\"text-align: right;\">\n",
       "      <th></th>\n",
       "      <th>PassengerId</th>\n",
       "      <th>Survived</th>\n",
       "      <th>Pclass</th>\n",
       "      <th>Age</th>\n",
       "      <th>SibSp</th>\n",
       "      <th>Parch</th>\n",
       "      <th>Fare</th>\n",
       "    </tr>\n",
       "  </thead>\n",
       "  <tbody>\n",
       "    <tr>\n",
       "      <th>count</th>\n",
       "      <td>891.000000</td>\n",
       "      <td>891.000000</td>\n",
       "      <td>891.000000</td>\n",
       "      <td>891.000000</td>\n",
       "      <td>891.000000</td>\n",
       "      <td>891.000000</td>\n",
       "      <td>891.000000</td>\n",
       "    </tr>\n",
       "    <tr>\n",
       "      <th>mean</th>\n",
       "      <td>446.000000</td>\n",
       "      <td>0.383838</td>\n",
       "      <td>2.308642</td>\n",
       "      <td>29.066409</td>\n",
       "      <td>0.523008</td>\n",
       "      <td>0.381594</td>\n",
       "      <td>32.204208</td>\n",
       "    </tr>\n",
       "    <tr>\n",
       "      <th>std</th>\n",
       "      <td>257.353842</td>\n",
       "      <td>0.486592</td>\n",
       "      <td>0.836071</td>\n",
       "      <td>13.244532</td>\n",
       "      <td>1.102743</td>\n",
       "      <td>0.806057</td>\n",
       "      <td>49.693429</td>\n",
       "    </tr>\n",
       "    <tr>\n",
       "      <th>min</th>\n",
       "      <td>1.000000</td>\n",
       "      <td>0.000000</td>\n",
       "      <td>1.000000</td>\n",
       "      <td>0.420000</td>\n",
       "      <td>0.000000</td>\n",
       "      <td>0.000000</td>\n",
       "      <td>0.000000</td>\n",
       "    </tr>\n",
       "    <tr>\n",
       "      <th>25%</th>\n",
       "      <td>223.500000</td>\n",
       "      <td>0.000000</td>\n",
       "      <td>2.000000</td>\n",
       "      <td>22.000000</td>\n",
       "      <td>0.000000</td>\n",
       "      <td>0.000000</td>\n",
       "      <td>7.910400</td>\n",
       "    </tr>\n",
       "    <tr>\n",
       "      <th>50%</th>\n",
       "      <td>446.000000</td>\n",
       "      <td>0.000000</td>\n",
       "      <td>3.000000</td>\n",
       "      <td>26.000000</td>\n",
       "      <td>0.000000</td>\n",
       "      <td>0.000000</td>\n",
       "      <td>14.454200</td>\n",
       "    </tr>\n",
       "    <tr>\n",
       "      <th>75%</th>\n",
       "      <td>668.500000</td>\n",
       "      <td>1.000000</td>\n",
       "      <td>3.000000</td>\n",
       "      <td>37.000000</td>\n",
       "      <td>1.000000</td>\n",
       "      <td>0.000000</td>\n",
       "      <td>31.000000</td>\n",
       "    </tr>\n",
       "    <tr>\n",
       "      <th>max</th>\n",
       "      <td>891.000000</td>\n",
       "      <td>1.000000</td>\n",
       "      <td>3.000000</td>\n",
       "      <td>80.000000</td>\n",
       "      <td>8.000000</td>\n",
       "      <td>6.000000</td>\n",
       "      <td>512.329200</td>\n",
       "    </tr>\n",
       "  </tbody>\n",
       "</table>\n",
       "</div>"
      ],
      "text/plain": [
       "       PassengerId    Survived      Pclass         Age       SibSp  \\\n",
       "count   891.000000  891.000000  891.000000  891.000000  891.000000   \n",
       "mean    446.000000    0.383838    2.308642   29.066409    0.523008   \n",
       "std     257.353842    0.486592    0.836071   13.244532    1.102743   \n",
       "min       1.000000    0.000000    1.000000    0.420000    0.000000   \n",
       "25%     223.500000    0.000000    2.000000   22.000000    0.000000   \n",
       "50%     446.000000    0.000000    3.000000   26.000000    0.000000   \n",
       "75%     668.500000    1.000000    3.000000   37.000000    1.000000   \n",
       "max     891.000000    1.000000    3.000000   80.000000    8.000000   \n",
       "\n",
       "            Parch        Fare  \n",
       "count  891.000000  891.000000  \n",
       "mean     0.381594   32.204208  \n",
       "std      0.806057   49.693429  \n",
       "min      0.000000    0.000000  \n",
       "25%      0.000000    7.910400  \n",
       "50%      0.000000   14.454200  \n",
       "75%      0.000000   31.000000  \n",
       "max      6.000000  512.329200  "
      ]
     },
     "execution_count": 18,
     "metadata": {},
     "output_type": "execute_result"
    }
   ],
   "source": [
    "df.describe()"
   ]
  },
  {
   "cell_type": "markdown",
   "id": "f35acc5e",
   "metadata": {},
   "source": [
    "# Data Visualization"
   ]
  },
  {
   "cell_type": "markdown",
   "id": "90954467",
   "metadata": {},
   "source": [
    "**To check the no. of passengers survived or died in the accident.**"
   ]
  },
  {
   "cell_type": "code",
   "execution_count": 19,
   "id": "dbb77a21",
   "metadata": {},
   "outputs": [
    {
     "name": "stdout",
     "output_type": "stream",
     "text": [
      "Out of 891 62 people died in the accident\n"
     ]
    },
    {
     "data": {
      "image/png": "[encoded data removed]",
      "text/plain": [
       "<Figure size 432x288 with 1 Axes>"
      ]
     },
     "metadata": {
      "needs_background": "light"
     },
     "output_type": "display_data"
    }
   ],
   "source": [
    "sns.countplot(df['Survived'])\n",
    "\n",
    "death_percent= round((df['Survived'].value_counts().values[0]/891)*100)\n",
    "\n",
    "print('Out of 891 {} people died in the accident'.format(death_percent))"
   ]
  },
  {
   "cell_type": "markdown",
   "id": "7bb4c995",
   "metadata": {},
   "source": [
    "**To check the survival ratio between male & female**"
   ]
  },
  {
   "cell_type": "code",
   "execution_count": 20,
   "id": "f93010c1",
   "metadata": {},
   "outputs": [
    {
     "data": {
      "text/plain": [
       "<AxesSubplot:xlabel='Survived', ylabel='count'>"
      ]
     },
     "execution_count": 20,
     "metadata": {},
     "output_type": "execute_result"
    },
    {
     "data": {
      "image/png": "[encoded data removed]",
      "text/plain": [
       "<Figure size 432x288 with 1 Axes>"
      ]
     },
     "metadata": {},
     "output_type": "display_data"
    }
   ],
   "source": [
    "sns.set_style('whitegrid')\n",
    "sns.countplot(x= 'Survived', hue='Sex', data=df, palette='cubehelix')"
   ]
  },
  {
   "cell_type": "markdown",
   "id": "110016a2",
   "metadata": {},
   "source": [
    "**To check the survival rate by Pclass**"
   ]
  },
  {
   "cell_type": "code",
   "execution_count": 21,
   "id": "3e0afd87",
   "metadata": {},
   "outputs": [
    {
     "data": {
      "text/plain": [
       "<AxesSubplot:xlabel='Survived', ylabel='count'>"
      ]
     },
     "execution_count": 21,
     "metadata": {},
     "output_type": "execute_result"
    },
    {
     "data": {
      "image/png": "[encoded data removed]",
      "text/plain": [
       "<Figure size 432x288 with 1 Axes>"
      ]
     },
     "metadata": {},
     "output_type": "display_data"
    }
   ],
   "source": [
    "sns.set_style('whitegrid')\n",
    "sns.countplot(x= 'Survived', hue='Pclass', data=df)"
   ]
  },
  {
   "cell_type": "code",
   "execution_count": 22,
   "id": "2fd0e493",
   "metadata": {},
   "outputs": [
    {
     "data": {
      "text/plain": [
       "<AxesSubplot:xlabel='SibSp', ylabel='count'>"
      ]
     },
     "execution_count": 22,
     "metadata": {},
     "output_type": "execute_result"
    },
    {
     "data": {
      "image/png": "[encoded data removed]",
      "text/plain": [
       "<Figure size 432x288 with 1 Axes>"
      ]
     },
     "metadata": {},
     "output_type": "display_data"
    }
   ],
   "source": [
    "sns.countplot(x='SibSp', data=df)"
   ]
  },
  {
   "cell_type": "code",
   "execution_count": 23,
   "id": "b7260c76",
   "metadata": {},
   "outputs": [
    {
     "data": {
      "text/plain": [
       "<seaborn.axisgrid.FacetGrid at 0x1eade40b670>"
      ]
     },
     "execution_count": 23,
     "metadata": {},
     "output_type": "execute_result"
    },
    {
     "data": {
      "image/png": "[encoded data removed]",
      "text/plain": [
       "<Figure size 407x360 with 1 Axes>"
      ]
     },
     "metadata": {},
     "output_type": "display_data"
    }
   ],
   "source": [
    "sns.catplot(x=\"Pclass\",hue=\"Survived\",\n",
    "kind=\"count\",data=df)"
   ]
  },
  {
   "cell_type": "code",
   "execution_count": 26,
   "id": "aa44a4ce",
   "metadata": {},
   "outputs": [
    {
     "data": {
      "text/plain": [
       "<seaborn.axisgrid.FacetGrid at 0x1eade21cf10>"
      ]
     },
     "execution_count": 26,
     "metadata": {},
     "output_type": "execute_result"
    },
    {
     "data": {
      "image/png": "[encoded data removed]",
      "text/plain": [
       "<Figure size 407x360 with 1 Axes>"
      ]
     },
     "metadata": {},
     "output_type": "display_data"
    }
   ],
   "source": [
    "sns.catplot(x=\"Sex\",hue=\"Survived\",\n",
    "kind=\"count\",data=df)\n"
   ]
  },
  {
   "cell_type": "code",
   "execution_count": 28,
   "id": "0ee2af91",
   "metadata": {},
   "outputs": [
    {
     "data": {
      "text/plain": [
       "<seaborn.axisgrid.FacetGrid at 0x1eade3fe370>"
      ]
     },
     "execution_count": 28,
     "metadata": {},
     "output_type": "execute_result"
    },
    {
     "data": {
      "image/png": "[encoded data removed]",
      "text/plain": [
       "<Figure size 407x360 with 1 Axes>"
      ]
     },
     "metadata": {},
     "output_type": "display_data"
    }
   ],
   "source": [
    "sns.catplot(x=\"Embarked\",hue=\"Survived\",kind=\"count\",data=df)"
   ]
  },
  {
   "cell_type": "code",
   "execution_count": 29,
   "id": "f0514143",
   "metadata": {},
   "outputs": [],
   "source": [
    "df.drop(\"Ticket\",axis=1,inplace=True)"
   ]
  },
  {
   "cell_type": "code",
   "execution_count": 24,
   "id": "8b7e6d69",
   "metadata": {},
   "outputs": [
    {
     "data": {
      "text/plain": [
       "Index(['PassengerId', 'Survived', 'Pclass', 'Name', 'Sex', 'Age', 'SibSp',\n",
       "       'Parch', 'Ticket', 'Fare', 'Embarked', 'family_size'],\n",
       "      dtype='object')"
      ]
     },
     "execution_count": 24,
     "metadata": {},
     "output_type": "execute_result"
    }
   ],
   "source": [
    "# Now, we'll combine the two columns \n",
    "\n",
    "df['family_size']= df['Parch']+df['SibSp']\n",
    "df.columns"
   ]
  },
  {
   "cell_type": "code",
   "execution_count": 25,
   "id": "102ceeb9",
   "metadata": {},
   "outputs": [
    {
     "data": {
      "text/plain": [
       "Index(['PassengerId', 'Survived', 'Pclass', 'Name', 'Sex', 'Age', 'Ticket',\n",
       "       'Fare', 'Embarked', 'family_size'],\n",
       "      dtype='object')"
      ]
     },
     "execution_count": 25,
     "metadata": {},
     "output_type": "execute_result"
    }
   ],
   "source": [
    "df.drop(['Parch','SibSp'], axis=1, inplace= True)\n",
    "df.columns"
   ]
  },
  {
   "cell_type": "code",
   "execution_count": 30,
   "id": "44a910e6",
   "metadata": {},
   "outputs": [
    {
     "data": {
      "text/plain": [
       "(891, 9)"
      ]
     },
     "execution_count": 30,
     "metadata": {},
     "output_type": "execute_result"
    }
   ],
   "source": [
    "df.shape"
   ]
  },
  {
   "cell_type": "markdown",
   "id": "990012f1",
   "metadata": {},
   "source": [
    "**Conclusion:** \n",
    "    \n",
    "    1. 62% People died in the accident.\n",
    "    2. Female survived more than males.\n",
    "    3. No. of passenger died in Pclass 3 was more as comapre to others.\n",
    "\n",
    "    "
   ]
  },
  {
   "cell_type": "markdown",
   "id": "50132330",
   "metadata": {},
   "source": [
    "## Label encoding"
   ]
  },
  {
   "cell_type": "code",
   "execution_count": 31,
   "id": "806dad09",
   "metadata": {},
   "outputs": [],
   "source": [
    "from sklearn.preprocessing import LabelEncoder\n",
    "le=LabelEncoder()\n",
    "cat=['Sex','Embarked']\n",
    "for i in cat:\n",
    "    df[i]=le.fit_transform(df[i])"
   ]
  },
  {
   "cell_type": "code",
   "execution_count": 34,
   "id": "90f3adcc",
   "metadata": {},
   "outputs": [
    {
     "data": {
      "text/html": [
       "<div>\n",
       "<style scoped>\n",
       "    .dataframe tbody tr th:only-of-type {\n",
       "        vertical-align: middle;\n",
       "    }\n",
       "\n",
       "    .dataframe tbody tr th {\n",
       "        vertical-align: top;\n",
       "    }\n",
       "\n",
       "    .dataframe thead th {\n",
       "        text-align: right;\n",
       "    }\n",
       "</style>\n",
       "<table border=\"1\" class=\"dataframe\">\n",
       "  <thead>\n",
       "    <tr style=\"text-align: right;\">\n",
       "      <th></th>\n",
       "      <th>Survived</th>\n",
       "      <th>Pclass</th>\n",
       "      <th>Sex</th>\n",
       "      <th>Age</th>\n",
       "      <th>Fare</th>\n",
       "      <th>Embarked</th>\n",
       "      <th>family_size</th>\n",
       "    </tr>\n",
       "  </thead>\n",
       "  <tbody>\n",
       "    <tr>\n",
       "      <th>0</th>\n",
       "      <td>0</td>\n",
       "      <td>3</td>\n",
       "      <td>1</td>\n",
       "      <td>22.0</td>\n",
       "      <td>7.2500</td>\n",
       "      <td>2</td>\n",
       "      <td>1</td>\n",
       "    </tr>\n",
       "    <tr>\n",
       "      <th>1</th>\n",
       "      <td>1</td>\n",
       "      <td>1</td>\n",
       "      <td>0</td>\n",
       "      <td>38.0</td>\n",
       "      <td>71.2833</td>\n",
       "      <td>0</td>\n",
       "      <td>1</td>\n",
       "    </tr>\n",
       "    <tr>\n",
       "      <th>2</th>\n",
       "      <td>1</td>\n",
       "      <td>3</td>\n",
       "      <td>0</td>\n",
       "      <td>26.0</td>\n",
       "      <td>7.9250</td>\n",
       "      <td>2</td>\n",
       "      <td>0</td>\n",
       "    </tr>\n",
       "    <tr>\n",
       "      <th>3</th>\n",
       "      <td>1</td>\n",
       "      <td>1</td>\n",
       "      <td>0</td>\n",
       "      <td>35.0</td>\n",
       "      <td>53.1000</td>\n",
       "      <td>2</td>\n",
       "      <td>1</td>\n",
       "    </tr>\n",
       "    <tr>\n",
       "      <th>4</th>\n",
       "      <td>0</td>\n",
       "      <td>3</td>\n",
       "      <td>1</td>\n",
       "      <td>35.0</td>\n",
       "      <td>8.0500</td>\n",
       "      <td>2</td>\n",
       "      <td>0</td>\n",
       "    </tr>\n",
       "  </tbody>\n",
       "</table>\n",
       "</div>"
      ],
      "text/plain": [
       "   Survived  Pclass  Sex   Age     Fare  Embarked  family_size\n",
       "0         0       3    1  22.0   7.2500         2            1\n",
       "1         1       1    0  38.0  71.2833         0            1\n",
       "2         1       3    0  26.0   7.9250         2            0\n",
       "3         1       1    0  35.0  53.1000         2            1\n",
       "4         0       3    1  35.0   8.0500         2            0"
      ]
     },
     "execution_count": 34,
     "metadata": {},
     "output_type": "execute_result"
    }
   ],
   "source": [
    "df.head()"
   ]
  },
  {
   "cell_type": "markdown",
   "id": "d221eb80",
   "metadata": {},
   "source": [
    "### Correlation"
   ]
  },
  {
   "cell_type": "code",
   "execution_count": 37,
   "id": "026c681e",
   "metadata": {},
   "outputs": [
    {
     "data": {
      "text/html": [
       "<div>\n",
       "<style scoped>\n",
       "    .dataframe tbody tr th:only-of-type {\n",
       "        vertical-align: middle;\n",
       "    }\n",
       "\n",
       "    .dataframe tbody tr th {\n",
       "        vertical-align: top;\n",
       "    }\n",
       "\n",
       "    .dataframe thead th {\n",
       "        text-align: right;\n",
       "    }\n",
       "</style>\n",
       "<table border=\"1\" class=\"dataframe\">\n",
       "  <thead>\n",
       "    <tr style=\"text-align: right;\">\n",
       "      <th></th>\n",
       "      <th>Survived</th>\n",
       "      <th>Pclass</th>\n",
       "      <th>Sex</th>\n",
       "      <th>Age</th>\n",
       "      <th>Fare</th>\n",
       "      <th>Embarked</th>\n",
       "      <th>family_size</th>\n",
       "    </tr>\n",
       "  </thead>\n",
       "  <tbody>\n",
       "    <tr>\n",
       "      <th>Survived</th>\n",
       "      <td>1.000000</td>\n",
       "      <td>-0.338481</td>\n",
       "      <td>-0.543351</td>\n",
       "      <td>-0.047255</td>\n",
       "      <td>0.257307</td>\n",
       "      <td>-0.167675</td>\n",
       "      <td>0.016639</td>\n",
       "    </tr>\n",
       "    <tr>\n",
       "      <th>Pclass</th>\n",
       "      <td>-0.338481</td>\n",
       "      <td>1.000000</td>\n",
       "      <td>0.131900</td>\n",
       "      <td>-0.408487</td>\n",
       "      <td>-0.549500</td>\n",
       "      <td>0.162098</td>\n",
       "      <td>0.065997</td>\n",
       "    </tr>\n",
       "    <tr>\n",
       "      <th>Sex</th>\n",
       "      <td>-0.543351</td>\n",
       "      <td>0.131900</td>\n",
       "      <td>1.000000</td>\n",
       "      <td>0.078421</td>\n",
       "      <td>-0.182333</td>\n",
       "      <td>0.108262</td>\n",
       "      <td>-0.200988</td>\n",
       "    </tr>\n",
       "    <tr>\n",
       "      <th>Age</th>\n",
       "      <td>-0.047255</td>\n",
       "      <td>-0.408487</td>\n",
       "      <td>0.078421</td>\n",
       "      <td>1.000000</td>\n",
       "      <td>0.123784</td>\n",
       "      <td>-0.011245</td>\n",
       "      <td>-0.251918</td>\n",
       "    </tr>\n",
       "    <tr>\n",
       "      <th>Fare</th>\n",
       "      <td>0.257307</td>\n",
       "      <td>-0.549500</td>\n",
       "      <td>-0.182333</td>\n",
       "      <td>0.123784</td>\n",
       "      <td>1.000000</td>\n",
       "      <td>-0.224719</td>\n",
       "      <td>0.217138</td>\n",
       "    </tr>\n",
       "    <tr>\n",
       "      <th>Embarked</th>\n",
       "      <td>-0.167675</td>\n",
       "      <td>0.162098</td>\n",
       "      <td>0.108262</td>\n",
       "      <td>-0.011245</td>\n",
       "      <td>-0.224719</td>\n",
       "      <td>1.000000</td>\n",
       "      <td>0.066516</td>\n",
       "    </tr>\n",
       "    <tr>\n",
       "      <th>family_size</th>\n",
       "      <td>0.016639</td>\n",
       "      <td>0.065997</td>\n",
       "      <td>-0.200988</td>\n",
       "      <td>-0.251918</td>\n",
       "      <td>0.217138</td>\n",
       "      <td>0.066516</td>\n",
       "      <td>1.000000</td>\n",
       "    </tr>\n",
       "  </tbody>\n",
       "</table>\n",
       "</div>"
      ],
      "text/plain": [
       "             Survived    Pclass       Sex       Age      Fare  Embarked  \\\n",
       "Survived     1.000000 -0.338481 -0.543351 -0.047255  0.257307 -0.167675   \n",
       "Pclass      -0.338481  1.000000  0.131900 -0.408487 -0.549500  0.162098   \n",
       "Sex         -0.543351  0.131900  1.000000  0.078421 -0.182333  0.108262   \n",
       "Age         -0.047255 -0.408487  0.078421  1.000000  0.123784 -0.011245   \n",
       "Fare         0.257307 -0.549500 -0.182333  0.123784  1.000000 -0.224719   \n",
       "Embarked    -0.167675  0.162098  0.108262 -0.011245 -0.224719  1.000000   \n",
       "family_size  0.016639  0.065997 -0.200988 -0.251918  0.217138  0.066516   \n",
       "\n",
       "             family_size  \n",
       "Survived        0.016639  \n",
       "Pclass          0.065997  \n",
       "Sex            -0.200988  \n",
       "Age            -0.251918  \n",
       "Fare            0.217138  \n",
       "Embarked        0.066516  \n",
       "family_size     1.000000  "
      ]
     },
     "execution_count": 37,
     "metadata": {},
     "output_type": "execute_result"
    }
   ],
   "source": [
    "df_corr=df.corr()\n",
    "df_corr"
   ]
  },
  {
   "cell_type": "code",
   "execution_count": 39,
   "id": "0a4e95e4",
   "metadata": {},
   "outputs": [
    {
     "data": {
      "text/plain": [
       "<AxesSubplot:>"
      ]
     },
     "execution_count": 39,
     "metadata": {},
     "output_type": "execute_result"
    },
    {
     "data": {
      "image/png": "[encoded data removed]",
      "text/plain": [
       "<Figure size 720x576 with 2 Axes>"
      ]
     },
     "metadata": {},
     "output_type": "display_data"
    }
   ],
   "source": [
    "plt.figure(figsize=(10,8))\n",
    "sns.heatmap(df_corr, annot= True)"
   ]
  },
  {
   "cell_type": "markdown",
   "id": "b33c3eb6",
   "metadata": {},
   "source": [
    "## Outliers"
   ]
  },
  {
   "cell_type": "code",
   "execution_count": 40,
   "id": "ccf9074b",
   "metadata": {},
   "outputs": [
    {
     "data": {
      "text/plain": [
       "<AxesSubplot:>"
      ]
     },
     "execution_count": 40,
     "metadata": {},
     "output_type": "execute_result"
    },
    {
     "data": {
      "image/png": "[encoded data removed]",
      "text/plain": [
       "<Figure size 432x288 with 1 Axes>"
      ]
     },
     "metadata": {},
     "output_type": "display_data"
    }
   ],
   "source": [
    "# outlier with boxplot\n",
    "df.boxplot()"
   ]
  },
  {
   "cell_type": "code",
   "execution_count": 41,
   "id": "b9fc3caf",
   "metadata": {},
   "outputs": [
    {
     "data": {
      "text/plain": [
       "Survived          AxesSubplot(0.125,0.536818;0.110714x0.343182)\n",
       "Pclass         AxesSubplot(0.257857,0.536818;0.110714x0.343182)\n",
       "Sex            AxesSubplot(0.390714,0.536818;0.110714x0.343182)\n",
       "Age            AxesSubplot(0.523571,0.536818;0.110714x0.343182)\n",
       "Fare           AxesSubplot(0.656429,0.536818;0.110714x0.343182)\n",
       "Embarked       AxesSubplot(0.789286,0.536818;0.110714x0.343182)\n",
       "family_size          AxesSubplot(0.125,0.125;0.110714x0.343182)\n",
       "dtype: object"
      ]
     },
     "execution_count": 41,
     "metadata": {},
     "output_type": "execute_result"
    },
    {
     "data": {
      "image/png": "[encoded data removed]",
      "text/plain": [
       "<Figure size 720x720 with 12 Axes>"
      ]
     },
     "metadata": {},
     "output_type": "display_data"
    }
   ],
   "source": [
    "#plot the each column individually with sns.subplot for getting more clearance about the outlier\n",
    "\n",
    "df.plot(kind='box',subplots=True,layout=(2,6),figsize=(10,10))"
   ]
  },
  {
   "cell_type": "markdown",
   "id": "6fd6eda9",
   "metadata": {},
   "source": [
    "There are many outliers in fare, age , family size."
   ]
  },
  {
   "cell_type": "code",
   "execution_count": 42,
   "id": "229daae0",
   "metadata": {},
   "outputs": [],
   "source": [
    "from scipy.stats import zscore\n",
    "z=np.abs(zscore(df))"
   ]
  },
  {
   "cell_type": "code",
   "execution_count": 43,
   "id": "81affccc",
   "metadata": {},
   "outputs": [
    {
     "data": {
      "text/plain": [
       "(839, 7)"
      ]
     },
     "execution_count": 43,
     "metadata": {},
     "output_type": "execute_result"
    }
   ],
   "source": [
    "df_final=df[(z<3).all(axis=1)]\n",
    "df_final.shape"
   ]
  },
  {
   "cell_type": "code",
   "execution_count": 44,
   "id": "1a4b6981",
   "metadata": {},
   "outputs": [
    {
     "data": {
      "text/plain": [
       "(891, 7)"
      ]
     },
     "execution_count": 44,
     "metadata": {},
     "output_type": "execute_result"
    }
   ],
   "source": [
    "df.shape"
   ]
  },
  {
   "cell_type": "code",
   "execution_count": 46,
   "id": "391f0457",
   "metadata": {},
   "outputs": [],
   "source": [
    "collist=df.columns.values\n",
    "ncol=12\n",
    "nrows=10"
   ]
  },
  {
   "cell_type": "code",
   "execution_count": 49,
   "id": "5126d786",
   "metadata": {},
   "outputs": [
    {
     "data": {
      "image/png": "[encoded data removed]",
      "text/plain": [
       "<Figure size 1152x1800 with 7 Axes>"
      ]
     },
     "metadata": {},
     "output_type": "display_data"
    }
   ],
   "source": [
    "#checking the skewness of data\n",
    "plt.figure(figsize=(16,25))\n",
    "for i in range(0,len(collist)):\n",
    "    plt.subplot(nrows,ncol,i+1)\n",
    "    sns.distplot(df[collist[i]])"
   ]
  },
  {
   "cell_type": "code",
   "execution_count": 48,
   "id": "02575753",
   "metadata": {},
   "outputs": [
    {
     "data": {
      "text/plain": [
       "<seaborn.axisgrid.PairGrid at 0x1eadf1ebe80>"
      ]
     },
     "execution_count": 48,
     "metadata": {},
     "output_type": "execute_result"
    },
    {
     "data": {
      "image/png": "[encoded data removed]",
      "text/plain": [
       "<Figure size 1260x1260 with 56 Axes>"
      ]
     },
     "metadata": {},
     "output_type": "display_data"
    }
   ],
   "source": [
    "sns.pairplot(df)"
   ]
  },
  {
   "cell_type": "code",
   "execution_count": 50,
   "id": "814ff201",
   "metadata": {},
   "outputs": [],
   "source": [
    "#separating target and input variables\n",
    "df_x=df_final.drop(columns=[\"Survived\"])\n",
    "y=df_final[[\"Survived\"]]"
   ]
  },
  {
   "cell_type": "code",
   "execution_count": 51,
   "id": "451c6b7c",
   "metadata": {},
   "outputs": [],
   "source": [
    "\n",
    "#scaling the imput variable\n",
    "\n",
    "from sklearn.preprocessing import StandardScaler\n",
    "sc = StandardScaler()\n",
    "x = sc.fit_transform(df_x)\n",
    "x=pd.DataFrame(x,columns=df_x.columns)"
   ]
  },
  {
   "cell_type": "code",
   "execution_count": 55,
   "id": "df0a8086",
   "metadata": {},
   "outputs": [],
   "source": [
    "from sklearn.model_selection import train_test_split\n",
    "from sklearn.linear_model import LogisticRegression\n",
    "from sklearn.metrics import accuracy_score,confusion_matrix,classification_report\n",
    "lr=LogisticRegression()\n",
    "from sklearn.svm import SVC\n",
    "from sklearn.tree import DecisionTreeClassifier\n",
    "from sklearn.neighbors import KNeighborsClassifier\n",
    "from sklearn.model_selection import cross_val_score\n",
    "from sklearn.model_selection import GridSearchCV"
   ]
  },
  {
   "cell_type": "code",
   "execution_count": 52,
   "id": "88edef84",
   "metadata": {},
   "outputs": [],
   "source": [
    "from sklearn.metrics import accuracy_score\n",
    "\n",
    "def max_accuracy_score(clf,x,y):\n",
    "    max_aucroc_score=0\n",
    "    for r_state in range(42,100):\n",
    "        x_train, x_test, y_train, y_test = train_test_split(x, y,random_state = r_state,test_size=0.20,stratify=y)\n",
    "        clf.fit(x_train,y_train)\n",
    "        y_pred = clf.predict(x_test)\n",
    "        aucroc_scr=accuracy_score(y_test,y_pred)\n",
    "        print(\"accuracyscore corresponding to \",r_state,\" is \",aucroc_scr)\n",
    "        if aucroc_scr>max_aucroc_score:\n",
    "            max_aucroc_score=aucroc_scr\n",
    "            final_r_state=r_state\n",
    "    print(\"max accuracy score corresponding to \",final_r_state,\" is \",max_aucroc_score)\n",
    "    return final_r_state"
   ]
  },
  {
   "cell_type": "code",
   "execution_count": 53,
   "id": "209e2bb3",
   "metadata": {},
   "outputs": [],
   "source": [
    "def kfold(clf,x,y,):\n",
    "    print(\"Mean roc auccuracy score for\",clf,cross_val_score(clf,x,y,cv=5,scoring=\"accuracy\").mean())\n",
    "    print(\"standard deviation inaccuracy_scoref or\",clf,cross_val_score(clf,x,y,cv=5,scoring=\"accuracy\").std())\n",
    "    print(cross_val_score(clf,x,y,cv=5,scoring=\"accuracy\"))"
   ]
  },
  {
   "cell_type": "code",
   "execution_count": 56,
   "id": "10da9429",
   "metadata": {},
   "outputs": [
    {
     "name": "stdout",
     "output_type": "stream",
     "text": [
      "accuracyscore corresponding to  42  is  0.7738095238095238\n",
      "accuracyscore corresponding to  43  is  0.7857142857142857\n",
      "accuracyscore corresponding to  44  is  0.7916666666666666\n",
      "accuracyscore corresponding to  45  is  0.8154761904761905\n",
      "accuracyscore corresponding to  46  is  0.7738095238095238\n",
      "accuracyscore corresponding to  47  is  0.8154761904761905\n",
      "accuracyscore corresponding to  48  is  0.7976190476190477\n",
      "accuracyscore corresponding to  49  is  0.8214285714285714\n",
      "accuracyscore corresponding to  50  is  0.8154761904761905\n",
      "accuracyscore corresponding to  51  is  0.8452380952380952\n",
      "accuracyscore corresponding to  52  is  0.7678571428571429\n",
      "accuracyscore corresponding to  53  is  0.7738095238095238\n",
      "accuracyscore corresponding to  54  is  0.8035714285714286\n",
      "accuracyscore corresponding to  55  is  0.8095238095238095\n",
      "accuracyscore corresponding to  56  is  0.8095238095238095\n",
      "accuracyscore corresponding to  57  is  0.8095238095238095\n",
      "accuracyscore corresponding to  58  is  0.8154761904761905\n",
      "accuracyscore corresponding to  59  is  0.8333333333333334\n",
      "accuracyscore corresponding to  60  is  0.8035714285714286\n",
      "accuracyscore corresponding to  61  is  0.7916666666666666\n",
      "accuracyscore corresponding to  62  is  0.7916666666666666\n",
      "accuracyscore corresponding to  63  is  0.7976190476190477\n",
      "accuracyscore corresponding to  64  is  0.8095238095238095\n",
      "accuracyscore corresponding to  65  is  0.8630952380952381\n",
      "accuracyscore corresponding to  66  is  0.8392857142857143\n",
      "accuracyscore corresponding to  67  is  0.8095238095238095\n",
      "accuracyscore corresponding to  68  is  0.8511904761904762\n",
      "accuracyscore corresponding to  69  is  0.8035714285714286\n",
      "accuracyscore corresponding to  70  is  0.7380952380952381\n",
      "accuracyscore corresponding to  71  is  0.7916666666666666\n",
      "accuracyscore corresponding to  72  is  0.8333333333333334\n",
      "accuracyscore corresponding to  73  is  0.8095238095238095\n",
      "accuracyscore corresponding to  74  is  0.7678571428571429\n",
      "accuracyscore corresponding to  75  is  0.7678571428571429\n",
      "accuracyscore corresponding to  76  is  0.8095238095238095\n",
      "accuracyscore corresponding to  77  is  0.7559523809523809\n",
      "accuracyscore corresponding to  78  is  0.8571428571428571\n",
      "accuracyscore corresponding to  79  is  0.8392857142857143\n",
      "accuracyscore corresponding to  80  is  0.8214285714285714\n",
      "accuracyscore corresponding to  81  is  0.7976190476190477\n",
      "accuracyscore corresponding to  82  is  0.8035714285714286\n",
      "accuracyscore corresponding to  83  is  0.7380952380952381\n",
      "accuracyscore corresponding to  84  is  0.7619047619047619\n",
      "accuracyscore corresponding to  85  is  0.7916666666666666\n",
      "accuracyscore corresponding to  86  is  0.7678571428571429\n",
      "accuracyscore corresponding to  87  is  0.7857142857142857\n",
      "accuracyscore corresponding to  88  is  0.8273809523809523\n",
      "accuracyscore corresponding to  89  is  0.7261904761904762\n",
      "accuracyscore corresponding to  90  is  0.8333333333333334\n",
      "accuracyscore corresponding to  91  is  0.7738095238095238\n",
      "accuracyscore corresponding to  92  is  0.8452380952380952\n",
      "accuracyscore corresponding to  93  is  0.8095238095238095\n",
      "accuracyscore corresponding to  94  is  0.8035714285714286\n",
      "accuracyscore corresponding to  95  is  0.7678571428571429\n",
      "accuracyscore corresponding to  96  is  0.8095238095238095\n",
      "accuracyscore corresponding to  97  is  0.7380952380952381\n",
      "accuracyscore corresponding to  98  is  0.8333333333333334\n",
      "accuracyscore corresponding to  99  is  0.8214285714285714\n",
      "max accuracy score corresponding to  65  is  0.8630952380952381\n"
     ]
    },
    {
     "data": {
      "text/plain": [
       "65"
      ]
     },
     "execution_count": 56,
     "metadata": {},
     "output_type": "execute_result"
    }
   ],
   "source": [
    "#lets use logistic regression\n",
    "from sklearn.linear_model import LogisticRegression\n",
    "lg_clsf=LogisticRegression()\n",
    "max_accuracy_score(lg_clsf,x,y)"
   ]
  },
  {
   "cell_type": "code",
   "execution_count": 57,
   "id": "6215825a",
   "metadata": {},
   "outputs": [
    {
     "name": "stdout",
     "output_type": "stream",
     "text": [
      "Mean roc auccuracy score for LogisticRegression() 0.7962004562303964\n",
      "standard deviation inaccuracy_scoref or LogisticRegression() 0.00921610809148141\n",
      "[0.78571429 0.80357143 0.78571429 0.79761905 0.80838323]\n"
     ]
    }
   ],
   "source": [
    "kfold(lg_clsf,x,y)"
   ]
  },
  {
   "cell_type": "code",
   "execution_count": 58,
   "id": "a4a36958",
   "metadata": {},
   "outputs": [
    {
     "data": {
      "text/plain": [
       "{'n_neighbors': 5}"
      ]
     },
     "execution_count": 58,
     "metadata": {},
     "output_type": "execute_result"
    }
   ],
   "source": [
    "\n",
    "from sklearn.model_selection import GridSearchCV\n",
    "from sklearn.neighbors import KNeighborsClassifier\n",
    "kc=KNeighborsClassifier()\n",
    "neighbors={\"n_neighbors\":range(1,50)}\n",
    "clf = GridSearchCV(kc, neighbors, cv=5,scoring=\"f1\")\n",
    "clf.fit(x,y)\n",
    "clf.best_params_"
   ]
  },
  {
   "cell_type": "code",
   "execution_count": 59,
   "id": "edd872e3",
   "metadata": {},
   "outputs": [
    {
     "name": "stdout",
     "output_type": "stream",
     "text": [
      "accuracyscore corresponding to  42  is  0.7738095238095238\n",
      "accuracyscore corresponding to  43  is  0.8154761904761905\n",
      "accuracyscore corresponding to  44  is  0.8154761904761905\n",
      "accuracyscore corresponding to  45  is  0.8333333333333334\n",
      "accuracyscore corresponding to  46  is  0.7797619047619048\n",
      "accuracyscore corresponding to  47  is  0.8154761904761905\n",
      "accuracyscore corresponding to  48  is  0.8273809523809523\n",
      "accuracyscore corresponding to  49  is  0.8273809523809523\n",
      "accuracyscore corresponding to  50  is  0.8214285714285714\n",
      "accuracyscore corresponding to  51  is  0.8035714285714286\n",
      "accuracyscore corresponding to  52  is  0.8154761904761905\n",
      "accuracyscore corresponding to  53  is  0.7976190476190477\n",
      "accuracyscore corresponding to  54  is  0.8035714285714286\n",
      "accuracyscore corresponding to  55  is  0.8154761904761905\n",
      "accuracyscore corresponding to  56  is  0.8035714285714286\n",
      "accuracyscore corresponding to  57  is  0.8035714285714286\n",
      "accuracyscore corresponding to  58  is  0.8035714285714286\n",
      "accuracyscore corresponding to  59  is  0.7916666666666666\n",
      "accuracyscore corresponding to  60  is  0.7797619047619048\n",
      "accuracyscore corresponding to  61  is  0.7321428571428571\n",
      "accuracyscore corresponding to  62  is  0.8392857142857143\n",
      "accuracyscore corresponding to  63  is  0.7976190476190477\n",
      "accuracyscore corresponding to  64  is  0.8095238095238095\n",
      "accuracyscore corresponding to  65  is  0.8511904761904762\n",
      "accuracyscore corresponding to  66  is  0.8273809523809523\n",
      "accuracyscore corresponding to  67  is  0.7619047619047619\n",
      "accuracyscore corresponding to  68  is  0.8214285714285714\n",
      "accuracyscore corresponding to  69  is  0.7916666666666666\n",
      "accuracyscore corresponding to  70  is  0.7738095238095238\n",
      "accuracyscore corresponding to  71  is  0.8154761904761905\n",
      "accuracyscore corresponding to  72  is  0.8095238095238095\n",
      "accuracyscore corresponding to  73  is  0.8392857142857143\n",
      "accuracyscore corresponding to  74  is  0.7797619047619048\n",
      "accuracyscore corresponding to  75  is  0.8154761904761905\n",
      "accuracyscore corresponding to  76  is  0.8035714285714286\n",
      "accuracyscore corresponding to  77  is  0.7619047619047619\n",
      "accuracyscore corresponding to  78  is  0.8273809523809523\n",
      "accuracyscore corresponding to  79  is  0.7857142857142857\n",
      "accuracyscore corresponding to  80  is  0.7916666666666666\n",
      "accuracyscore corresponding to  81  is  0.7916666666666666\n",
      "accuracyscore corresponding to  82  is  0.7976190476190477\n",
      "accuracyscore corresponding to  83  is  0.7916666666666666\n",
      "accuracyscore corresponding to  84  is  0.8095238095238095\n",
      "accuracyscore corresponding to  85  is  0.7976190476190477\n",
      "accuracyscore corresponding to  86  is  0.7738095238095238\n",
      "accuracyscore corresponding to  87  is  0.7857142857142857\n",
      "accuracyscore corresponding to  88  is  0.8273809523809523\n",
      "accuracyscore corresponding to  89  is  0.7797619047619048\n",
      "accuracyscore corresponding to  90  is  0.8154761904761905\n",
      "accuracyscore corresponding to  91  is  0.8035714285714286\n",
      "accuracyscore corresponding to  92  is  0.8392857142857143\n",
      "accuracyscore corresponding to  93  is  0.8273809523809523\n",
      "accuracyscore corresponding to  94  is  0.7916666666666666\n",
      "accuracyscore corresponding to  95  is  0.8035714285714286\n",
      "accuracyscore corresponding to  96  is  0.8154761904761905\n",
      "accuracyscore corresponding to  97  is  0.7321428571428571\n",
      "accuracyscore corresponding to  98  is  0.8333333333333334\n",
      "accuracyscore corresponding to  99  is  0.8333333333333334\n",
      "max accuracy score corresponding to  65  is  0.8511904761904762\n"
     ]
    },
    {
     "data": {
      "text/plain": [
       "65"
      ]
     },
     "execution_count": 59,
     "metadata": {},
     "output_type": "execute_result"
    }
   ],
   "source": [
    "knn=KNeighborsClassifier(n_neighbors=13)\n",
    "max_accuracy_score(knn,x,y)"
   ]
  },
  {
   "cell_type": "code",
   "execution_count": 60,
   "id": "19535b9f",
   "metadata": {},
   "outputs": [
    {
     "name": "stdout",
     "output_type": "stream",
     "text": [
      "Mean roc auccuracy score for KNeighborsClassifier(n_neighbors=13) 0.8104932991160536\n",
      "standard deviation inaccuracy_scoref or KNeighborsClassifier(n_neighbors=13) 0.013184372093079082\n",
      "[0.83333333 0.80952381 0.79761905 0.79761905 0.81437126]\n"
     ]
    }
   ],
   "source": [
    "kfold(knn,x,y)"
   ]
  },
  {
   "cell_type": "code",
   "execution_count": 65,
   "id": "00aa0070",
   "metadata": {},
   "outputs": [
    {
     "data": {
      "text/plain": [
       "{'n_estimators': 100}"
      ]
     },
     "execution_count": 65,
     "metadata": {},
     "output_type": "execute_result"
    }
   ],
   "source": [
    "parameters={\"n_estimators\":[10,50,100,150,200,250,300,350,400,450,500]}\n",
    "rf_clf=RandomForestClassifier()\n",
    "clf = GridSearchCV(rf_clf, parameters, cv=5,scoring=\"f1\")\n",
    "clf.fit(x,y)\n",
    "clf.best_params_"
   ]
  },
  {
   "cell_type": "code",
   "execution_count": 66,
   "id": "6206f8d8",
   "metadata": {},
   "outputs": [
    {
     "name": "stdout",
     "output_type": "stream",
     "text": [
      "accuracyscore corresponding to  42  is  0.7619047619047619\n",
      "accuracyscore corresponding to  43  is  0.8154761904761905\n",
      "accuracyscore corresponding to  44  is  0.8214285714285714\n",
      "accuracyscore corresponding to  45  is  0.8392857142857143\n",
      "accuracyscore corresponding to  46  is  0.7619047619047619\n",
      "accuracyscore corresponding to  47  is  0.8333333333333334\n",
      "accuracyscore corresponding to  48  is  0.8035714285714286\n",
      "accuracyscore corresponding to  49  is  0.8392857142857143\n",
      "accuracyscore corresponding to  50  is  0.8154761904761905\n",
      "accuracyscore corresponding to  51  is  0.8333333333333334\n",
      "accuracyscore corresponding to  52  is  0.7857142857142857\n",
      "accuracyscore corresponding to  53  is  0.8095238095238095\n",
      "accuracyscore corresponding to  54  is  0.7619047619047619\n",
      "accuracyscore corresponding to  55  is  0.8214285714285714\n",
      "accuracyscore corresponding to  56  is  0.8035714285714286\n",
      "accuracyscore corresponding to  57  is  0.8273809523809523\n",
      "accuracyscore corresponding to  58  is  0.7916666666666666\n",
      "accuracyscore corresponding to  59  is  0.7916666666666666\n",
      "accuracyscore corresponding to  60  is  0.8333333333333334\n",
      "accuracyscore corresponding to  61  is  0.75\n",
      "accuracyscore corresponding to  62  is  0.8035714285714286\n",
      "accuracyscore corresponding to  63  is  0.8035714285714286\n",
      "accuracyscore corresponding to  64  is  0.8035714285714286\n",
      "accuracyscore corresponding to  65  is  0.8511904761904762\n",
      "accuracyscore corresponding to  66  is  0.7976190476190477\n",
      "accuracyscore corresponding to  67  is  0.8095238095238095\n",
      "accuracyscore corresponding to  68  is  0.8035714285714286\n",
      "accuracyscore corresponding to  69  is  0.8035714285714286\n",
      "accuracyscore corresponding to  70  is  0.7976190476190477\n",
      "accuracyscore corresponding to  71  is  0.7916666666666666\n",
      "accuracyscore corresponding to  72  is  0.8154761904761905\n",
      "accuracyscore corresponding to  73  is  0.8333333333333334\n",
      "accuracyscore corresponding to  74  is  0.7797619047619048\n",
      "accuracyscore corresponding to  75  is  0.8333333333333334\n",
      "accuracyscore corresponding to  76  is  0.8392857142857143\n",
      "accuracyscore corresponding to  77  is  0.7619047619047619\n",
      "accuracyscore corresponding to  78  is  0.8214285714285714\n",
      "accuracyscore corresponding to  79  is  0.8273809523809523\n",
      "accuracyscore corresponding to  80  is  0.8511904761904762\n",
      "accuracyscore corresponding to  81  is  0.8095238095238095\n",
      "accuracyscore corresponding to  82  is  0.8035714285714286\n",
      "accuracyscore corresponding to  83  is  0.7321428571428571\n",
      "accuracyscore corresponding to  84  is  0.7559523809523809\n",
      "accuracyscore corresponding to  85  is  0.7857142857142857\n",
      "accuracyscore corresponding to  86  is  0.7976190476190477\n",
      "accuracyscore corresponding to  87  is  0.75\n",
      "accuracyscore corresponding to  88  is  0.8273809523809523\n",
      "accuracyscore corresponding to  89  is  0.7916666666666666\n",
      "accuracyscore corresponding to  90  is  0.8035714285714286\n",
      "accuracyscore corresponding to  91  is  0.7976190476190477\n",
      "accuracyscore corresponding to  92  is  0.8273809523809523\n",
      "accuracyscore corresponding to  93  is  0.8095238095238095\n",
      "accuracyscore corresponding to  94  is  0.7797619047619048\n",
      "accuracyscore corresponding to  95  is  0.8154761904761905\n",
      "accuracyscore corresponding to  96  is  0.7559523809523809\n",
      "accuracyscore corresponding to  97  is  0.7261904761904762\n",
      "accuracyscore corresponding to  98  is  0.8809523809523809\n",
      "accuracyscore corresponding to  99  is  0.7916666666666666\n",
      "max accuracy score corresponding to  98  is  0.8809523809523809\n"
     ]
    },
    {
     "data": {
      "text/plain": [
       "98"
      ]
     },
     "execution_count": 66,
     "metadata": {},
     "output_type": "execute_result"
    }
   ],
   "source": [
    "rf_clf=RandomForestClassifier(n_estimators=50)\n",
    "max_accuracy_score(rf_clf,x,y)"
   ]
  },
  {
   "cell_type": "code",
   "execution_count": 67,
   "id": "549334f9",
   "metadata": {},
   "outputs": [
    {
     "name": "stdout",
     "output_type": "stream",
     "text": [
      "Mean roc auccuracy score for RandomForestClassifier(n_estimators=50) 0.8009980039920158\n",
      "standard deviation inaccuracy_scoref or RandomForestClassifier(n_estimators=50) 0.03079033192199227\n",
      "[0.79761905 0.80952381 0.82738095 0.77380952 0.81437126]\n"
     ]
    }
   ],
   "source": [
    "kfold(rf_clf,x,y)"
   ]
  },
  {
   "cell_type": "code",
   "execution_count": 68,
   "id": "26afc2e3",
   "metadata": {},
   "outputs": [
    {
     "data": {
      "text/plain": [
       "{'C': 1, 'kernel': 'rbf'}"
      ]
     },
     "execution_count": 68,
     "metadata": {},
     "output_type": "execute_result"
    }
   ],
   "source": [
    "#Lets use SVM\n",
    "from sklearn.svm import SVC\n",
    "svc=SVC()\n",
    "parameters={\"kernel\":[\"linear\", \"poly\", \"rbf\"],\"C\":[0.001,0.01,0.1,1,10]}\n",
    "clf = GridSearchCV(svc, parameters, cv=5,scoring=\"f1\")\n",
    "clf.fit(x,y)\n",
    "clf.best_params_\n"
   ]
  },
  {
   "cell_type": "code",
   "execution_count": 69,
   "id": "5fa7183f",
   "metadata": {},
   "outputs": [
    {
     "name": "stdout",
     "output_type": "stream",
     "text": [
      "accuracyscore corresponding to  42  is  0.8214285714285714\n",
      "accuracyscore corresponding to  43  is  0.8035714285714286\n",
      "accuracyscore corresponding to  44  is  0.8154761904761905\n",
      "accuracyscore corresponding to  45  is  0.8392857142857143\n",
      "accuracyscore corresponding to  46  is  0.7797619047619048\n",
      "accuracyscore corresponding to  47  is  0.8452380952380952\n",
      "accuracyscore corresponding to  48  is  0.8095238095238095\n",
      "accuracyscore corresponding to  49  is  0.8273809523809523\n",
      "accuracyscore corresponding to  50  is  0.8154761904761905\n",
      "accuracyscore corresponding to  51  is  0.8333333333333334\n",
      "accuracyscore corresponding to  52  is  0.8035714285714286\n",
      "accuracyscore corresponding to  53  is  0.7857142857142857\n",
      "accuracyscore corresponding to  54  is  0.8095238095238095\n",
      "accuracyscore corresponding to  55  is  0.8333333333333334\n",
      "accuracyscore corresponding to  56  is  0.7976190476190477\n",
      "accuracyscore corresponding to  57  is  0.8452380952380952\n",
      "accuracyscore corresponding to  58  is  0.8095238095238095\n",
      "accuracyscore corresponding to  59  is  0.8392857142857143\n",
      "accuracyscore corresponding to  60  is  0.8095238095238095\n",
      "accuracyscore corresponding to  61  is  0.7857142857142857\n",
      "accuracyscore corresponding to  62  is  0.8452380952380952\n",
      "accuracyscore corresponding to  63  is  0.8214285714285714\n",
      "accuracyscore corresponding to  64  is  0.8214285714285714\n",
      "accuracyscore corresponding to  65  is  0.8511904761904762\n",
      "accuracyscore corresponding to  66  is  0.8154761904761905\n",
      "accuracyscore corresponding to  67  is  0.8035714285714286\n",
      "accuracyscore corresponding to  68  is  0.8452380952380952\n",
      "accuracyscore corresponding to  69  is  0.8154761904761905\n",
      "accuracyscore corresponding to  70  is  0.7797619047619048\n",
      "accuracyscore corresponding to  71  is  0.8392857142857143\n",
      "accuracyscore corresponding to  72  is  0.8214285714285714\n",
      "accuracyscore corresponding to  73  is  0.8154761904761905\n",
      "accuracyscore corresponding to  74  is  0.7916666666666666\n",
      "accuracyscore corresponding to  75  is  0.7976190476190477\n",
      "accuracyscore corresponding to  76  is  0.8571428571428571\n",
      "accuracyscore corresponding to  77  is  0.7619047619047619\n",
      "accuracyscore corresponding to  78  is  0.8392857142857143\n",
      "accuracyscore corresponding to  79  is  0.8452380952380952\n",
      "accuracyscore corresponding to  80  is  0.8452380952380952\n",
      "accuracyscore corresponding to  81  is  0.7976190476190477\n",
      "accuracyscore corresponding to  82  is  0.7916666666666666\n",
      "accuracyscore corresponding to  83  is  0.75\n",
      "accuracyscore corresponding to  84  is  0.7976190476190477\n",
      "accuracyscore corresponding to  85  is  0.7916666666666666\n",
      "accuracyscore corresponding to  86  is  0.8154761904761905\n",
      "accuracyscore corresponding to  87  is  0.8035714285714286\n",
      "accuracyscore corresponding to  88  is  0.8571428571428571\n",
      "accuracyscore corresponding to  89  is  0.7738095238095238\n",
      "accuracyscore corresponding to  90  is  0.8452380952380952\n",
      "accuracyscore corresponding to  91  is  0.8095238095238095\n",
      "accuracyscore corresponding to  92  is  0.8392857142857143\n",
      "accuracyscore corresponding to  93  is  0.8214285714285714\n",
      "accuracyscore corresponding to  94  is  0.8154761904761905\n",
      "accuracyscore corresponding to  95  is  0.8035714285714286\n",
      "accuracyscore corresponding to  96  is  0.8214285714285714\n",
      "accuracyscore corresponding to  97  is  0.7559523809523809\n",
      "accuracyscore corresponding to  98  is  0.8630952380952381\n",
      "accuracyscore corresponding to  99  is  0.8273809523809523\n",
      "max accuracy score corresponding to  98  is  0.8630952380952381\n"
     ]
    },
    {
     "data": {
      "text/plain": [
       "98"
      ]
     },
     "execution_count": 69,
     "metadata": {},
     "output_type": "execute_result"
    }
   ],
   "source": [
    "svc=SVC(kernel=\"rbf\",C=1)\n",
    "max_accuracy_score(svc,x,y)"
   ]
  },
  {
   "cell_type": "code",
   "execution_count": 70,
   "id": "c12b19c4",
   "metadata": {},
   "outputs": [
    {
     "name": "stdout",
     "output_type": "stream",
     "text": [
      "Mean roc auccuracy score for SVC(C=1) 0.8200598802395209\n",
      "standard deviation inaccuracy_scoref or SVC(C=1) 0.02278464475830581\n",
      "[0.83928571 0.82142857 0.79166667 0.79761905 0.8502994 ]\n"
     ]
    }
   ],
   "source": [
    "#lets again use cross val score\n",
    "kfold(svc,x,y)"
   ]
  },
  {
   "cell_type": "code",
   "execution_count": 73,
   "id": "0fcae0b3",
   "metadata": {},
   "outputs": [
    {
     "data": {
      "text/plain": [
       "{'learning_rate': 0.1, 'n_estimators': 200}"
      ]
     },
     "execution_count": 73,
     "metadata": {},
     "output_type": "execute_result"
    }
   ],
   "source": [
    "from sklearn.ensemble import GradientBoostingClassifier\n",
    "from sklearn.model_selection import GridSearchCV\n",
    "gbr=GradientBoostingClassifier()\n",
    "\n",
    "parameters={\"learning_rate\":[0.001,0.01,0.1,1],\"n_estimators\":[5,50,100,150,200,250,300,350,400,450,500,550,600]}\n",
    "clf = GridSearchCV(gbr, parameters, cv=5)\n",
    "clf.fit(x,y)\n",
    "clf.best_params_"
   ]
  },
  {
   "cell_type": "code",
   "execution_count": 76,
   "id": "8b2ea852",
   "metadata": {},
   "outputs": [
    {
     "name": "stdout",
     "output_type": "stream",
     "text": [
      "accuracyscore corresponding to  42  is  0.8095238095238095\n",
      "accuracyscore corresponding to  43  is  0.8095238095238095\n",
      "accuracyscore corresponding to  44  is  0.8035714285714286\n",
      "accuracyscore corresponding to  45  is  0.8392857142857143\n",
      "accuracyscore corresponding to  46  is  0.7797619047619048\n",
      "accuracyscore corresponding to  47  is  0.8511904761904762\n",
      "accuracyscore corresponding to  48  is  0.8154761904761905\n",
      "accuracyscore corresponding to  49  is  0.8392857142857143\n",
      "accuracyscore corresponding to  50  is  0.8095238095238095\n",
      "accuracyscore corresponding to  51  is  0.8273809523809523\n",
      "accuracyscore corresponding to  52  is  0.8035714285714286\n",
      "accuracyscore corresponding to  53  is  0.7916666666666666\n",
      "accuracyscore corresponding to  54  is  0.7976190476190477\n",
      "accuracyscore corresponding to  55  is  0.8273809523809523\n",
      "accuracyscore corresponding to  56  is  0.7797619047619048\n",
      "accuracyscore corresponding to  57  is  0.8273809523809523\n",
      "accuracyscore corresponding to  58  is  0.8273809523809523\n",
      "accuracyscore corresponding to  59  is  0.8273809523809523\n",
      "accuracyscore corresponding to  60  is  0.8154761904761905\n",
      "accuracyscore corresponding to  61  is  0.7857142857142857\n",
      "accuracyscore corresponding to  62  is  0.8214285714285714\n",
      "accuracyscore corresponding to  63  is  0.8154761904761905\n",
      "accuracyscore corresponding to  64  is  0.8333333333333334\n",
      "accuracyscore corresponding to  65  is  0.8690476190476191\n",
      "accuracyscore corresponding to  66  is  0.8333333333333334\n",
      "accuracyscore corresponding to  67  is  0.8333333333333334\n",
      "accuracyscore corresponding to  68  is  0.8571428571428571\n",
      "accuracyscore corresponding to  69  is  0.8273809523809523\n",
      "accuracyscore corresponding to  70  is  0.7797619047619048\n",
      "accuracyscore corresponding to  71  is  0.8333333333333334\n",
      "accuracyscore corresponding to  72  is  0.8511904761904762\n",
      "accuracyscore corresponding to  73  is  0.8273809523809523\n",
      "accuracyscore corresponding to  74  is  0.7916666666666666\n",
      "accuracyscore corresponding to  75  is  0.8154761904761905\n",
      "accuracyscore corresponding to  76  is  0.8630952380952381\n",
      "accuracyscore corresponding to  77  is  0.7738095238095238\n",
      "accuracyscore corresponding to  78  is  0.8392857142857143\n",
      "accuracyscore corresponding to  79  is  0.8511904761904762\n",
      "accuracyscore corresponding to  80  is  0.8452380952380952\n",
      "accuracyscore corresponding to  81  is  0.7916666666666666\n",
      "accuracyscore corresponding to  82  is  0.8154761904761905\n",
      "accuracyscore corresponding to  83  is  0.75\n",
      "accuracyscore corresponding to  84  is  0.7976190476190477\n",
      "accuracyscore corresponding to  85  is  0.7857142857142857\n",
      "accuracyscore corresponding to  86  is  0.8214285714285714\n",
      "accuracyscore corresponding to  87  is  0.7976190476190477\n",
      "accuracyscore corresponding to  88  is  0.8452380952380952\n",
      "accuracyscore corresponding to  89  is  0.7797619047619048\n",
      "accuracyscore corresponding to  90  is  0.8333333333333334\n",
      "accuracyscore corresponding to  91  is  0.7976190476190477\n",
      "accuracyscore corresponding to  92  is  0.8392857142857143\n",
      "accuracyscore corresponding to  93  is  0.8273809523809523\n",
      "accuracyscore corresponding to  94  is  0.8035714285714286\n",
      "accuracyscore corresponding to  95  is  0.7976190476190477\n",
      "accuracyscore corresponding to  96  is  0.7976190476190477\n",
      "accuracyscore corresponding to  97  is  0.7440476190476191\n",
      "accuracyscore corresponding to  98  is  0.8511904761904762\n",
      "accuracyscore corresponding to  99  is  0.8214285714285714\n",
      "max accuracy score corresponding to  65  is  0.8690476190476191\n"
     ]
    },
    {
     "data": {
      "text/plain": [
       "65"
      ]
     },
     "execution_count": 76,
     "metadata": {},
     "output_type": "execute_result"
    }
   ],
   "source": [
    "gbr=GradientBoostingClassifier(learning_rate=0.1,n_estimators=30)\n",
    "max_accuracy_score(gbr,x,y)"
   ]
  },
  {
   "cell_type": "code",
   "execution_count": 77,
   "id": "433ca676",
   "metadata": {},
   "outputs": [
    {
     "name": "stdout",
     "output_type": "stream",
     "text": [
      "Mean roc auccuracy score for GradientBoostingClassifier(n_estimators=30) 0.8129027658967779\n",
      "standard deviation inaccuracy_scoref or GradientBoostingClassifier(n_estimators=30) 0.01839150602233649\n",
      "[0.79166667 0.81547619 0.82142857 0.79761905 0.83832335]\n"
     ]
    }
   ],
   "source": [
    "kfold(gbr,x,y)"
   ]
  },
  {
   "cell_type": "code",
   "execution_count": 78,
   "id": "dce62d2b",
   "metadata": {},
   "outputs": [
    {
     "data": {
      "text/plain": [
       "{'base_estimator': DecisionTreeClassifier(),\n",
       " 'learning_rate': 1,\n",
       " 'n_estimators': 500}"
      ]
     },
     "execution_count": 78,
     "metadata": {},
     "output_type": "execute_result"
    }
   ],
   "source": [
    "from sklearn.ensemble import AdaBoostClassifier\n",
    "from sklearn.tree import DecisionTreeClassifier\n",
    "ada_clsf=AdaBoostClassifier()\n",
    "parameters={\"learning_rate\":[0.001,0.01,0.1,1],\"n_estimators\":[10,100,500,1000],\"base_estimator\":[ DecisionTreeClassifier()]}\n",
    "clf = GridSearchCV(ada_clsf, parameters, cv=5)\n",
    "clf.fit(df_x,y)\n",
    "clf.best_params_"
   ]
  },
  {
   "cell_type": "code",
   "execution_count": 79,
   "id": "d2c2d2b8",
   "metadata": {},
   "outputs": [
    {
     "name": "stdout",
     "output_type": "stream",
     "text": [
      "accuracyscore corresponding to  42  is  0.7559523809523809\n",
      "accuracyscore corresponding to  43  is  0.7321428571428571\n",
      "accuracyscore corresponding to  44  is  0.7619047619047619\n",
      "accuracyscore corresponding to  45  is  0.8095238095238095\n",
      "accuracyscore corresponding to  46  is  0.7380952380952381\n",
      "accuracyscore corresponding to  47  is  0.7976190476190477\n",
      "accuracyscore corresponding to  48  is  0.8035714285714286\n",
      "accuracyscore corresponding to  49  is  0.7976190476190477\n",
      "accuracyscore corresponding to  50  is  0.8035714285714286\n",
      "accuracyscore corresponding to  51  is  0.8035714285714286\n",
      "accuracyscore corresponding to  52  is  0.7559523809523809\n",
      "accuracyscore corresponding to  53  is  0.7857142857142857\n",
      "accuracyscore corresponding to  54  is  0.7261904761904762\n",
      "accuracyscore corresponding to  55  is  0.7738095238095238\n",
      "accuracyscore corresponding to  56  is  0.7619047619047619\n",
      "accuracyscore corresponding to  57  is  0.7857142857142857\n",
      "accuracyscore corresponding to  58  is  0.75\n",
      "accuracyscore corresponding to  59  is  0.7738095238095238\n",
      "accuracyscore corresponding to  60  is  0.8035714285714286\n",
      "accuracyscore corresponding to  61  is  0.7321428571428571\n",
      "accuracyscore corresponding to  62  is  0.8154761904761905\n",
      "accuracyscore corresponding to  63  is  0.7857142857142857\n",
      "accuracyscore corresponding to  64  is  0.8095238095238095\n",
      "accuracyscore corresponding to  65  is  0.7916666666666666\n",
      "accuracyscore corresponding to  66  is  0.7559523809523809\n",
      "accuracyscore corresponding to  67  is  0.8214285714285714\n",
      "accuracyscore corresponding to  68  is  0.8214285714285714\n",
      "accuracyscore corresponding to  69  is  0.7738095238095238\n",
      "accuracyscore corresponding to  70  is  0.7976190476190477\n",
      "accuracyscore corresponding to  71  is  0.7738095238095238\n",
      "accuracyscore corresponding to  72  is  0.7976190476190477\n",
      "accuracyscore corresponding to  73  is  0.8095238095238095\n",
      "accuracyscore corresponding to  74  is  0.8154761904761905\n",
      "accuracyscore corresponding to  75  is  0.8273809523809523\n",
      "accuracyscore corresponding to  76  is  0.7857142857142857\n",
      "accuracyscore corresponding to  77  is  0.7440476190476191\n",
      "accuracyscore corresponding to  78  is  0.8095238095238095\n",
      "accuracyscore corresponding to  79  is  0.7976190476190477\n",
      "accuracyscore corresponding to  80  is  0.7916666666666666\n",
      "accuracyscore corresponding to  81  is  0.7857142857142857\n",
      "accuracyscore corresponding to  82  is  0.8154761904761905\n",
      "accuracyscore corresponding to  83  is  0.7380952380952381\n",
      "accuracyscore corresponding to  84  is  0.75\n",
      "accuracyscore corresponding to  85  is  0.7797619047619048\n",
      "accuracyscore corresponding to  86  is  0.7916666666666666\n",
      "accuracyscore corresponding to  87  is  0.7440476190476191\n",
      "accuracyscore corresponding to  88  is  0.7976190476190477\n",
      "accuracyscore corresponding to  89  is  0.7678571428571429\n",
      "accuracyscore corresponding to  90  is  0.7976190476190477\n",
      "accuracyscore corresponding to  91  is  0.8035714285714286\n",
      "accuracyscore corresponding to  92  is  0.7976190476190477\n",
      "accuracyscore corresponding to  93  is  0.8214285714285714\n",
      "accuracyscore corresponding to  94  is  0.7440476190476191\n",
      "accuracyscore corresponding to  95  is  0.7857142857142857\n",
      "accuracyscore corresponding to  96  is  0.7738095238095238\n",
      "accuracyscore corresponding to  97  is  0.7083333333333334\n",
      "accuracyscore corresponding to  98  is  0.8333333333333334\n",
      "accuracyscore corresponding to  99  is  0.7857142857142857\n",
      "max accuracy score corresponding to  98  is  0.8333333333333334\n"
     ]
    },
    {
     "data": {
      "text/plain": [
       "98"
      ]
     },
     "execution_count": 79,
     "metadata": {},
     "output_type": "execute_result"
    }
   ],
   "source": [
    "ada_clf=AdaBoostClassifier(base_estimator=DecisionTreeClassifier(),learning_rate=1,n_estimators=500)\n",
    "max_accuracy_score(ada_clf,x,y)"
   ]
  },
  {
   "cell_type": "code",
   "execution_count": 80,
   "id": "508674a3",
   "metadata": {},
   "outputs": [
    {
     "name": "stdout",
     "output_type": "stream",
     "text": [
      "Mean roc auccuracy score for AdaBoostClassifier(base_estimator=DecisionTreeClassifier(), learning_rate=1,\n",
      "                   n_estimators=500) 0.7962075848303393\n",
      "standard deviation inaccuracy_scoref or AdaBoostClassifier(base_estimator=DecisionTreeClassifier(), learning_rate=1,\n",
      "                   n_estimators=500) 0.03618829811635704\n",
      "[0.76190476 0.80357143 0.8452381  0.7797619  0.82634731]\n"
     ]
    }
   ],
   "source": [
    "kfold(ada_clf,x,y)"
   ]
  },
  {
   "cell_type": "code",
   "execution_count": 81,
   "id": "e5562e90",
   "metadata": {},
   "outputs": [],
   "source": [
    "#comparitively logisticregression is performing better so lets use this\n",
    "#random state 62\n",
    "knn=KNeighborsClassifier()\n",
    "x_train,x_test,y_train,y_test=train_test_split(x, y,random_state = 62,test_size=0.20,stratify=y)\n",
    "lg_clsf.fit(x_train,y_train)\n",
    "y_pred=lg_clsf.predict(x_test)"
   ]
  },
  {
   "cell_type": "code",
   "execution_count": 82,
   "id": "bbb711c1",
   "metadata": {},
   "outputs": [
    {
     "name": "stdout",
     "output_type": "stream",
     "text": [
      "Confusion matrix \n",
      " [[89 14]\n",
      " [21 44]]\n",
      "accuracy score is :  0.7916666666666666\n",
      "classification report \n",
      "               precision    recall  f1-score   support\n",
      "\n",
      "           0       0.81      0.86      0.84       103\n",
      "           1       0.76      0.68      0.72        65\n",
      "\n",
      "    accuracy                           0.79       168\n",
      "   macro avg       0.78      0.77      0.78       168\n",
      "weighted avg       0.79      0.79      0.79       168\n",
      "\n",
      "AUC ROC Score:  0.7705003734129948\n"
     ]
    }
   ],
   "source": [
    "from sklearn.metrics import confusion_matrix\n",
    "from sklearn.metrics import classification_report\n",
    "from sklearn.metrics import f1_score\n",
    "from sklearn.metrics import roc_auc_score\n",
    "print(\"Confusion matrix \\n\",confusion_matrix(y_test,y_pred))\n",
    "print(\"accuracy score is : \",accuracy_score(y_test,y_pred))\n",
    "print(\"classification report \\n\",classification_report(y_test,y_pred))\n",
    "print(\"AUC ROC Score: \",roc_auc_score(y_test,y_pred))"
   ]
  },
  {
   "cell_type": "markdown",
   "id": "dde79be6",
   "metadata": {},
   "source": [
    "## Saving the model"
   ]
  },
  {
   "cell_type": "code",
   "execution_count": 83,
   "id": "4ee872d5",
   "metadata": {},
   "outputs": [
    {
     "data": {
      "text/plain": [
       "['survived_prediction_KNN_clsf.pkl']"
      ]
     },
     "execution_count": 83,
     "metadata": {},
     "output_type": "execute_result"
    }
   ],
   "source": [
    "import joblib \n",
    "  \n",
    "# Save the model as a pickle in a file \n",
    "joblib.dump(lg_clsf,'survived_prediction_KNN_clsf.pkl')"
   ]
  },
  {
   "cell_type": "code",
   "execution_count": null,
   "id": "63835e26",
   "metadata": {},
   "outputs": [],
   "source": []
  }
 ],
 "metadata": {
  "kernelspec": {
   "display_name": "Python 3",
   "language": "python",
   "name": "python3"
  },
  "language_info": {
   "codemirror_mode": {
    "name": "ipython",
    "version": 3
   },
   "file_extension": ".py",
   "mimetype": "text/x-python",
   "name": "python",
   "nbconvert_exporter": "python",
   "pygments_lexer": "ipython3",
   "version": "3.8.8"
  }
 },
 "nbformat": 4,
 "nbformat_minor": 5
}
